{
  "nbformat": 4,
  "nbformat_minor": 0,
  "metadata": {
    "colab": {
      "provenance": []
    },
    "kernelspec": {
      "name": "python3",
      "display_name": "Python 3"
    },
    "language_info": {
      "name": "python"
    }
  },
  "cells": [
    {
      "cell_type": "code",
      "execution_count": 1,
      "metadata": {
        "colab": {
          "base_uri": "https://localhost:8080/"
        },
        "id": "2_IzUAXYvgS2",
        "outputId": "607718cf-b1b7-429c-ca47-0123b2d7053b"
      },
      "outputs": [
        {
          "output_type": "stream",
          "name": "stdout",
          "text": [
            "Mounted at /content/drive\n"
          ]
        }
      ],
      "source": [
        "from google.colab import drive\n",
        "drive.mount('/content/drive')"
      ]
    },
    {
      "cell_type": "code",
      "source": [
        "import pandas as pd\n",
        "import numpy as np\n"
      ],
      "metadata": {
        "id": "FAxfPqyc_Ybu"
      },
      "execution_count": 2,
      "outputs": []
    },
    {
      "cell_type": "code",
      "source": [
        "train_df = pd.read_csv('/content/drive/MyDrive/Colab Notebooks/train.csv')\n",
        "train_df.head(10)"
      ],
      "metadata": {
        "colab": {
          "base_uri": "https://localhost:8080/",
          "height": 482
        },
        "id": "QCtBrZKQ_new",
        "outputId": "51b926f2-3e1b-4094-919b-bcf0bde2948d"
      },
      "execution_count": 3,
      "outputs": [
        {
          "output_type": "execute_result",
          "data": {
            "text/plain": [
              "   bant_submit           customer_country business_unit  com_reg_ver_win_rate  \\\n",
              "0         1.00   /Quezon City/Philippines            AS              0.066667   \n",
              "1         1.00         /PH-00/Philippines            AS              0.066667   \n",
              "2         1.00            /Kolkata /India            AS              0.088889   \n",
              "3         1.00         /Bhubaneswar/India            AS              0.088889   \n",
              "4         1.00           /Hyderabad/India            AS              0.088889   \n",
              "5         1.00             /Abuja/Nigeria            AS              0.040816   \n",
              "6         0.75  /Jeddah, KSA/Saudi Arabia            AS              0.040816   \n",
              "7         1.00            /Guwahati/India            AS              0.088889   \n",
              "8         0.75     /Cebu city/Philippines            AS              0.066667   \n",
              "9         0.75     /hauz khas,delhi/India            AS              0.088889   \n",
              "\n",
              "   customer_idx          customer_type  enterprise  historical_existing_cnt  \\\n",
              "0         32160           End-Customer  Enterprise                      NaN   \n",
              "1         23122           End-Customer  Enterprise                     12.0   \n",
              "2          1755           End-Customer  Enterprise                    144.0   \n",
              "3          4919           End-Customer  Enterprise                      NaN   \n",
              "4         17126  Specifier/ Influencer  Enterprise                      NaN   \n",
              "5         16328           End-Customer         SMB                      NaN   \n",
              "6         20664           End-Customer         SMB                      NaN   \n",
              "7         17983           End-Customer         SMB                      NaN   \n",
              "8         30867  Specifier/ Influencer  Enterprise                      3.0   \n",
              "9          6084           End-Customer         SMB                      NaN   \n",
              "\n",
              "   id_strategic_ver  it_strategic_ver  ...  response_corporate  \\\n",
              "0               NaN               NaN  ...               LGEPH   \n",
              "1               NaN               NaN  ...               LGEPH   \n",
              "2               NaN               NaN  ...               LGEIL   \n",
              "3               NaN               NaN  ...               LGEIL   \n",
              "4               NaN               NaN  ...               LGEIL   \n",
              "5               NaN               NaN  ...               LGEAF   \n",
              "6               NaN               NaN  ...               LGESJ   \n",
              "7               NaN               NaN  ...               LGEIL   \n",
              "8               NaN               NaN  ...               LGEPH   \n",
              "9               NaN               NaN  ...               LGEIL   \n",
              "\n",
              "     expected_timeline  ver_cus ver_pro ver_win_rate_x ver_win_ratio_per_bu  \\\n",
              "0   less than 3 months        1       0       0.003079             0.026846   \n",
              "1   less than 3 months        1       0       0.003079             0.026846   \n",
              "2   less than 3 months        1       0       0.003079             0.026846   \n",
              "3   less than 3 months        1       0       0.003079             0.026846   \n",
              "4   less than 3 months        0       0       0.003079             0.026846   \n",
              "5   less than 3 months        1       0       0.003079             0.026846   \n",
              "6                  NaN        1       0       0.003079             0.026846   \n",
              "7   less than 3 months        1       0       0.003079             0.026846   \n",
              "8   less than 3 months        0       0       0.003079             0.026846   \n",
              "9  3 months ~ 6 months        1       0       0.003079             0.026846   \n",
              "\n",
              "        business_area business_subarea lead_owner is_converted  \n",
              "0  corporate / office      Engineering          0         True  \n",
              "1  corporate / office      Advertising          1         True  \n",
              "2  corporate / office     Construction          2         True  \n",
              "3  corporate / office      IT/Software          3         True  \n",
              "4  corporate / office              NaN          4         True  \n",
              "5  corporate / office      Engineering          5         True  \n",
              "6  corporate / office      Engineering          6         True  \n",
              "7  corporate / office    Manufacturing          7         True  \n",
              "8  corporate / office     Construction          8         True  \n",
              "9  corporate / office              NaN          9         True  \n",
              "\n",
              "[10 rows x 29 columns]"
            ],
            "text/html": [
              "\n",
              "  <div id=\"df-6ccfea10-a0b9-4861-973c-f33d7d3cfbab\" class=\"colab-df-container\">\n",
              "    <div>\n",
              "<style scoped>\n",
              "    .dataframe tbody tr th:only-of-type {\n",
              "        vertical-align: middle;\n",
              "    }\n",
              "\n",
              "    .dataframe tbody tr th {\n",
              "        vertical-align: top;\n",
              "    }\n",
              "\n",
              "    .dataframe thead th {\n",
              "        text-align: right;\n",
              "    }\n",
              "</style>\n",
              "<table border=\"1\" class=\"dataframe\">\n",
              "  <thead>\n",
              "    <tr style=\"text-align: right;\">\n",
              "      <th></th>\n",
              "      <th>bant_submit</th>\n",
              "      <th>customer_country</th>\n",
              "      <th>business_unit</th>\n",
              "      <th>com_reg_ver_win_rate</th>\n",
              "      <th>customer_idx</th>\n",
              "      <th>customer_type</th>\n",
              "      <th>enterprise</th>\n",
              "      <th>historical_existing_cnt</th>\n",
              "      <th>id_strategic_ver</th>\n",
              "      <th>it_strategic_ver</th>\n",
              "      <th>...</th>\n",
              "      <th>response_corporate</th>\n",
              "      <th>expected_timeline</th>\n",
              "      <th>ver_cus</th>\n",
              "      <th>ver_pro</th>\n",
              "      <th>ver_win_rate_x</th>\n",
              "      <th>ver_win_ratio_per_bu</th>\n",
              "      <th>business_area</th>\n",
              "      <th>business_subarea</th>\n",
              "      <th>lead_owner</th>\n",
              "      <th>is_converted</th>\n",
              "    </tr>\n",
              "  </thead>\n",
              "  <tbody>\n",
              "    <tr>\n",
              "      <th>0</th>\n",
              "      <td>1.00</td>\n",
              "      <td>/Quezon City/Philippines</td>\n",
              "      <td>AS</td>\n",
              "      <td>0.066667</td>\n",
              "      <td>32160</td>\n",
              "      <td>End-Customer</td>\n",
              "      <td>Enterprise</td>\n",
              "      <td>NaN</td>\n",
              "      <td>NaN</td>\n",
              "      <td>NaN</td>\n",
              "      <td>...</td>\n",
              "      <td>LGEPH</td>\n",
              "      <td>less than 3 months</td>\n",
              "      <td>1</td>\n",
              "      <td>0</td>\n",
              "      <td>0.003079</td>\n",
              "      <td>0.026846</td>\n",
              "      <td>corporate / office</td>\n",
              "      <td>Engineering</td>\n",
              "      <td>0</td>\n",
              "      <td>True</td>\n",
              "    </tr>\n",
              "    <tr>\n",
              "      <th>1</th>\n",
              "      <td>1.00</td>\n",
              "      <td>/PH-00/Philippines</td>\n",
              "      <td>AS</td>\n",
              "      <td>0.066667</td>\n",
              "      <td>23122</td>\n",
              "      <td>End-Customer</td>\n",
              "      <td>Enterprise</td>\n",
              "      <td>12.0</td>\n",
              "      <td>NaN</td>\n",
              "      <td>NaN</td>\n",
              "      <td>...</td>\n",
              "      <td>LGEPH</td>\n",
              "      <td>less than 3 months</td>\n",
              "      <td>1</td>\n",
              "      <td>0</td>\n",
              "      <td>0.003079</td>\n",
              "      <td>0.026846</td>\n",
              "      <td>corporate / office</td>\n",
              "      <td>Advertising</td>\n",
              "      <td>1</td>\n",
              "      <td>True</td>\n",
              "    </tr>\n",
              "    <tr>\n",
              "      <th>2</th>\n",
              "      <td>1.00</td>\n",
              "      <td>/Kolkata /India</td>\n",
              "      <td>AS</td>\n",
              "      <td>0.088889</td>\n",
              "      <td>1755</td>\n",
              "      <td>End-Customer</td>\n",
              "      <td>Enterprise</td>\n",
              "      <td>144.0</td>\n",
              "      <td>NaN</td>\n",
              "      <td>NaN</td>\n",
              "      <td>...</td>\n",
              "      <td>LGEIL</td>\n",
              "      <td>less than 3 months</td>\n",
              "      <td>1</td>\n",
              "      <td>0</td>\n",
              "      <td>0.003079</td>\n",
              "      <td>0.026846</td>\n",
              "      <td>corporate / office</td>\n",
              "      <td>Construction</td>\n",
              "      <td>2</td>\n",
              "      <td>True</td>\n",
              "    </tr>\n",
              "    <tr>\n",
              "      <th>3</th>\n",
              "      <td>1.00</td>\n",
              "      <td>/Bhubaneswar/India</td>\n",
              "      <td>AS</td>\n",
              "      <td>0.088889</td>\n",
              "      <td>4919</td>\n",
              "      <td>End-Customer</td>\n",
              "      <td>Enterprise</td>\n",
              "      <td>NaN</td>\n",
              "      <td>NaN</td>\n",
              "      <td>NaN</td>\n",
              "      <td>...</td>\n",
              "      <td>LGEIL</td>\n",
              "      <td>less than 3 months</td>\n",
              "      <td>1</td>\n",
              "      <td>0</td>\n",
              "      <td>0.003079</td>\n",
              "      <td>0.026846</td>\n",
              "      <td>corporate / office</td>\n",
              "      <td>IT/Software</td>\n",
              "      <td>3</td>\n",
              "      <td>True</td>\n",
              "    </tr>\n",
              "    <tr>\n",
              "      <th>4</th>\n",
              "      <td>1.00</td>\n",
              "      <td>/Hyderabad/India</td>\n",
              "      <td>AS</td>\n",
              "      <td>0.088889</td>\n",
              "      <td>17126</td>\n",
              "      <td>Specifier/ Influencer</td>\n",
              "      <td>Enterprise</td>\n",
              "      <td>NaN</td>\n",
              "      <td>NaN</td>\n",
              "      <td>NaN</td>\n",
              "      <td>...</td>\n",
              "      <td>LGEIL</td>\n",
              "      <td>less than 3 months</td>\n",
              "      <td>0</td>\n",
              "      <td>0</td>\n",
              "      <td>0.003079</td>\n",
              "      <td>0.026846</td>\n",
              "      <td>corporate / office</td>\n",
              "      <td>NaN</td>\n",
              "      <td>4</td>\n",
              "      <td>True</td>\n",
              "    </tr>\n",
              "    <tr>\n",
              "      <th>5</th>\n",
              "      <td>1.00</td>\n",
              "      <td>/Abuja/Nigeria</td>\n",
              "      <td>AS</td>\n",
              "      <td>0.040816</td>\n",
              "      <td>16328</td>\n",
              "      <td>End-Customer</td>\n",
              "      <td>SMB</td>\n",
              "      <td>NaN</td>\n",
              "      <td>NaN</td>\n",
              "      <td>NaN</td>\n",
              "      <td>...</td>\n",
              "      <td>LGEAF</td>\n",
              "      <td>less than 3 months</td>\n",
              "      <td>1</td>\n",
              "      <td>0</td>\n",
              "      <td>0.003079</td>\n",
              "      <td>0.026846</td>\n",
              "      <td>corporate / office</td>\n",
              "      <td>Engineering</td>\n",
              "      <td>5</td>\n",
              "      <td>True</td>\n",
              "    </tr>\n",
              "    <tr>\n",
              "      <th>6</th>\n",
              "      <td>0.75</td>\n",
              "      <td>/Jeddah, KSA/Saudi Arabia</td>\n",
              "      <td>AS</td>\n",
              "      <td>0.040816</td>\n",
              "      <td>20664</td>\n",
              "      <td>End-Customer</td>\n",
              "      <td>SMB</td>\n",
              "      <td>NaN</td>\n",
              "      <td>NaN</td>\n",
              "      <td>NaN</td>\n",
              "      <td>...</td>\n",
              "      <td>LGESJ</td>\n",
              "      <td>NaN</td>\n",
              "      <td>1</td>\n",
              "      <td>0</td>\n",
              "      <td>0.003079</td>\n",
              "      <td>0.026846</td>\n",
              "      <td>corporate / office</td>\n",
              "      <td>Engineering</td>\n",
              "      <td>6</td>\n",
              "      <td>True</td>\n",
              "    </tr>\n",
              "    <tr>\n",
              "      <th>7</th>\n",
              "      <td>1.00</td>\n",
              "      <td>/Guwahati/India</td>\n",
              "      <td>AS</td>\n",
              "      <td>0.088889</td>\n",
              "      <td>17983</td>\n",
              "      <td>End-Customer</td>\n",
              "      <td>SMB</td>\n",
              "      <td>NaN</td>\n",
              "      <td>NaN</td>\n",
              "      <td>NaN</td>\n",
              "      <td>...</td>\n",
              "      <td>LGEIL</td>\n",
              "      <td>less than 3 months</td>\n",
              "      <td>1</td>\n",
              "      <td>0</td>\n",
              "      <td>0.003079</td>\n",
              "      <td>0.026846</td>\n",
              "      <td>corporate / office</td>\n",
              "      <td>Manufacturing</td>\n",
              "      <td>7</td>\n",
              "      <td>True</td>\n",
              "    </tr>\n",
              "    <tr>\n",
              "      <th>8</th>\n",
              "      <td>0.75</td>\n",
              "      <td>/Cebu city/Philippines</td>\n",
              "      <td>AS</td>\n",
              "      <td>0.066667</td>\n",
              "      <td>30867</td>\n",
              "      <td>Specifier/ Influencer</td>\n",
              "      <td>Enterprise</td>\n",
              "      <td>3.0</td>\n",
              "      <td>NaN</td>\n",
              "      <td>NaN</td>\n",
              "      <td>...</td>\n",
              "      <td>LGEPH</td>\n",
              "      <td>less than 3 months</td>\n",
              "      <td>0</td>\n",
              "      <td>0</td>\n",
              "      <td>0.003079</td>\n",
              "      <td>0.026846</td>\n",
              "      <td>corporate / office</td>\n",
              "      <td>Construction</td>\n",
              "      <td>8</td>\n",
              "      <td>True</td>\n",
              "    </tr>\n",
              "    <tr>\n",
              "      <th>9</th>\n",
              "      <td>0.75</td>\n",
              "      <td>/hauz khas,delhi/India</td>\n",
              "      <td>AS</td>\n",
              "      <td>0.088889</td>\n",
              "      <td>6084</td>\n",
              "      <td>End-Customer</td>\n",
              "      <td>SMB</td>\n",
              "      <td>NaN</td>\n",
              "      <td>NaN</td>\n",
              "      <td>NaN</td>\n",
              "      <td>...</td>\n",
              "      <td>LGEIL</td>\n",
              "      <td>3 months ~ 6 months</td>\n",
              "      <td>1</td>\n",
              "      <td>0</td>\n",
              "      <td>0.003079</td>\n",
              "      <td>0.026846</td>\n",
              "      <td>corporate / office</td>\n",
              "      <td>NaN</td>\n",
              "      <td>9</td>\n",
              "      <td>True</td>\n",
              "    </tr>\n",
              "  </tbody>\n",
              "</table>\n",
              "<p>10 rows × 29 columns</p>\n",
              "</div>\n",
              "    <div class=\"colab-df-buttons\">\n",
              "\n",
              "  <div class=\"colab-df-container\">\n",
              "    <button class=\"colab-df-convert\" onclick=\"convertToInteractive('df-6ccfea10-a0b9-4861-973c-f33d7d3cfbab')\"\n",
              "            title=\"Convert this dataframe to an interactive table.\"\n",
              "            style=\"display:none;\">\n",
              "\n",
              "  <svg xmlns=\"http://www.w3.org/2000/svg\" height=\"24px\" viewBox=\"0 -960 960 960\">\n",
              "    <path d=\"M120-120v-720h720v720H120Zm60-500h600v-160H180v160Zm220 220h160v-160H400v160Zm0 220h160v-160H400v160ZM180-400h160v-160H180v160Zm440 0h160v-160H620v160ZM180-180h160v-160H180v160Zm440 0h160v-160H620v160Z\"/>\n",
              "  </svg>\n",
              "    </button>\n",
              "\n",
              "  <style>\n",
              "    .colab-df-container {\n",
              "      display:flex;\n",
              "      gap: 12px;\n",
              "    }\n",
              "\n",
              "    .colab-df-convert {\n",
              "      background-color: #E8F0FE;\n",
              "      border: none;\n",
              "      border-radius: 50%;\n",
              "      cursor: pointer;\n",
              "      display: none;\n",
              "      fill: #1967D2;\n",
              "      height: 32px;\n",
              "      padding: 0 0 0 0;\n",
              "      width: 32px;\n",
              "    }\n",
              "\n",
              "    .colab-df-convert:hover {\n",
              "      background-color: #E2EBFA;\n",
              "      box-shadow: 0px 1px 2px rgba(60, 64, 67, 0.3), 0px 1px 3px 1px rgba(60, 64, 67, 0.15);\n",
              "      fill: #174EA6;\n",
              "    }\n",
              "\n",
              "    .colab-df-buttons div {\n",
              "      margin-bottom: 4px;\n",
              "    }\n",
              "\n",
              "    [theme=dark] .colab-df-convert {\n",
              "      background-color: #3B4455;\n",
              "      fill: #D2E3FC;\n",
              "    }\n",
              "\n",
              "    [theme=dark] .colab-df-convert:hover {\n",
              "      background-color: #434B5C;\n",
              "      box-shadow: 0px 1px 3px 1px rgba(0, 0, 0, 0.15);\n",
              "      filter: drop-shadow(0px 1px 2px rgba(0, 0, 0, 0.3));\n",
              "      fill: #FFFFFF;\n",
              "    }\n",
              "  </style>\n",
              "\n",
              "    <script>\n",
              "      const buttonEl =\n",
              "        document.querySelector('#df-6ccfea10-a0b9-4861-973c-f33d7d3cfbab button.colab-df-convert');\n",
              "      buttonEl.style.display =\n",
              "        google.colab.kernel.accessAllowed ? 'block' : 'none';\n",
              "\n",
              "      async function convertToInteractive(key) {\n",
              "        const element = document.querySelector('#df-6ccfea10-a0b9-4861-973c-f33d7d3cfbab');\n",
              "        const dataTable =\n",
              "          await google.colab.kernel.invokeFunction('convertToInteractive',\n",
              "                                                    [key], {});\n",
              "        if (!dataTable) return;\n",
              "\n",
              "        const docLinkHtml = 'Like what you see? Visit the ' +\n",
              "          '<a target=\"_blank\" href=https://colab.research.google.com/notebooks/data_table.ipynb>data table notebook</a>'\n",
              "          + ' to learn more about interactive tables.';\n",
              "        element.innerHTML = '';\n",
              "        dataTable['output_type'] = 'display_data';\n",
              "        await google.colab.output.renderOutput(dataTable, element);\n",
              "        const docLink = document.createElement('div');\n",
              "        docLink.innerHTML = docLinkHtml;\n",
              "        element.appendChild(docLink);\n",
              "      }\n",
              "    </script>\n",
              "  </div>\n",
              "\n",
              "\n",
              "<div id=\"df-c99c1ff0-8182-4e9e-8680-644244b5562f\">\n",
              "  <button class=\"colab-df-quickchart\" onclick=\"quickchart('df-c99c1ff0-8182-4e9e-8680-644244b5562f')\"\n",
              "            title=\"Suggest charts\"\n",
              "            style=\"display:none;\">\n",
              "\n",
              "<svg xmlns=\"http://www.w3.org/2000/svg\" height=\"24px\"viewBox=\"0 0 24 24\"\n",
              "     width=\"24px\">\n",
              "    <g>\n",
              "        <path d=\"M19 3H5c-1.1 0-2 .9-2 2v14c0 1.1.9 2 2 2h14c1.1 0 2-.9 2-2V5c0-1.1-.9-2-2-2zM9 17H7v-7h2v7zm4 0h-2V7h2v10zm4 0h-2v-4h2v4z\"/>\n",
              "    </g>\n",
              "</svg>\n",
              "  </button>\n",
              "\n",
              "<style>\n",
              "  .colab-df-quickchart {\n",
              "      --bg-color: #E8F0FE;\n",
              "      --fill-color: #1967D2;\n",
              "      --hover-bg-color: #E2EBFA;\n",
              "      --hover-fill-color: #174EA6;\n",
              "      --disabled-fill-color: #AAA;\n",
              "      --disabled-bg-color: #DDD;\n",
              "  }\n",
              "\n",
              "  [theme=dark] .colab-df-quickchart {\n",
              "      --bg-color: #3B4455;\n",
              "      --fill-color: #D2E3FC;\n",
              "      --hover-bg-color: #434B5C;\n",
              "      --hover-fill-color: #FFFFFF;\n",
              "      --disabled-bg-color: #3B4455;\n",
              "      --disabled-fill-color: #666;\n",
              "  }\n",
              "\n",
              "  .colab-df-quickchart {\n",
              "    background-color: var(--bg-color);\n",
              "    border: none;\n",
              "    border-radius: 50%;\n",
              "    cursor: pointer;\n",
              "    display: none;\n",
              "    fill: var(--fill-color);\n",
              "    height: 32px;\n",
              "    padding: 0;\n",
              "    width: 32px;\n",
              "  }\n",
              "\n",
              "  .colab-df-quickchart:hover {\n",
              "    background-color: var(--hover-bg-color);\n",
              "    box-shadow: 0 1px 2px rgba(60, 64, 67, 0.3), 0 1px 3px 1px rgba(60, 64, 67, 0.15);\n",
              "    fill: var(--button-hover-fill-color);\n",
              "  }\n",
              "\n",
              "  .colab-df-quickchart-complete:disabled,\n",
              "  .colab-df-quickchart-complete:disabled:hover {\n",
              "    background-color: var(--disabled-bg-color);\n",
              "    fill: var(--disabled-fill-color);\n",
              "    box-shadow: none;\n",
              "  }\n",
              "\n",
              "  .colab-df-spinner {\n",
              "    border: 2px solid var(--fill-color);\n",
              "    border-color: transparent;\n",
              "    border-bottom-color: var(--fill-color);\n",
              "    animation:\n",
              "      spin 1s steps(1) infinite;\n",
              "  }\n",
              "\n",
              "  @keyframes spin {\n",
              "    0% {\n",
              "      border-color: transparent;\n",
              "      border-bottom-color: var(--fill-color);\n",
              "      border-left-color: var(--fill-color);\n",
              "    }\n",
              "    20% {\n",
              "      border-color: transparent;\n",
              "      border-left-color: var(--fill-color);\n",
              "      border-top-color: var(--fill-color);\n",
              "    }\n",
              "    30% {\n",
              "      border-color: transparent;\n",
              "      border-left-color: var(--fill-color);\n",
              "      border-top-color: var(--fill-color);\n",
              "      border-right-color: var(--fill-color);\n",
              "    }\n",
              "    40% {\n",
              "      border-color: transparent;\n",
              "      border-right-color: var(--fill-color);\n",
              "      border-top-color: var(--fill-color);\n",
              "    }\n",
              "    60% {\n",
              "      border-color: transparent;\n",
              "      border-right-color: var(--fill-color);\n",
              "    }\n",
              "    80% {\n",
              "      border-color: transparent;\n",
              "      border-right-color: var(--fill-color);\n",
              "      border-bottom-color: var(--fill-color);\n",
              "    }\n",
              "    90% {\n",
              "      border-color: transparent;\n",
              "      border-bottom-color: var(--fill-color);\n",
              "    }\n",
              "  }\n",
              "</style>\n",
              "\n",
              "  <script>\n",
              "    async function quickchart(key) {\n",
              "      const quickchartButtonEl =\n",
              "        document.querySelector('#' + key + ' button');\n",
              "      quickchartButtonEl.disabled = true;  // To prevent multiple clicks.\n",
              "      quickchartButtonEl.classList.add('colab-df-spinner');\n",
              "      try {\n",
              "        const charts = await google.colab.kernel.invokeFunction(\n",
              "            'suggestCharts', [key], {});\n",
              "      } catch (error) {\n",
              "        console.error('Error during call to suggestCharts:', error);\n",
              "      }\n",
              "      quickchartButtonEl.classList.remove('colab-df-spinner');\n",
              "      quickchartButtonEl.classList.add('colab-df-quickchart-complete');\n",
              "    }\n",
              "    (() => {\n",
              "      let quickchartButtonEl =\n",
              "        document.querySelector('#df-c99c1ff0-8182-4e9e-8680-644244b5562f button');\n",
              "      quickchartButtonEl.style.display =\n",
              "        google.colab.kernel.accessAllowed ? 'block' : 'none';\n",
              "    })();\n",
              "  </script>\n",
              "</div>\n",
              "\n",
              "    </div>\n",
              "  </div>\n"
            ]
          },
          "metadata": {},
          "execution_count": 3
        }
      ]
    },
    {
      "cell_type": "code",
      "source": [
        "train_df.info()    # null 값이 존재하는 열 많음! (59,299 아니면 모두 null 값 존재하는것)"
      ],
      "metadata": {
        "colab": {
          "base_uri": "https://localhost:8080/"
        },
        "id": "iypa0saI_65g",
        "outputId": "2aa0c7a7-8cfc-45eb-acdd-0bcaf526c220"
      },
      "execution_count": 7,
      "outputs": [
        {
          "output_type": "stream",
          "name": "stdout",
          "text": [
            "<class 'pandas.core.frame.DataFrame'>\n",
            "RangeIndex: 59299 entries, 0 to 59298\n",
            "Data columns (total 29 columns):\n",
            " #   Column                   Non-Null Count  Dtype  \n",
            "---  ------                   --------------  -----  \n",
            " 0   bant_submit              59299 non-null  float64\n",
            " 1   customer_country         58317 non-null  object \n",
            " 2   business_unit            59299 non-null  object \n",
            " 3   com_reg_ver_win_rate     14568 non-null  float64\n",
            " 4   customer_idx             59299 non-null  int64  \n",
            " 5   customer_type            15338 non-null  object \n",
            " 6   enterprise               59299 non-null  object \n",
            " 7   historical_existing_cnt  13756 non-null  float64\n",
            " 8   id_strategic_ver         3444 non-null   float64\n",
            " 9   it_strategic_ver         1121 non-null   float64\n",
            " 10  idit_strategic_ver       4565 non-null   float64\n",
            " 11  customer_job             40566 non-null  object \n",
            " 12  lead_desc_length         59299 non-null  int64  \n",
            " 13  inquiry_type             58358 non-null  object \n",
            " 14  product_category         39925 non-null  object \n",
            " 15  product_subcategory      9235 non-null   object \n",
            " 16  product_modelname        9229 non-null   object \n",
            " 17  customer_country.1       58317 non-null  object \n",
            " 18  customer_position        59299 non-null  object \n",
            " 19  response_corporate       59299 non-null  object \n",
            " 20  expected_timeline        28436 non-null  object \n",
            " 21  ver_cus                  59299 non-null  int64  \n",
            " 22  ver_pro                  59299 non-null  int64  \n",
            " 23  ver_win_rate_x           18417 non-null  float64\n",
            " 24  ver_win_ratio_per_bu     15304 non-null  float64\n",
            " 25  business_area            18417 non-null  object \n",
            " 26  business_subarea         5526 non-null   object \n",
            " 27  lead_owner               59299 non-null  int64  \n",
            " 28  is_converted             59299 non-null  bool   \n",
            "dtypes: bool(1), float64(8), int64(5), object(15)\n",
            "memory usage: 12.7+ MB\n"
          ]
        }
      ]
    },
    {
      "cell_type": "code",
      "source": [
        "# train 데이터에 있는 column별 category 값 확인\n",
        "print(train_df.columns.values)"
      ],
      "metadata": {
        "colab": {
          "base_uri": "https://localhost:8080/"
        },
        "id": "LGYWDTGjAyRX",
        "outputId": "fcfff088-7613-4ea7-daa1-bed5c88fa7d0"
      },
      "execution_count": 8,
      "outputs": [
        {
          "output_type": "stream",
          "name": "stdout",
          "text": [
            "['bant_submit' 'customer_country' 'business_unit' 'com_reg_ver_win_rate'\n",
            " 'customer_idx' 'customer_type' 'enterprise' 'historical_existing_cnt'\n",
            " 'id_strategic_ver' 'it_strategic_ver' 'idit_strategic_ver' 'customer_job'\n",
            " 'lead_desc_length' 'inquiry_type' 'product_category'\n",
            " 'product_subcategory' 'product_modelname' 'customer_country.1'\n",
            " 'customer_position' 'response_corporate' 'expected_timeline' 'ver_cus'\n",
            " 'ver_pro' 'ver_win_rate_x' 'ver_win_ratio_per_bu' 'business_area'\n",
            " 'business_subarea' 'lead_owner' 'is_converted']\n"
          ]
        }
      ]
    },
    {
      "cell_type": "markdown",
      "source": [
        "## **bant_submit**\n",
        "\n",
        "MQL 구성 요소들 중 아래 4가지 항목에 대해 작성된 값의 비율\n",
        "*   Budget (예산)\n",
        "*   Title (고객의 직책/직급)\n",
        "*   Needs (요구사항)\n",
        "*   Timeline (희망 납기일)"
      ],
      "metadata": {
        "id": "V86F2AJHA_Do"
      }
    },
    {
      "cell_type": "code",
      "source": [
        "# bant_submit (합산: 59,299 확인!)\n",
        "# 1로 가까울수록 좋은건지? - 확인필요\n",
        "train_df['bant_submit'].value_counts()"
      ],
      "metadata": {
        "colab": {
          "base_uri": "https://localhost:8080/"
        },
        "id": "r7v1d6iGA3F7",
        "outputId": "43e740a1-e1b9-47f7-a57c-18c83f9fb9ea"
      },
      "execution_count": 9,
      "outputs": [
        {
          "output_type": "execute_result",
          "data": {
            "text/plain": [
              "0.50    17192\n",
              "1.00    17061\n",
              "0.25    12852\n",
              "0.75    11681\n",
              "0.00      513\n",
              "Name: bant_submit, dtype: int64"
            ]
          },
          "metadata": {},
          "execution_count": 9
        }
      ]
    },
    {
      "cell_type": "markdown",
      "source": [
        "## **customer_country**\n",
        "고객의 국적을 나타낸다.\n",
        "*  /... /도시2/도시1/나라명\n",
        "*  default 값: //나라명\n",
        "*  도시가 여러개 들어갈 수도 있음 → 쉼표로 구분  e.g. /Tirurangadi, Malappuram, Kerala/India)"
      ],
      "metadata": {
        "id": "dUGoX3TpCpxJ"
      }
    },
    {
      "cell_type": "code",
      "source": [
        "# 나라별, 지역별로 나눴을 때 구매까지 이어지는지를 볼 수 있겠음\n",
        "## 나라만 볼지, 지역까지 세부적으로 들어가서 볼지, 비교하면서 결정하는 방법!\n",
        "train_df['customer_country'].value_counts()"
      ],
      "metadata": {
        "colab": {
          "base_uri": "https://localhost:8080/"
        },
        "id": "0Y43dr-lCOmb",
        "outputId": "76615fcd-c942-4d1b-f743-a08464a9bb83"
      },
      "execution_count": 11,
      "outputs": [
        {
          "output_type": "execute_result",
          "data": {
            "text/plain": [
              "//India                                   3037\n",
              "/São Paulo/Brazil                         1344\n",
              "//United States                            962\n",
              "//United Kingdom                           805\n",
              "//Saudi Arabia                             718\n",
              "                                          ... \n",
              "/Hydrated/India                              1\n",
              "/Tirurangadi, Malappuram, Kerala/India       1\n",
              "/Canoinhas / SC/Brazil                       1\n",
              "/Tupã/SP/Brazil                              1\n",
              "/paris/France                                1\n",
              "Name: customer_country, Length: 15399, dtype: int64"
            ]
          },
          "metadata": {},
          "execution_count": 11
        }
      ]
    },
    {
      "cell_type": "code",
      "source": [
        "# 해당 열에 null 값이 하나라도 존재하면 True를 반환 → null 처리필요!!\n",
        "has_null_values = train_df['customer_country'].isnull().any()\n",
        "print(has_null_values)\n",
        "\n",
        "null_count = train_df['customer_country'].isnull().sum()\n",
        "print(f\"Null 값의 개수: {null_count}\")"
      ],
      "metadata": {
        "colab": {
          "base_uri": "https://localhost:8080/"
        },
        "id": "PEvMHnUhF9CE",
        "outputId": "19b2ac93-f850-4045-b265-2d74ca5a1544"
      },
      "execution_count": 25,
      "outputs": [
        {
          "output_type": "stream",
          "name": "stdout",
          "text": [
            "True\n",
            "Null 값의 개수: 982\n"
          ]
        }
      ]
    },
    {
      "cell_type": "code",
      "source": [
        "# 맨 뒤 부분이 나라명인줄 알았으나, 약 200위권 부터는 이상한 값이 들어가 있음\n",
        "## 전체 category 종류는 582개!\n",
        "\n",
        "country = train_df['customer_country'].str.split('/').str[-1].value_counts().head(200)\n",
        "print(country)"
      ],
      "metadata": {
        "colab": {
          "base_uri": "https://localhost:8080/"
        },
        "id": "MnnIU-9AEGmQ",
        "outputId": "8340fe47-a554-4236-dce6-954afd7124a3"
      },
      "execution_count": 20,
      "outputs": [
        {
          "output_type": "stream",
          "name": "stdout",
          "text": [
            "India                               16578\n",
            "Brazil                               8676\n",
            "United States                        3767\n",
            "Mexico                               2749\n",
            "Philippines                          2538\n",
            "                                    ...  \n",
            " South Africa                           2\n",
            " Türkiye                                2\n",
            "MI 48827                                2\n",
            "300 East Park Drive                     2\n",
            "6564 Headquarters DrPlanoTX75051        2\n",
            "Name: customer_country, Length: 200, dtype: int64\n"
          ]
        }
      ]
    },
    {
      "cell_type": "markdown",
      "source": [
        "## **business_unit**\n",
        "MQL 요청 상품에 대응되는 사업부 (각각 무슨 부서를 뜻하는지 확인필요)\n",
        "*  ID\n",
        "*  AS\n",
        "*  IT\n",
        "*  Solution\n",
        "*  CM\n"
      ],
      "metadata": {
        "id": "pzvCHvGrDbXU"
      }
    },
    {
      "cell_type": "code",
      "source": [
        "# 합산값 59,299 확인!\n",
        "\n",
        "train_df['business_unit'].value_counts()"
      ],
      "metadata": {
        "colab": {
          "base_uri": "https://localhost:8080/"
        },
        "id": "_qVD1b3_DdfR",
        "outputId": "42f96f59-eee9-411c-e535-97e15004dc03"
      },
      "execution_count": 12,
      "outputs": [
        {
          "output_type": "execute_result",
          "data": {
            "text/plain": [
              "ID          25563\n",
              "AS          24774\n",
              "IT           8664\n",
              "Solution      296\n",
              "CM              2\n",
              "Name: business_unit, dtype: int64"
            ]
          },
          "metadata": {},
          "execution_count": 12
        }
      ]
    },
    {
      "cell_type": "markdown",
      "source": [
        "## **com_reg_ver_win_rate**\n",
        "Vertical Level 1, business unit, region을 기준으로 oppty 비율을 계산\n",
        "(*oppty: 얼마나 많은 유효 딜을 관리하고 있는가)"
      ],
      "metadata": {
        "id": "eGnGXD55Gv5S"
      }
    },
    {
      "cell_type": "code",
      "source": [
        "train_df['com_reg_ver_win_rate'].value_counts()"
      ],
      "metadata": {
        "colab": {
          "base_uri": "https://localhost:8080/"
        },
        "id": "UDJJPknYHi-r",
        "outputId": "2fdc6236-b884-4ddb-accb-bf94ffcad19f"
      },
      "execution_count": 29,
      "outputs": [
        {
          "output_type": "execute_result",
          "data": {
            "text/plain": [
              "0.074949    1130\n",
              "0.003937     803\n",
              "0.073248     791\n",
              "0.642857     782\n",
              "0.003788     713\n",
              "            ... \n",
              "0.363636      13\n",
              "0.444444      12\n",
              "0.400000      12\n",
              "1.000000      10\n",
              "0.200000       5\n",
              "Name: com_reg_ver_win_rate, Length: 80, dtype: int64"
            ]
          },
          "metadata": {},
          "execution_count": 29
        }
      ]
    },
    {
      "cell_type": "code",
      "source": [
        "# nulll 값 매우많음 ⇒ 단순히 0이 아니라, null값을 의미있게 채워야 하지 않을까?\n",
        "has_null_values = train_df['com_reg_ver_win_rate'].isnull().any()\n",
        "print(has_null_values)\n",
        "\n",
        "null_count = train_df['com_reg_ver_win_rate'].isnull().sum()\n",
        "print(f\"Null 값의 개수: {null_count}\")"
      ],
      "metadata": {
        "colab": {
          "base_uri": "https://localhost:8080/"
        },
        "id": "YjFpQ2D1IIv-",
        "outputId": "806de1c9-0cbb-45d1-8121-3fe3bd7d55b0"
      },
      "execution_count": 31,
      "outputs": [
        {
          "output_type": "stream",
          "name": "stdout",
          "text": [
            "True\n",
            "Null 값의 개수: 44731\n"
          ]
        }
      ]
    },
    {
      "cell_type": "markdown",
      "source": [
        "## **customer_type**"
      ],
      "metadata": {
        "id": "Sv7XwJteJNvW"
      }
    },
    {
      "cell_type": "code",
      "source": [
        "# non-null : 15,338개 밖에 안됨 ⇒ null값 매우 많음\n",
        "train_df['customer_type'].value_counts()"
      ],
      "metadata": {
        "colab": {
          "base_uri": "https://localhost:8080/"
        },
        "id": "H0m4nv9SJN3u",
        "outputId": "6c22ceaa-49ee-43a4-fd2e-aa96b7794a6d"
      },
      "execution_count": 32,
      "outputs": [
        {
          "output_type": "execute_result",
          "data": {
            "text/plain": [
              "End-Customer                    6647\n",
              "End Customer                    3996\n",
              "Specifier/ Influencer           2525\n",
              "Channel Partner                 1368\n",
              "Service Partner                  349\n",
              "Solution Eco-Partner             146\n",
              "Installer/Contractor              52\n",
              "Specifier / Influencer            43\n",
              "Corporate                         31\n",
              "HVAC Engineer                     23\n",
              "Engineer                          20\n",
              "Developer                         17\n",
              "Technician                        16\n",
              "Consultant                        15\n",
              "Other                             10\n",
              "Home Owner                        10\n",
              "End-user                           8\n",
              "Manager / Director                 8\n",
              "Software/Solution Provider         7\n",
              "Etc.                               6\n",
              "Architect/Consultant               5\n",
              "Homeowner                          5\n",
              "Reseller                           5\n",
              "Installer                          5\n",
              "Interior Designer                  5\n",
              "Distributor                        4\n",
              "Others                             4\n",
              "Dealer/Distributor                 2\n",
              "System Integrator                  2\n",
              "Software / Solution Provider       1\n",
              "Technical Assistant                1\n",
              "Commercial end-user                1\n",
              "Administrator                      1\n",
              "Name: customer_type, dtype: int64"
            ]
          },
          "metadata": {},
          "execution_count": 32
        }
      ]
    },
    {
      "cell_type": "markdown",
      "source": [
        "## **enterprise**\n",
        "* Global 기업: Enterprise\n",
        "* Small/Medium 기업: SMB"
      ],
      "metadata": {
        "id": "DyVn199GJ5yG"
      }
    },
    {
      "cell_type": "code",
      "source": [
        "# null값 없음\n",
        "train_df['enterprise'].value_counts()"
      ],
      "metadata": {
        "colab": {
          "base_uri": "https://localhost:8080/"
        },
        "id": "nLNAljk0KJ9h",
        "outputId": "f91c01b1-793a-47fb-a1e0-b87cab986a5a"
      },
      "execution_count": 33,
      "outputs": [
        {
          "output_type": "execute_result",
          "data": {
            "text/plain": [
              "Enterprise    37783\n",
              "SMB           21516\n",
              "Name: enterprise, dtype: int64"
            ]
          },
          "metadata": {},
          "execution_count": 33
        }
      ]
    },
    {
      "cell_type": "markdown",
      "source": [
        "## **historical_existing_cnt**\n",
        "이전에 Converted(영업 전환) 되었던 횟수 (max_vlaue: 1394.0, min_value: 0.0)"
      ],
      "metadata": {
        "id": "FV48zqMjKsJx"
      }
    },
    {
      "cell_type": "code",
      "source": [
        "train_df['historical_existing_cnt'].value_counts()"
      ],
      "metadata": {
        "colab": {
          "base_uri": "https://localhost:8080/"
        },
        "id": "8HMx_QUUKyEL",
        "outputId": "a6229944-c287-4f57-ad75-8a63ff63d529"
      },
      "execution_count": 34,
      "outputs": [
        {
          "output_type": "execute_result",
          "data": {
            "text/plain": [
              "4.0       2957\n",
              "0.0       1973\n",
              "1.0       1967\n",
              "19.0      1441\n",
              "16.0      1132\n",
              "          ... \n",
              "404.0        1\n",
              "145.0        1\n",
              "1394.0       1\n",
              "199.0        1\n",
              "108.0        1\n",
              "Name: historical_existing_cnt, Length: 136, dtype: int64"
            ]
          },
          "metadata": {},
          "execution_count": 34
        }
      ]
    },
    {
      "cell_type": "code",
      "source": [
        "max_value = train_df['historical_existing_cnt'].max()\n",
        "min_value = train_df['historical_existing_cnt'].min()\n",
        "\n",
        "print(f'max_vlaue: {max_value}, min_value: {min_value}')"
      ],
      "metadata": {
        "colab": {
          "base_uri": "https://localhost:8080/"
        },
        "id": "40SKxS-UKyGR",
        "outputId": "b9de0296-b3a5-44ed-8bf0-c2303d8d5dad"
      },
      "execution_count": 36,
      "outputs": [
        {
          "output_type": "stream",
          "name": "stdout",
          "text": [
            "max_vlaue: 1394.0, min_value: 0.0\n"
          ]
        }
      ]
    },
    {
      "cell_type": "markdown",
      "source": [
        "## **id_strategic_ver / it_strategic_ver / idit_strategic_ver**\n",
        "* id_strategic_ver : 특정 사업부(Business Unit), 특정 사업 영역(Vertical Level1)에 대해 가중치를 부여  [3,444개]\n",
        "* it_strategic_ver : 특정 사업부(Business Unit), 특정 사업 영역(Vertical Level1)에 대해 가중치를 부여  [1,121개]\n",
        "* idit_strategic_ver : id_strategic_ver or it_strategic_ver 값 중\n",
        "하나라도 1의 값을 가지면 1 값으로 표현  [4,565개]"
      ],
      "metadata": {
        "id": "xRcV0DvRXjxI"
      }
    },
    {
      "cell_type": "code",
      "source": [
        "# 3가지 변수모두 값은 0 아니면 null값 이다.\n",
        "## id & it = idit\n",
        "\n",
        "id_strategic_ver = train_df['id_strategic_ver'].value_counts()\n",
        "it_strategic_ver = train_df['it_strategic_ver'].value_counts()\n",
        "idit_strategic_ver = train_df['idit_strategic_ver'].value_counts()"
      ],
      "metadata": {
        "id": "gQ74zT3dKyIV"
      },
      "execution_count": 37,
      "outputs": []
    },
    {
      "cell_type": "code",
      "source": [
        "idit_strategic_ver"
      ],
      "metadata": {
        "colab": {
          "base_uri": "https://localhost:8080/"
        },
        "id": "peK1uejcY3yB",
        "outputId": "da4ae004-c827-497e-c4fb-711f0d64e6a8"
      },
      "execution_count": 40,
      "outputs": [
        {
          "output_type": "execute_result",
          "data": {
            "text/plain": [
              "1.0    4565\n",
              "Name: idit_strategic_ver, dtype: int64"
            ]
          },
          "metadata": {},
          "execution_count": 40
        }
      ]
    },
    {
      "cell_type": "markdown",
      "source": [
        "## **customer_job**\n",
        "고객의 직업군"
      ],
      "metadata": {
        "id": "99exCjtFZVSa"
      }
    },
    {
      "cell_type": "code",
      "source": [
        "# 560가지 종류가 존재 (Other...?)\n",
        "## non-null : 40,566개\n",
        "train_df['customer_job'].value_counts()"
      ],
      "metadata": {
        "colab": {
          "base_uri": "https://localhost:8080/"
        },
        "id": "zb8K19cWZcZk",
        "outputId": "2dec544b-21dc-4b32-8977-cf05de5050fe"
      },
      "execution_count": 42,
      "outputs": [
        {
          "output_type": "execute_result",
          "data": {
            "text/plain": [
              "engineering                       6342\n",
              "other                             4852\n",
              "administrative                    3359\n",
              "education                         2287\n",
              "sales                             2218\n",
              "                                  ... \n",
              "appliance specialist                 1\n",
              "av estimator                         1\n",
              "purchasers                           1\n",
              "pricing                              1\n",
              "exhibition / convention center       1\n",
              "Name: customer_job, Length: 560, dtype: int64"
            ]
          },
          "metadata": {},
          "execution_count": 42
        }
      ]
    },
    {
      "cell_type": "markdown",
      "source": [
        "## **lead_desc_length**\n",
        "고객이 작성한 Lead Descriptoin 텍스트 총 길이"
      ],
      "metadata": {
        "id": "lpIJc4ajaWQ_"
      }
    },
    {
      "cell_type": "code",
      "source": [
        "# null값 없음!!\n",
        "train_df['lead_desc_length'].value_counts().sort_index(ascending=False)"
      ],
      "metadata": {
        "colab": {
          "base_uri": "https://localhost:8080/"
        },
        "id": "sztqxQwwZvOA",
        "outputId": "e2fab65b-0b36-4dbe-8456-9836828379ba"
      },
      "execution_count": 46,
      "outputs": [
        {
          "output_type": "execute_result",
          "data": {
            "text/plain": [
              "1264        1\n",
              "1198        1\n",
              "1181        1\n",
              "1174        2\n",
              "1168        1\n",
              "        ...  \n",
              "5         818\n",
              "4         884\n",
              "3       10378\n",
              "2         934\n",
              "1         771\n",
              "Name: lead_desc_length, Length: 909, dtype: int64"
            ]
          },
          "metadata": {},
          "execution_count": 46
        }
      ]
    },
    {
      "cell_type": "code",
      "source": [
        "# 빈도수가 큰 순서대로 봐보자\n",
        "train_df['lead_desc_length'].value_counts(ascending=False).head(500)"
      ],
      "metadata": {
        "colab": {
          "base_uri": "https://localhost:8080/"
        },
        "id": "A6-SxRQWbegJ",
        "outputId": "b2fbc073-cd7a-4718-8925-e2f23db2d47e"
      },
      "execution_count": 50,
      "outputs": [
        {
          "output_type": "execute_result",
          "data": {
            "text/plain": [
              "3      10378\n",
              "14      3180\n",
              "2        934\n",
              "10       891\n",
              "4        884\n",
              "       ...  \n",
              "555        6\n",
              "514        6\n",
              "513        6\n",
              "453        6\n",
              "439        6\n",
              "Name: lead_desc_length, Length: 500, dtype: int64"
            ]
          },
          "metadata": {},
          "execution_count": 50
        }
      ]
    },
    {
      "cell_type": "markdown",
      "source": [
        "## **inquiry_type**\n",
        "고객의 문의유형\n",
        "\n",
        "* Quotation or purchase consultation / Quotation or Purchase Consultation 두개 통합 필요함! (C 소문자, 대문자 차이임)"
      ],
      "metadata": {
        "id": "hl4Is9Glb2Wc"
      }
    },
    {
      "cell_type": "code",
      "source": [
        "# non-null : 58358\n",
        "train_df['inquiry_type'].value_counts()"
      ],
      "metadata": {
        "colab": {
          "base_uri": "https://localhost:8080/"
        },
        "id": "pMNPKWGcbwxr",
        "outputId": "673b1e95-5012-4596-d634-cb589af8c9f4"
      },
      "execution_count": 51,
      "outputs": [
        {
          "output_type": "execute_result",
          "data": {
            "text/plain": [
              "Quotation or purchase consultation                                                                                     23274\n",
              "Quotation or Purchase Consultation                                                                                     18766\n",
              "Sales Inquiry                                                                                                           9977\n",
              "Product Information                                                                                                     1237\n",
              "Other                                                                                                                    929\n",
              "                                                                                                                       ...  \n",
              "quotation_                                                                                                                 1\n",
              "display product                                                                                                            1\n",
              "first Info and pricing                                                                                                     1\n",
              "estoy buscando para Ecuador este producto LG MAGNIT micro LED, para un cliente de 138 pulgadas, con envió marítimo.        1\n",
              "Evento_SdelEstero                                                                                                          1\n",
              "Name: inquiry_type, Length: 71, dtype: int64"
            ]
          },
          "metadata": {},
          "execution_count": 51
        }
      ]
    },
    {
      "cell_type": "markdown",
      "source": [
        "## **product_category / product_subcategory / product_modelname**\n",
        "* 'product_category': 요청 제품 카테고리 [39,925개]\n",
        "* 'product_subcategory': 요청 제품 하위 카테고리 [9,235개]\n",
        "* 'product_modelname': 요청 제품 모델명 [9,229개]\n",
        "\n",
        "> 3개를 합치는 방법이 없을까?\n",
        "\n"
      ],
      "metadata": {
        "id": "GabAZIandC_d"
      }
    },
    {
      "cell_type": "code",
      "source": [
        "product_category = train_df['product_category'].value_counts()\n",
        "product_subcategory = train_df['product_subcategory'].value_counts()\n",
        "product_modelname = train_df['product_modelname'].value_counts()"
      ],
      "metadata": {
        "id": "9zBl_srndVYi"
      },
      "execution_count": 52,
      "outputs": []
    },
    {
      "cell_type": "code",
      "source": [
        "# product_category ⇒ 빈도수가 큰 순서\n",
        "train_df['product_category'].value_counts(ascending=False).head(50)"
      ],
      "metadata": {
        "colab": {
          "base_uri": "https://localhost:8080/"
        },
        "id": "DacQY65ndyzD",
        "outputId": "63e052eb-9358-4da6-fc2b-efc743ea0938"
      },
      "execution_count": 56,
      "outputs": [
        {
          "output_type": "execute_result",
          "data": {
            "text/plain": [
              "interactive digital board            6154\n",
              "vrf                                  5640\n",
              "multi-split                          3674\n",
              "video wall signage                   2029\n",
              "etc.                                 2018\n",
              "led signage                          1895\n",
              "interactive signage                  1862\n",
              "single-split                         1569\n",
              "rac                                  1447\n",
              "oled signage                         1350\n",
              "hotel tv                             1112\n",
              "chiller                              1051\n",
              "standard signage                      996\n",
              "medical display                       962\n",
              "lg one:quick series                   768\n",
              "monitor                               762\n",
              "one:quick series                      668\n",
              "heating                               655\n",
              "high brightness signage               477\n",
              "ventilation                           420\n",
              "teto ou cassete inverter              308\n",
              "control                               263\n",
              "multi inverter                        257\n",
              "ar condicionado residencial           224\n",
              "high brightness                       219\n",
              "software solution                     191\n",
              "accessories                           179\n",
              "special signage                       172\n",
              "hospital tv                           153\n",
              "webos                                 144\n",
              "pc                                    114\n",
              "pro:centric                           112\n",
              "video wall                             90\n",
              "projector                              83\n",
              "all lg vrf systems                     80\n",
              "commercial display                     74\n",
              "residential air conditioner            61\n",
              "ur640s                                 60\n",
              "outros                                 55\n",
              "signage care solution                  54\n",
              "multi v 5 air                          51\n",
              "smart tv signage                       50\n",
              "technical support                      50\n",
              "ur640                                  48\n",
              "cloud device                           46\n",
              "medical displays                       42\n",
              "laptop                                 41\n",
              "a thermodynamic water heater           37\n",
              "uhd signage                            34\n",
              "monitor signage,monior/monitor tv      34\n",
              "Name: product_category, dtype: int64"
            ]
          },
          "metadata": {},
          "execution_count": 56
        }
      ]
    },
    {
      "cell_type": "code",
      "source": [
        "# product_subcategory ⇒ 빈도수가 큰 순서\n",
        "train_df['product_subcategory'].value_counts(ascending=False).head(50)"
      ],
      "metadata": {
        "colab": {
          "base_uri": "https://localhost:8080/"
        },
        "id": "mwEGTLPLgpkB",
        "outputId": "89aee6f9-ca97-4f94-e9f2-26a4b73c789c"
      },
      "execution_count": 61,
      "outputs": [
        {
          "output_type": "execute_result",
          "data": {
            "text/plain": [
              "All Medical Displays                             446\n",
              "Interactive Digital Board                        417\n",
              "TR3BF Series                                     374\n",
              "Transparent OLED Signage                         288\n",
              "Diagnostic Monitors                              284\n",
              "Transparent LED Film                             280\n",
              "49\" 500 nits FHD Slim Bezel Video Wall           268\n",
              "TR3DJ Series                                     246\n",
              "One:Quick Flex                                   243\n",
              "One:Quick Works                                  228\n",
              "55\" 500 nits FHD 0.44mm Even Bezel Video Wall    209\n",
              "55\" 700 nits FHD 0.44mm Even Bezel Video Wall    180\n",
              "Digital X-ray Detectors                          167\n",
              "UH5F-H Series                                    156\n",
              "US660H Series                                    151\n",
              "4K UHD Hospitality TV with Pro:Centric Direct    127\n",
              "VL5F Series                                      124\n",
              "Outdoor Display                                  120\n",
              "LG MAGNIT                                        114\n",
              "Window Facing Display                            108\n",
              "Curvable OLED Signage                            102\n",
              "Clinical Review Monitors                          94\n",
              "55\" 500 nits FHD Slim Bezel Video Wall            93\n",
              "Surgical Monitors                                 88\n",
              "Transparent OLED Touch Signage                    87\n",
              "Flat OLED Signage                                 87\n",
              "Outdoor Versatile Series                          85\n",
              "High Brightness Video Wall                        84\n",
              "VM5E Series                                       80\n",
              "LG LED All-in-One Smart Series                    76\n",
              "Createboard                                       75\n",
              "Ultra Narrow Bezel Video Wall                     73\n",
              "UltraFine Display OLED Pro                        73\n",
              "UHD TV Signage                                    72\n",
              "LT340C Series                                     71\n",
              "LG LED All-in-One Essential Series                70\n",
              "UH5F Series                                       69\n",
              "Built-in Touch Display                            65\n",
              "LED Cinema                                        63\n",
              "Ultra Stretch Signage                             63\n",
              "Full HD Standard Signage                          61\n",
              "One:Quick Share                                   60\n",
              "UT640S Series                                     60\n",
              "OneQuick Flex                                     58\n",
              "LG LED All-in-One Premium Series                  58\n",
              "LG CreateBoard                                    58\n",
              "LG LED Bloc                                       56\n",
              "SVH7F Series                                      55\n",
              "4K UHD Smart TV                                   54\n",
              "SuperSign CMS                                     54\n",
              "Name: product_subcategory, dtype: int64"
            ]
          },
          "metadata": {},
          "execution_count": 61
        }
      ]
    },
    {
      "cell_type": "code",
      "source": [
        "# product_modelname ⇒ 빈도수가 큰 순서\n",
        "train_df['product_modelname'].value_counts(ascending=False).head(50)"
      ],
      "metadata": {
        "colab": {
          "base_uri": "https://localhost:8080/"
        },
        "id": "Dpw9h_w6hUUg",
        "outputId": "fb63f75d-8a64-4034-a9f6-4fe753bc2ebe"
      },
      "execution_count": 62,
      "outputs": [
        {
          "output_type": "execute_result",
          "data": {
            "text/plain": [
              "UltraFine Ergo(32UN880)     523\n",
              "28MQ780                     479\n",
              "All Medical Displays        350\n",
              "43HT3WJ                     290\n",
              "55CT5WJ                     261\n",
              "55VSM5J                     199\n",
              "Ergo Dual(27QP88D)          167\n",
              "Diagnostic Monitors         167\n",
              "75TC3D                      159\n",
              "55VSH7J                     152\n",
              "LAT140                      152\n",
              "86TR3E                      143\n",
              "DualUp(28MQ780)             139\n",
              "21HQ513D                    132\n",
              "UltraWide Ergo(34WN780)     117\n",
              "49VL5G-M                    115\n",
              "Digital X-ray Detectors     104\n",
              "49VL5G                       94\n",
              "86TR3DJ                      94\n",
              "LAT240                       93\n",
              "75TR3DJ                      88\n",
              "SC-00DA                      88\n",
              "65EP5G                       85\n",
              "55TC3D                       83\n",
              "55EW5G-V                     77\n",
              "55EW5TK-A                    77\n",
              "55VL5F-A                     76\n",
              "86TR3BF-B                    73\n",
              "65TR3DJ                      72\n",
              "LSAB009                      72\n",
              "75TR3BF-B                    70\n",
              "65TR3BF-B                    68\n",
              "55VX1D                       63\n",
              "Clinical Review Monitors     61\n",
              "75TR3BF                      60\n",
              "55VM5J-H                     59\n",
              "32UN880                      55\n",
              "LAEC015                      54\n",
              "LAEB015                      54\n",
              "LAA015F                      53\n",
              "85TR3BF                      53\n",
              "55SVH7F-A                    53\n",
              "55VM5E-A                     52\n",
              "55EW5F-A                     50\n",
              "32SM5J-B                     49\n",
              "55EF5F-L                     45\n",
              "LAD033F                      45\n",
              "110UM5J                      42\n",
              "55TC3CD                      41\n",
              "55EW5TF-A                    41\n",
              "Name: product_modelname, dtype: int64"
            ]
          },
          "metadata": {},
          "execution_count": 62
        }
      ]
    },
    {
      "cell_type": "markdown",
      "source": [
        "## **customer_country.1**\n",
        "담당 자사 법인명 기반의 지역 정보(대륙)   [58,317개]\n",
        "\n",
        "\n",
        "> 'customer_country' 컬럼과 유사도가 얼마나 있는지 확인 필요 (*텍스트 쓰는 방식도 같은 느낌임)\n",
        "\n"
      ],
      "metadata": {
        "id": "3BYUzwmakh4q"
      }
    },
    {
      "cell_type": "code",
      "source": [
        "train_df['customer_country.1'].value_counts()"
      ],
      "metadata": {
        "colab": {
          "base_uri": "https://localhost:8080/"
        },
        "id": "dc3R0ifnhw0v",
        "outputId": "c27eca49-aea4-4ce3-827f-5426d511678e"
      },
      "execution_count": 63,
      "outputs": [
        {
          "output_type": "execute_result",
          "data": {
            "text/plain": [
              "//India                                   3037\n",
              "/São Paulo/Brazil                         1344\n",
              "//United States                            962\n",
              "//United Kingdom                           805\n",
              "//Saudi Arabia                             718\n",
              "                                          ... \n",
              "/Hydrated/India                              1\n",
              "/Tirurangadi, Malappuram, Kerala/India       1\n",
              "/Canoinhas / SC/Brazil                       1\n",
              "/Tupã/SP/Brazil                              1\n",
              "/paris/France                                1\n",
              "Name: customer_country.1, Length: 15399, dtype: int64"
            ]
          },
          "metadata": {},
          "execution_count": 63
        }
      ]
    },
    {
      "cell_type": "markdown",
      "source": [
        "## **customer_position**\n",
        "고객의 회사 직책 (null값 없음!)"
      ],
      "metadata": {
        "id": "GITnCSeNlk2y"
      }
    },
    {
      "cell_type": "code",
      "source": [
        "# none ⇒ 19,680 !!\n",
        "## none값은 제외가 필요할 듯\n",
        "train_df['customer_position'].value_counts()"
      ],
      "metadata": {
        "colab": {
          "base_uri": "https://localhost:8080/"
        },
        "id": "QB42s1-hlyZL",
        "outputId": "cfeaa46b-215e-40a4-9abd-e6a55085dad4"
      },
      "execution_count": 64,
      "outputs": [
        {
          "output_type": "execute_result",
          "data": {
            "text/plain": [
              "none                      19680\n",
              "manager                    8217\n",
              "ceo/founder                7984\n",
              "other                      6499\n",
              "director                   4843\n",
              "                          ...  \n",
              "chairman                      1\n",
              "pgt physics                   1\n",
              "education professional        1\n",
              "chemistry teacher             1\n",
              "radiology professional        1\n",
              "Name: customer_position, Length: 117, dtype: int64"
            ]
          },
          "metadata": {},
          "execution_count": 64
        }
      ]
    },
    {
      "cell_type": "markdown",
      "source": [
        "## **response_corporate**\n",
        "담당 자사 법인명 (null값 없음!!!)\n",
        "> 각 알파벳이 의미하는 바가 있을 듯 ⇒ 알파벳을 나누어서 기준을 잡아야하지 않을까?"
      ],
      "metadata": {
        "id": "bZdcfsiYmKJs"
      }
    },
    {
      "cell_type": "code",
      "source": [
        "train_df['response_corporate'].value_counts()"
      ],
      "metadata": {
        "colab": {
          "base_uri": "https://localhost:8080/"
        },
        "id": "p6pogFz-mNlP",
        "outputId": "96591526-68ec-406e-8074-2e00a4ebb19c"
      },
      "execution_count": 65,
      "outputs": [
        {
          "output_type": "execute_result",
          "data": {
            "text/plain": [
              "LGEIL    16908\n",
              "LGESP     9311\n",
              "LGEUS     5955\n",
              "LGEMS     2768\n",
              "LGEPH     2651\n",
              "LGEGF     2149\n",
              "LGECB     2079\n",
              "LGEUK     1651\n",
              "LGESJ     1469\n",
              "LGECL     1339\n",
              "LGEPS     1252\n",
              "LGEIS     1146\n",
              "LGEPR     1131\n",
              "LGEDG     1051\n",
              "LGEPL      850\n",
              "LGEEG      704\n",
              "LGEVH      614\n",
              "LGEES      592\n",
              "LGETK      541\n",
              "LGEAR      491\n",
              "LGEKR      433\n",
              "LGEHK      383\n",
              "LGEAP      366\n",
              "LGESL      348\n",
              "LGEMK      331\n",
              "LGEFS      302\n",
              "LGEAF      288\n",
              "LGEIN      281\n",
              "LGELF      274\n",
              "LGESA      268\n",
              "LGECI      263\n",
              "LGETH      185\n",
              "LGEEF      159\n",
              "LGEPT      111\n",
              "LGEML      110\n",
              "LGEBN       99\n",
              "LGEYK       78\n",
              "LGECH       65\n",
              "LGEHS       51\n",
              "LGETT       47\n",
              "LGEJP       41\n",
              "LGEAS       33\n",
              "LGESW       31\n",
              "LGEMC       30\n",
              "LGERO       29\n",
              "LGEEB       13\n",
              "LGEAG        8\n",
              "LGERA        8\n",
              "LGECZ        7\n",
              "LGELA        2\n",
              "LGEUR        1\n",
              "LGEIR        1\n",
              "LGEBT        1\n",
              "Name: response_corporate, dtype: int64"
            ]
          },
          "metadata": {},
          "execution_count": 65
        }
      ]
    },
    {
      "cell_type": "markdown",
      "source": [
        "## **expected_timeline**\n",
        "고객의 요청한 처리 일정"
      ],
      "metadata": {
        "id": "dJ2BV2Zfm2tU"
      }
    },
    {
      "cell_type": "code",
      "source": [
        "train_df['expected_timeline'].value_counts(ascending=False).head(30)"
      ],
      "metadata": {
        "colab": {
          "base_uri": "https://localhost:8080/"
        },
        "id": "uwTwZOvpnAR3",
        "outputId": "8da490c4-71fb-495c-9c37-34b3c6a33ec6"
      },
      "execution_count": 67,
      "outputs": [
        {
          "output_type": "execute_result",
          "data": {
            "text/plain": [
              "less than 3 months                                                                                                                                             17250\n",
              "3 months ~ 6 months                                                                                                                                             5026\n",
              "more than a year                                                                                                                                                3023\n",
              "9 months ~ 1 year                                                                                                                                               1101\n",
              "6 months ~ 9 months                                                                                                                                             1098\n",
              "less than 6 months                                                                                                                                               108\n",
              "etc.                                                                                                                                                              95\n",
              "less_than_3_months                                                                                                                                                76\n",
              "being followed up                                                                                                                                                 66\n",
              "being followed up.                                                                                                                                                24\n",
              "the client is not having any requirement hence closig in system. although the details of idb are mailed to client.                                                21\n",
              "no requirement                                                                                                                                                    12\n",
              "3_months_~_6_months                                                                                                                                                9\n",
              "didn't respond                                                                                                                                                     7\n",
              "9_months_~_1_year                                                                                                                                                  6\n",
              "duplicate lead                                                                                                                                                     6\n",
              "details shared                                                                                                                                                     5\n",
              "forwarded to bdo, being followed up                                                                                                                                5\n",
              "couldn't connect                                                                                                                                                   5\n",
              "quote send                                                                                                                                                         5\n",
              "the client is not having any requirement, he was only browsing through the produt hence closig in system. although the details of idb are mailed to client.        5\n",
              "details send                                                                                                                                                       5\n",
              "rnr                                                                                                                                                                5\n",
              "budget issue                                                                                                                                                       4\n",
              "6_months_~_9_months                                                                                                                                                4\n",
              "not answering call                                                                                                                                                 4\n",
              "more_than_a_year                                                                                                                                                   4\n",
              "details shared.                                                                                                                                                    3\n",
              "assigned to partner. intial meeting done. will convert to opp post complete info                                                                                   3\n",
              "not required                                                                                                                                                       3\n",
              "Name: expected_timeline, dtype: int64"
            ]
          },
          "metadata": {},
          "execution_count": 67
        }
      ]
    },
    {
      "cell_type": "markdown",
      "source": [
        "## ver_cus / ver_pro\n",
        "* 'ver_cus' : 특정 Vertical Level 1(사업영역) and Customer_type(고객 유형)이 소비자(End-user)인 경우에 대한 가중치\n",
        "* 'ver_pro' : 특정 Vertical Level 1(사업영역) and 특정 Product Category(제품 유형)인 경우에 대한 가중치"
      ],
      "metadata": {
        "id": "dzPbLr-A1yU1"
      }
    },
    {
      "cell_type": "code",
      "source": [
        "# null값 없음\n",
        "# train_df['customer_type'] => End-Customer (6647) / End Customer (3996)\n",
        "train_df['ver_cus'].value_counts()"
      ],
      "metadata": {
        "colab": {
          "base_uri": "https://localhost:8080/"
        },
        "id": "P5upPVS61wlF",
        "outputId": "fc26ba73-75a8-41fe-d75e-edb9fa0166f1"
      },
      "execution_count": 4,
      "outputs": [
        {
          "output_type": "execute_result",
          "data": {
            "text/plain": [
              "0    56832\n",
              "1     2467\n",
              "Name: ver_cus, dtype: int64"
            ]
          },
          "metadata": {},
          "execution_count": 4
        }
      ]
    },
    {
      "cell_type": "code",
      "source": [
        "# 'End-Customer', 'End Customer' 로 했을 때, 결과가 이상하게 나옴\n",
        "selected_rows = train_df[train_df['customer_type'].isin(['End-Customer', 'End Customer'])]\n",
        "result_df = selected_rows[['customer_type', 'ver_cus']]\n",
        "\n",
        "result_df"
      ],
      "metadata": {
        "colab": {
          "base_uri": "https://localhost:8080/",
          "height": 688
        },
        "id": "WlJd7fWY3121",
        "outputId": "55cce83a-81e6-435c-f56f-5dcfa1761496"
      },
      "execution_count": 9,
      "outputs": [
        {
          "output_type": "execute_result",
          "data": {
            "text/plain": [
              "      customer_type  ver_cus\n",
              "0      End-Customer        1\n",
              "1      End-Customer        1\n",
              "2      End-Customer        1\n",
              "3      End-Customer        1\n",
              "5      End-Customer        1\n",
              "...             ...      ...\n",
              "59284  End-Customer        0\n",
              "59285  End-Customer        0\n",
              "59286  End Customer        0\n",
              "59293  End Customer        0\n",
              "59294  End Customer        0\n",
              "\n",
              "[10643 rows x 2 columns]"
            ],
            "text/html": [
              "\n",
              "  <div id=\"df-c7a7320c-d3ab-4e48-bd96-76175c266ad2\" class=\"colab-df-container\">\n",
              "    <div>\n",
              "<style scoped>\n",
              "    .dataframe tbody tr th:only-of-type {\n",
              "        vertical-align: middle;\n",
              "    }\n",
              "\n",
              "    .dataframe tbody tr th {\n",
              "        vertical-align: top;\n",
              "    }\n",
              "\n",
              "    .dataframe thead th {\n",
              "        text-align: right;\n",
              "    }\n",
              "</style>\n",
              "<table border=\"1\" class=\"dataframe\">\n",
              "  <thead>\n",
              "    <tr style=\"text-align: right;\">\n",
              "      <th></th>\n",
              "      <th>customer_type</th>\n",
              "      <th>ver_cus</th>\n",
              "    </tr>\n",
              "  </thead>\n",
              "  <tbody>\n",
              "    <tr>\n",
              "      <th>0</th>\n",
              "      <td>End-Customer</td>\n",
              "      <td>1</td>\n",
              "    </tr>\n",
              "    <tr>\n",
              "      <th>1</th>\n",
              "      <td>End-Customer</td>\n",
              "      <td>1</td>\n",
              "    </tr>\n",
              "    <tr>\n",
              "      <th>2</th>\n",
              "      <td>End-Customer</td>\n",
              "      <td>1</td>\n",
              "    </tr>\n",
              "    <tr>\n",
              "      <th>3</th>\n",
              "      <td>End-Customer</td>\n",
              "      <td>1</td>\n",
              "    </tr>\n",
              "    <tr>\n",
              "      <th>5</th>\n",
              "      <td>End-Customer</td>\n",
              "      <td>1</td>\n",
              "    </tr>\n",
              "    <tr>\n",
              "      <th>...</th>\n",
              "      <td>...</td>\n",
              "      <td>...</td>\n",
              "    </tr>\n",
              "    <tr>\n",
              "      <th>59284</th>\n",
              "      <td>End-Customer</td>\n",
              "      <td>0</td>\n",
              "    </tr>\n",
              "    <tr>\n",
              "      <th>59285</th>\n",
              "      <td>End-Customer</td>\n",
              "      <td>0</td>\n",
              "    </tr>\n",
              "    <tr>\n",
              "      <th>59286</th>\n",
              "      <td>End Customer</td>\n",
              "      <td>0</td>\n",
              "    </tr>\n",
              "    <tr>\n",
              "      <th>59293</th>\n",
              "      <td>End Customer</td>\n",
              "      <td>0</td>\n",
              "    </tr>\n",
              "    <tr>\n",
              "      <th>59294</th>\n",
              "      <td>End Customer</td>\n",
              "      <td>0</td>\n",
              "    </tr>\n",
              "  </tbody>\n",
              "</table>\n",
              "<p>10643 rows × 2 columns</p>\n",
              "</div>\n",
              "    <div class=\"colab-df-buttons\">\n",
              "\n",
              "  <div class=\"colab-df-container\">\n",
              "    <button class=\"colab-df-convert\" onclick=\"convertToInteractive('df-c7a7320c-d3ab-4e48-bd96-76175c266ad2')\"\n",
              "            title=\"Convert this dataframe to an interactive table.\"\n",
              "            style=\"display:none;\">\n",
              "\n",
              "  <svg xmlns=\"http://www.w3.org/2000/svg\" height=\"24px\" viewBox=\"0 -960 960 960\">\n",
              "    <path d=\"M120-120v-720h720v720H120Zm60-500h600v-160H180v160Zm220 220h160v-160H400v160Zm0 220h160v-160H400v160ZM180-400h160v-160H180v160Zm440 0h160v-160H620v160ZM180-180h160v-160H180v160Zm440 0h160v-160H620v160Z\"/>\n",
              "  </svg>\n",
              "    </button>\n",
              "\n",
              "  <style>\n",
              "    .colab-df-container {\n",
              "      display:flex;\n",
              "      gap: 12px;\n",
              "    }\n",
              "\n",
              "    .colab-df-convert {\n",
              "      background-color: #E8F0FE;\n",
              "      border: none;\n",
              "      border-radius: 50%;\n",
              "      cursor: pointer;\n",
              "      display: none;\n",
              "      fill: #1967D2;\n",
              "      height: 32px;\n",
              "      padding: 0 0 0 0;\n",
              "      width: 32px;\n",
              "    }\n",
              "\n",
              "    .colab-df-convert:hover {\n",
              "      background-color: #E2EBFA;\n",
              "      box-shadow: 0px 1px 2px rgba(60, 64, 67, 0.3), 0px 1px 3px 1px rgba(60, 64, 67, 0.15);\n",
              "      fill: #174EA6;\n",
              "    }\n",
              "\n",
              "    .colab-df-buttons div {\n",
              "      margin-bottom: 4px;\n",
              "    }\n",
              "\n",
              "    [theme=dark] .colab-df-convert {\n",
              "      background-color: #3B4455;\n",
              "      fill: #D2E3FC;\n",
              "    }\n",
              "\n",
              "    [theme=dark] .colab-df-convert:hover {\n",
              "      background-color: #434B5C;\n",
              "      box-shadow: 0px 1px 3px 1px rgba(0, 0, 0, 0.15);\n",
              "      filter: drop-shadow(0px 1px 2px rgba(0, 0, 0, 0.3));\n",
              "      fill: #FFFFFF;\n",
              "    }\n",
              "  </style>\n",
              "\n",
              "    <script>\n",
              "      const buttonEl =\n",
              "        document.querySelector('#df-c7a7320c-d3ab-4e48-bd96-76175c266ad2 button.colab-df-convert');\n",
              "      buttonEl.style.display =\n",
              "        google.colab.kernel.accessAllowed ? 'block' : 'none';\n",
              "\n",
              "      async function convertToInteractive(key) {\n",
              "        const element = document.querySelector('#df-c7a7320c-d3ab-4e48-bd96-76175c266ad2');\n",
              "        const dataTable =\n",
              "          await google.colab.kernel.invokeFunction('convertToInteractive',\n",
              "                                                    [key], {});\n",
              "        if (!dataTable) return;\n",
              "\n",
              "        const docLinkHtml = 'Like what you see? Visit the ' +\n",
              "          '<a target=\"_blank\" href=https://colab.research.google.com/notebooks/data_table.ipynb>data table notebook</a>'\n",
              "          + ' to learn more about interactive tables.';\n",
              "        element.innerHTML = '';\n",
              "        dataTable['output_type'] = 'display_data';\n",
              "        await google.colab.output.renderOutput(dataTable, element);\n",
              "        const docLink = document.createElement('div');\n",
              "        docLink.innerHTML = docLinkHtml;\n",
              "        element.appendChild(docLink);\n",
              "      }\n",
              "    </script>\n",
              "  </div>\n",
              "\n",
              "\n",
              "<div id=\"df-be9dc59c-b376-4f9f-862e-db7a5d3cb5b3\">\n",
              "  <button class=\"colab-df-quickchart\" onclick=\"quickchart('df-be9dc59c-b376-4f9f-862e-db7a5d3cb5b3')\"\n",
              "            title=\"Suggest charts\"\n",
              "            style=\"display:none;\">\n",
              "\n",
              "<svg xmlns=\"http://www.w3.org/2000/svg\" height=\"24px\"viewBox=\"0 0 24 24\"\n",
              "     width=\"24px\">\n",
              "    <g>\n",
              "        <path d=\"M19 3H5c-1.1 0-2 .9-2 2v14c0 1.1.9 2 2 2h14c1.1 0 2-.9 2-2V5c0-1.1-.9-2-2-2zM9 17H7v-7h2v7zm4 0h-2V7h2v10zm4 0h-2v-4h2v4z\"/>\n",
              "    </g>\n",
              "</svg>\n",
              "  </button>\n",
              "\n",
              "<style>\n",
              "  .colab-df-quickchart {\n",
              "      --bg-color: #E8F0FE;\n",
              "      --fill-color: #1967D2;\n",
              "      --hover-bg-color: #E2EBFA;\n",
              "      --hover-fill-color: #174EA6;\n",
              "      --disabled-fill-color: #AAA;\n",
              "      --disabled-bg-color: #DDD;\n",
              "  }\n",
              "\n",
              "  [theme=dark] .colab-df-quickchart {\n",
              "      --bg-color: #3B4455;\n",
              "      --fill-color: #D2E3FC;\n",
              "      --hover-bg-color: #434B5C;\n",
              "      --hover-fill-color: #FFFFFF;\n",
              "      --disabled-bg-color: #3B4455;\n",
              "      --disabled-fill-color: #666;\n",
              "  }\n",
              "\n",
              "  .colab-df-quickchart {\n",
              "    background-color: var(--bg-color);\n",
              "    border: none;\n",
              "    border-radius: 50%;\n",
              "    cursor: pointer;\n",
              "    display: none;\n",
              "    fill: var(--fill-color);\n",
              "    height: 32px;\n",
              "    padding: 0;\n",
              "    width: 32px;\n",
              "  }\n",
              "\n",
              "  .colab-df-quickchart:hover {\n",
              "    background-color: var(--hover-bg-color);\n",
              "    box-shadow: 0 1px 2px rgba(60, 64, 67, 0.3), 0 1px 3px 1px rgba(60, 64, 67, 0.15);\n",
              "    fill: var(--button-hover-fill-color);\n",
              "  }\n",
              "\n",
              "  .colab-df-quickchart-complete:disabled,\n",
              "  .colab-df-quickchart-complete:disabled:hover {\n",
              "    background-color: var(--disabled-bg-color);\n",
              "    fill: var(--disabled-fill-color);\n",
              "    box-shadow: none;\n",
              "  }\n",
              "\n",
              "  .colab-df-spinner {\n",
              "    border: 2px solid var(--fill-color);\n",
              "    border-color: transparent;\n",
              "    border-bottom-color: var(--fill-color);\n",
              "    animation:\n",
              "      spin 1s steps(1) infinite;\n",
              "  }\n",
              "\n",
              "  @keyframes spin {\n",
              "    0% {\n",
              "      border-color: transparent;\n",
              "      border-bottom-color: var(--fill-color);\n",
              "      border-left-color: var(--fill-color);\n",
              "    }\n",
              "    20% {\n",
              "      border-color: transparent;\n",
              "      border-left-color: var(--fill-color);\n",
              "      border-top-color: var(--fill-color);\n",
              "    }\n",
              "    30% {\n",
              "      border-color: transparent;\n",
              "      border-left-color: var(--fill-color);\n",
              "      border-top-color: var(--fill-color);\n",
              "      border-right-color: var(--fill-color);\n",
              "    }\n",
              "    40% {\n",
              "      border-color: transparent;\n",
              "      border-right-color: var(--fill-color);\n",
              "      border-top-color: var(--fill-color);\n",
              "    }\n",
              "    60% {\n",
              "      border-color: transparent;\n",
              "      border-right-color: var(--fill-color);\n",
              "    }\n",
              "    80% {\n",
              "      border-color: transparent;\n",
              "      border-right-color: var(--fill-color);\n",
              "      border-bottom-color: var(--fill-color);\n",
              "    }\n",
              "    90% {\n",
              "      border-color: transparent;\n",
              "      border-bottom-color: var(--fill-color);\n",
              "    }\n",
              "  }\n",
              "</style>\n",
              "\n",
              "  <script>\n",
              "    async function quickchart(key) {\n",
              "      const quickchartButtonEl =\n",
              "        document.querySelector('#' + key + ' button');\n",
              "      quickchartButtonEl.disabled = true;  // To prevent multiple clicks.\n",
              "      quickchartButtonEl.classList.add('colab-df-spinner');\n",
              "      try {\n",
              "        const charts = await google.colab.kernel.invokeFunction(\n",
              "            'suggestCharts', [key], {});\n",
              "      } catch (error) {\n",
              "        console.error('Error during call to suggestCharts:', error);\n",
              "      }\n",
              "      quickchartButtonEl.classList.remove('colab-df-spinner');\n",
              "      quickchartButtonEl.classList.add('colab-df-quickchart-complete');\n",
              "    }\n",
              "    (() => {\n",
              "      let quickchartButtonEl =\n",
              "        document.querySelector('#df-be9dc59c-b376-4f9f-862e-db7a5d3cb5b3 button');\n",
              "      quickchartButtonEl.style.display =\n",
              "        google.colab.kernel.accessAllowed ? 'block' : 'none';\n",
              "    })();\n",
              "  </script>\n",
              "</div>\n",
              "\n",
              "  <div id=\"id_4ec417a3-d1d9-444a-960e-a648bd97e261\">\n",
              "    <style>\n",
              "      .colab-df-generate {\n",
              "        background-color: #E8F0FE;\n",
              "        border: none;\n",
              "        border-radius: 50%;\n",
              "        cursor: pointer;\n",
              "        display: none;\n",
              "        fill: #1967D2;\n",
              "        height: 32px;\n",
              "        padding: 0 0 0 0;\n",
              "        width: 32px;\n",
              "      }\n",
              "\n",
              "      .colab-df-generate:hover {\n",
              "        background-color: #E2EBFA;\n",
              "        box-shadow: 0px 1px 2px rgba(60, 64, 67, 0.3), 0px 1px 3px 1px rgba(60, 64, 67, 0.15);\n",
              "        fill: #174EA6;\n",
              "      }\n",
              "\n",
              "      [theme=dark] .colab-df-generate {\n",
              "        background-color: #3B4455;\n",
              "        fill: #D2E3FC;\n",
              "      }\n",
              "\n",
              "      [theme=dark] .colab-df-generate:hover {\n",
              "        background-color: #434B5C;\n",
              "        box-shadow: 0px 1px 3px 1px rgba(0, 0, 0, 0.15);\n",
              "        filter: drop-shadow(0px 1px 2px rgba(0, 0, 0, 0.3));\n",
              "        fill: #FFFFFF;\n",
              "      }\n",
              "    </style>\n",
              "    <button class=\"colab-df-generate\" onclick=\"generateWithVariable('result_df')\"\n",
              "            title=\"Generate code using this dataframe.\"\n",
              "            style=\"display:none;\">\n",
              "\n",
              "  <svg xmlns=\"http://www.w3.org/2000/svg\" height=\"24px\"viewBox=\"0 0 24 24\"\n",
              "       width=\"24px\">\n",
              "    <path d=\"M7,19H8.4L18.45,9,17,7.55,7,17.6ZM5,21V16.75L18.45,3.32a2,2,0,0,1,2.83,0l1.4,1.43a1.91,1.91,0,0,1,.58,1.4,1.91,1.91,0,0,1-.58,1.4L9.25,21ZM18.45,9,17,7.55Zm-12,3A5.31,5.31,0,0,0,4.9,8.1,5.31,5.31,0,0,0,1,6.5,5.31,5.31,0,0,0,4.9,4.9,5.31,5.31,0,0,0,6.5,1,5.31,5.31,0,0,0,8.1,4.9,5.31,5.31,0,0,0,12,6.5,5.46,5.46,0,0,0,6.5,12Z\"/>\n",
              "  </svg>\n",
              "    </button>\n",
              "    <script>\n",
              "      (() => {\n",
              "      const buttonEl =\n",
              "        document.querySelector('#id_4ec417a3-d1d9-444a-960e-a648bd97e261 button.colab-df-generate');\n",
              "      buttonEl.style.display =\n",
              "        google.colab.kernel.accessAllowed ? 'block' : 'none';\n",
              "\n",
              "      buttonEl.onclick = () => {\n",
              "        google.colab.notebook.generateWithVariable('result_df');\n",
              "      }\n",
              "      })();\n",
              "    </script>\n",
              "  </div>\n",
              "\n",
              "    </div>\n",
              "  </div>\n"
            ]
          },
          "metadata": {},
          "execution_count": 9
        }
      ]
    },
    {
      "cell_type": "code",
      "source": [
        "train_df['ver_pro'].value_counts()"
      ],
      "metadata": {
        "colab": {
          "base_uri": "https://localhost:8080/"
        },
        "id": "28Gb1iyM5At7",
        "outputId": "e5881b36-11ae-40ad-f402-c1798f2ce013"
      },
      "execution_count": 10,
      "outputs": [
        {
          "output_type": "execute_result",
          "data": {
            "text/plain": [
              "0    56286\n",
              "1     3013\n",
              "Name: ver_pro, dtype: int64"
            ]
          },
          "metadata": {},
          "execution_count": 10
        }
      ]
    },
    {
      "cell_type": "code",
      "source": [
        "# 가중치를 준 값들의 'product_category'가 무엇인지 확인!\n",
        "selected_rows = train_df[train_df['ver_pro'] == 1]\n",
        "result_df = selected_rows[['ver_pro', 'product_category']]\n",
        "\n",
        "result_df['product_category'].value_counts()"
      ],
      "metadata": {
        "colab": {
          "base_uri": "https://localhost:8080/"
        },
        "id": "Kbt49pj-5F2X",
        "outputId": "84e0b651-616b-427b-baff-84abf4b06caf"
      },
      "execution_count": 13,
      "outputs": [
        {
          "output_type": "execute_result",
          "data": {
            "text/plain": [
              "video wall signage                                                                                      667\n",
              "led signage                                                                                             641\n",
              "interactive signage                                                                                     406\n",
              "oled signage                                                                                            390\n",
              "standard signage                                                                                        325\n",
              "hotel tv                                                                                                259\n",
              "high brightness signage                                                                                 205\n",
              "special signage                                                                                          47\n",
              "signage care solution                                                                                    17\n",
              "monitor signage,monior/monitor tv                                                                        11\n",
              "smart tv signage                                                                                         10\n",
              "uhd signage                                                                                               9\n",
              "digital signage                                                                                           7\n",
              "monitor signage,commercial tv,solar,ess,monior/monitor tv,pc,projector,robot,system ac,ems,rac,chill      3\n",
              "tv signage                                                                                                3\n",
              "signage                                                                                                   2\n",
              "monitor signage,commercial tv,monior/monitor tv                                                           2\n",
              "signage care solutions                                                                                    2\n",
              "monitor signage,commercial tv,monior/monitor tv,tv                                                        1\n",
              "ultra stretch signage                                                                                     1\n",
              "monitor signage,commercial tv,monior/monitor tv,pc,tv,home beauty,audio/video                             1\n",
              "monitor signage,monior/monitor tv,tv,audio/video                                                          1\n",
              "monitor signage,commercial tv,monior/monitor tv,projector,tv                                              1\n",
              "monitor signage,tv                                                                                        1\n",
              "monitor signage,monior/monitor tv,vacuum cleaner,tv,home beauty,commercial tv,pc,refrigerator,styler      1\n",
              "Name: product_category, dtype: int64"
            ]
          },
          "metadata": {},
          "execution_count": 13
        }
      ]
    },
    {
      "cell_type": "markdown",
      "source": [
        "## ver_win_ratio_per_bu\n",
        "* 특정 Vertical Level1의 Business Unit 별 샘플 수 대비\n",
        "영업 전환된 샘플 수의 비율을 계산"
      ],
      "metadata": {
        "id": "vft4lkYH2Tds"
      }
    },
    {
      "cell_type": "code",
      "source": [
        "# 'historical_existing_cnt' = 이전에 Converted(영업 전환) 되었던 횟수\n",
        "## vertical level1 이 뭘까..?\n",
        "train_df['ver_win_ratio_per_bu'].value_counts()"
      ],
      "metadata": {
        "colab": {
          "base_uri": "https://localhost:8080/"
        },
        "id": "QkU5ZnHF2ZaD",
        "outputId": "f9cde93a-b134-40cc-c9d5-1604002ffc78"
      },
      "execution_count": 14,
      "outputs": [
        {
          "output_type": "execute_result",
          "data": {
            "text/plain": [
              "0.064566    2460\n",
              "0.049840    2028\n",
              "0.020121    1365\n",
              "0.048630    1356\n",
              "0.026846    1278\n",
              "0.064070    1075\n",
              "0.071345     984\n",
              "0.011583     788\n",
              "0.022634     713\n",
              "0.060924     540\n",
              "0.079412     421\n",
              "0.036913     403\n",
              "0.035484     385\n",
              "0.031579     271\n",
              "0.053571     216\n",
              "0.051471     210\n",
              "0.028777     200\n",
              "0.022727     173\n",
              "0.128571     156\n",
              "0.131148     148\n",
              "0.227273      62\n",
              "0.285714      43\n",
              "0.034483      29\n",
              "Name: ver_win_ratio_per_bu, dtype: int64"
            ]
          },
          "metadata": {},
          "execution_count": 14
        }
      ]
    },
    {
      "cell_type": "markdown",
      "source": [
        "## business_area / business_subarea\n",
        "* 'business_area' : 고객의 사업 영역\n",
        "* 'business_subarea' : 고객의 세부 사업 영역"
      ],
      "metadata": {
        "id": "JlwKiVuX2cNp"
      }
    },
    {
      "cell_type": "code",
      "source": [
        "train_df['business_area'].value_counts()"
      ],
      "metadata": {
        "colab": {
          "base_uri": "https://localhost:8080/"
        },
        "id": "axz6BLsd2ejp",
        "outputId": "7125b339-440c-4eb4-cef6-cfcd5aea6521"
      },
      "execution_count": 15,
      "outputs": [
        {
          "output_type": "execute_result",
          "data": {
            "text/plain": [
              "corporate / office                4097\n",
              "retail                            3011\n",
              "hotel & accommodation             2013\n",
              "special purpose                   1929\n",
              "residential (home)                1818\n",
              "education                         1727\n",
              "hospital & health care            1199\n",
              "factory                           1035\n",
              "government department              650\n",
              "public facility                    519\n",
              "transportation                     306\n",
              "power plant / renewable energy     113\n",
              "Name: business_area, dtype: int64"
            ]
          },
          "metadata": {},
          "execution_count": 15
        }
      ]
    },
    {
      "cell_type": "code",
      "source": [
        "# others가 너무 많은데..?\n",
        "train_df['business_subarea'].value_counts()"
      ],
      "metadata": {
        "colab": {
          "base_uri": "https://localhost:8080/"
        },
        "id": "dkJmeeka7A9H",
        "outputId": "9e3df805-063e-42b4-d897-b8169defc767"
      },
      "execution_count": 16,
      "outputs": [
        {
          "output_type": "execute_result",
          "data": {
            "text/plain": [
              "Others                           1740\n",
              "Other Stores                      280\n",
              "Hospital                          267\n",
              "Manufacturing Factory / Plant     196\n",
              "Construction                      191\n",
              "                                 ... \n",
              "Duty Free Shop                      2\n",
              "Dormitory                           1\n",
              "Casino Resort                       1\n",
              "Holdings                            1\n",
              "Travel Agency                       1\n",
              "Name: business_subarea, Length: 86, dtype: int64"
            ]
          },
          "metadata": {},
          "execution_count": 16
        }
      ]
    },
    {
      "cell_type": "markdown",
      "source": [
        "## lead_owner\n",
        "영업 담당자 이름"
      ],
      "metadata": {
        "id": "OSuaN0q77Tnw"
      }
    },
    {
      "cell_type": "code",
      "source": [
        "# 각 숫자가 무엇과 관련있는지 확인필요\n",
        "train_df['lead_owner'].value_counts()"
      ],
      "metadata": {
        "colab": {
          "base_uri": "https://localhost:8080/"
        },
        "id": "bhB7BXc57Q27",
        "outputId": "60bd884f-f4f5-4c69-94fb-9392f31116ad"
      },
      "execution_count": 17,
      "outputs": [
        {
          "output_type": "execute_result",
          "data": {
            "text/plain": [
              "174    4627\n",
              "175    4120\n",
              "97     2499\n",
              "23     2453\n",
              "194    2208\n",
              "       ... \n",
              "481       1\n",
              "909       1\n",
              "979       1\n",
              "111       1\n",
              "756       1\n",
              "Name: lead_owner, Length: 984, dtype: int64"
            ]
          },
          "metadata": {},
          "execution_count": 17
        }
      ]
    }
  ]
}
