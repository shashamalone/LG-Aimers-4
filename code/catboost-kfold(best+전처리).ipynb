{
 "cells": [
  {
   "cell_type": "markdown",
   "id": "8f509e82",
   "metadata": {
    "id": "017e9265"
   },
   "source": [
    "# 영업 성공 여부 분류 경진대회"
   ]
  },
  {
   "cell_type": "markdown",
   "id": "d911b4ea",
   "metadata": {
    "id": "acdab431"
   },
   "source": [
    "## 1. 데이터 확인"
   ]
  },
  {
   "cell_type": "markdown",
   "id": "12e14313",
   "metadata": {
    "id": "2b8341e8"
   },
   "source": [
    "### 필수 라이브러리"
   ]
  },
  {
   "cell_type": "code",
   "execution_count": 1,
   "id": "8d04e8e1",
   "metadata": {
    "execution": {
     "iopub.execute_input": "2024-02-14T15:17:48.723197Z",
     "iopub.status.busy": "2024-02-14T15:17:48.722878Z",
     "iopub.status.idle": "2024-02-14T15:18:00.621394Z",
     "shell.execute_reply": "2024-02-14T15:18:00.620475Z",
     "shell.execute_reply.started": "2024-02-14T15:17:48.723168Z"
    }
   },
   "outputs": [
    {
     "name": "stdout",
     "output_type": "stream",
     "text": [
      "Defaulting to user installation because normal site-packages is not writeable\n",
      "Requirement already satisfied: catboost in ./.local/lib/python3.10/site-packages (1.2.2)\n",
      "Requirement already satisfied: numpy>=1.16.0 in ./.local/lib/python3.10/site-packages (from catboost) (1.23.5)\n",
      "Requirement already satisfied: matplotlib in ./.local/lib/python3.10/site-packages (from catboost) (3.8.2)\n",
      "Requirement already satisfied: graphviz in ./.local/lib/python3.10/site-packages (from catboost) (0.20.1)\n",
      "Requirement already satisfied: plotly in ./.local/lib/python3.10/site-packages (from catboost) (5.18.0)\n",
      "Requirement already satisfied: pandas>=0.24 in ./.local/lib/python3.10/site-packages (from catboost) (2.1.4)\n",
      "Requirement already satisfied: six in ./.local/lib/python3.10/site-packages (from catboost) (1.16.0)\n",
      "Requirement already satisfied: scipy in ./.local/lib/python3.10/site-packages (from catboost) (1.11.4)\n",
      "Requirement already satisfied: tzdata>=2022.1 in ./.local/lib/python3.10/site-packages (from pandas>=0.24->catboost) (2023.4)\n",
      "Requirement already satisfied: python-dateutil>=2.8.2 in ./.local/lib/python3.10/site-packages (from pandas>=0.24->catboost) (2.8.2)\n",
      "Requirement already satisfied: pytz>=2020.1 in ./.local/lib/python3.10/site-packages (from pandas>=0.24->catboost) (2023.3.post1)\n",
      "Requirement already satisfied: packaging>=20.0 in ./.local/lib/python3.10/site-packages (from matplotlib->catboost) (23.2)\n",
      "Requirement already satisfied: kiwisolver>=1.3.1 in ./.local/lib/python3.10/site-packages (from matplotlib->catboost) (1.4.5)\n",
      "Requirement already satisfied: pyparsing>=2.3.1 in ./.local/lib/python3.10/site-packages (from matplotlib->catboost) (3.1.1)\n",
      "Requirement already satisfied: fonttools>=4.22.0 in ./.local/lib/python3.10/site-packages (from matplotlib->catboost) (4.47.2)\n",
      "Requirement already satisfied: contourpy>=1.0.1 in ./.local/lib/python3.10/site-packages (from matplotlib->catboost) (1.2.0)\n",
      "Requirement already satisfied: cycler>=0.10 in ./.local/lib/python3.10/site-packages (from matplotlib->catboost) (0.12.1)\n",
      "Requirement already satisfied: pillow>=8 in ./.local/lib/python3.10/site-packages (from matplotlib->catboost) (10.2.0)\n",
      "Requirement already satisfied: tenacity>=6.2.0 in ./.local/lib/python3.10/site-packages (from plotly->catboost) (8.2.3)\n",
      "\n",
      "\u001b[1m[\u001b[0m\u001b[34;49mnotice\u001b[0m\u001b[1;39;49m]\u001b[0m\u001b[39;49m A new release of pip is available: \u001b[0m\u001b[31;49m23.0.1\u001b[0m\u001b[39;49m -> \u001b[0m\u001b[32;49m24.0\u001b[0m\n",
      "\u001b[1m[\u001b[0m\u001b[34;49mnotice\u001b[0m\u001b[1;39;49m]\u001b[0m\u001b[39;49m To update, run: \u001b[0m\u001b[32;49mpip install --upgrade pip\u001b[0m\n"
     ]
    }
   ],
   "source": [
    "!pip install catboost"
   ]
  },
  {
   "cell_type": "code",
   "execution_count": 2,
   "id": "649ad65c",
   "metadata": {
    "execution": {
     "iopub.execute_input": "2024-02-14T15:18:00.622973Z",
     "iopub.status.busy": "2024-02-14T15:18:00.622678Z",
     "iopub.status.idle": "2024-02-14T15:18:05.703335Z",
     "shell.execute_reply": "2024-02-14T15:18:05.702382Z",
     "shell.execute_reply.started": "2024-02-14T15:18:00.622947Z"
    },
    "id": "a315cc58"
   },
   "outputs": [],
   "source": [
    "import pandas as pd\n",
    "import numpy as np\n",
    "from sklearn.metrics import (\n",
    "    accuracy_score,\n",
    "    confusion_matrix,\n",
    "    f1_score,\n",
    "    precision_score,\n",
    "    recall_score,\n",
    "    make_scorer,\n",
    ")\n",
    "from sklearn.model_selection import train_test_split\n",
    "from sklearn.impute import SimpleImputer\n",
    "from sklearn.model_selection import RandomizedSearchCV\n",
    "from scipy.stats import randint\n",
    "from sklearn.model_selection import KFold\n",
    "from collections import Counter\n",
    "from catboost import Pool,CatBoostClassifier"
   ]
  },
  {
   "cell_type": "markdown",
   "id": "47e47429",
   "metadata": {
    "id": "412f98cc"
   },
   "source": [
    "### 데이터 셋 읽어오기"
   ]
  },
  {
   "cell_type": "code",
   "execution_count": 3,
   "id": "29060655",
   "metadata": {
    "execution": {
     "iopub.execute_input": "2024-02-14T17:33:57.490533Z",
     "iopub.status.busy": "2024-02-14T17:33:57.490147Z",
     "iopub.status.idle": "2024-02-14T17:33:57.802448Z",
     "shell.execute_reply": "2024-02-14T17:33:57.801599Z",
     "shell.execute_reply.started": "2024-02-14T17:33:57.490505Z"
    },
    "id": "7ada941e"
   },
   "outputs": [],
   "source": [
    "df_train = pd.read_csv(\"train.csv\") # 학습용 데이터\n",
    "df_test = pd.read_csv(\"submission.csv\") # 테스트 데이터(제출파일의 데이터)"
   ]
  },
  {
   "cell_type": "code",
   "execution_count": 4,
   "id": "95b84e8a",
   "metadata": {
    "colab": {
     "base_uri": "https://localhost:8080/",
     "height": 342
    },
    "execution": {
     "iopub.execute_input": "2024-02-14T17:33:57.804230Z",
     "iopub.status.busy": "2024-02-14T17:33:57.803875Z",
     "iopub.status.idle": "2024-02-14T17:33:57.826639Z",
     "shell.execute_reply": "2024-02-14T17:33:57.825677Z",
     "shell.execute_reply.started": "2024-02-14T17:33:57.804202Z"
    },
    "id": "be9af12a",
    "outputId": "37a90111-c282-4fdd-90c7-84ab944c074b"
   },
   "outputs": [
    {
     "data": {
      "text/html": [
       "<div>\n",
       "<style scoped>\n",
       "    .dataframe tbody tr th:only-of-type {\n",
       "        vertical-align: middle;\n",
       "    }\n",
       "\n",
       "    .dataframe tbody tr th {\n",
       "        vertical-align: top;\n",
       "    }\n",
       "\n",
       "    .dataframe thead th {\n",
       "        text-align: right;\n",
       "    }\n",
       "</style>\n",
       "<table border=\"1\" class=\"dataframe\">\n",
       "  <thead>\n",
       "    <tr style=\"text-align: right;\">\n",
       "      <th></th>\n",
       "      <th>bant_submit</th>\n",
       "      <th>customer_country</th>\n",
       "      <th>business_unit</th>\n",
       "      <th>com_reg_ver_win_rate</th>\n",
       "      <th>customer_idx</th>\n",
       "      <th>customer_type</th>\n",
       "      <th>enterprise</th>\n",
       "      <th>historical_existing_cnt</th>\n",
       "      <th>id_strategic_ver</th>\n",
       "      <th>it_strategic_ver</th>\n",
       "      <th>...</th>\n",
       "      <th>response_corporate</th>\n",
       "      <th>expected_timeline</th>\n",
       "      <th>ver_cus</th>\n",
       "      <th>ver_pro</th>\n",
       "      <th>ver_win_rate_x</th>\n",
       "      <th>ver_win_ratio_per_bu</th>\n",
       "      <th>business_area</th>\n",
       "      <th>business_subarea</th>\n",
       "      <th>lead_owner</th>\n",
       "      <th>is_converted</th>\n",
       "    </tr>\n",
       "  </thead>\n",
       "  <tbody>\n",
       "    <tr>\n",
       "      <th>0</th>\n",
       "      <td>1.0</td>\n",
       "      <td>/Quezon City/Philippines</td>\n",
       "      <td>AS</td>\n",
       "      <td>0.066667</td>\n",
       "      <td>32160</td>\n",
       "      <td>End-Customer</td>\n",
       "      <td>Enterprise</td>\n",
       "      <td>NaN</td>\n",
       "      <td>NaN</td>\n",
       "      <td>NaN</td>\n",
       "      <td>...</td>\n",
       "      <td>LGEPH</td>\n",
       "      <td>less than 3 months</td>\n",
       "      <td>1</td>\n",
       "      <td>0</td>\n",
       "      <td>0.003079</td>\n",
       "      <td>0.026846</td>\n",
       "      <td>corporate / office</td>\n",
       "      <td>Engineering</td>\n",
       "      <td>0</td>\n",
       "      <td>True</td>\n",
       "    </tr>\n",
       "    <tr>\n",
       "      <th>1</th>\n",
       "      <td>1.0</td>\n",
       "      <td>/PH-00/Philippines</td>\n",
       "      <td>AS</td>\n",
       "      <td>0.066667</td>\n",
       "      <td>23122</td>\n",
       "      <td>End-Customer</td>\n",
       "      <td>Enterprise</td>\n",
       "      <td>12.0</td>\n",
       "      <td>NaN</td>\n",
       "      <td>NaN</td>\n",
       "      <td>...</td>\n",
       "      <td>LGEPH</td>\n",
       "      <td>less than 3 months</td>\n",
       "      <td>1</td>\n",
       "      <td>0</td>\n",
       "      <td>0.003079</td>\n",
       "      <td>0.026846</td>\n",
       "      <td>corporate / office</td>\n",
       "      <td>Advertising</td>\n",
       "      <td>1</td>\n",
       "      <td>True</td>\n",
       "    </tr>\n",
       "    <tr>\n",
       "      <th>2</th>\n",
       "      <td>1.0</td>\n",
       "      <td>/Kolkata /India</td>\n",
       "      <td>AS</td>\n",
       "      <td>0.088889</td>\n",
       "      <td>1755</td>\n",
       "      <td>End-Customer</td>\n",
       "      <td>Enterprise</td>\n",
       "      <td>144.0</td>\n",
       "      <td>NaN</td>\n",
       "      <td>NaN</td>\n",
       "      <td>...</td>\n",
       "      <td>LGEIL</td>\n",
       "      <td>less than 3 months</td>\n",
       "      <td>1</td>\n",
       "      <td>0</td>\n",
       "      <td>0.003079</td>\n",
       "      <td>0.026846</td>\n",
       "      <td>corporate / office</td>\n",
       "      <td>Construction</td>\n",
       "      <td>2</td>\n",
       "      <td>True</td>\n",
       "    </tr>\n",
       "    <tr>\n",
       "      <th>3</th>\n",
       "      <td>1.0</td>\n",
       "      <td>/Bhubaneswar/India</td>\n",
       "      <td>AS</td>\n",
       "      <td>0.088889</td>\n",
       "      <td>4919</td>\n",
       "      <td>End-Customer</td>\n",
       "      <td>Enterprise</td>\n",
       "      <td>NaN</td>\n",
       "      <td>NaN</td>\n",
       "      <td>NaN</td>\n",
       "      <td>...</td>\n",
       "      <td>LGEIL</td>\n",
       "      <td>less than 3 months</td>\n",
       "      <td>1</td>\n",
       "      <td>0</td>\n",
       "      <td>0.003079</td>\n",
       "      <td>0.026846</td>\n",
       "      <td>corporate / office</td>\n",
       "      <td>IT/Software</td>\n",
       "      <td>3</td>\n",
       "      <td>True</td>\n",
       "    </tr>\n",
       "    <tr>\n",
       "      <th>4</th>\n",
       "      <td>1.0</td>\n",
       "      <td>/Hyderabad/India</td>\n",
       "      <td>AS</td>\n",
       "      <td>0.088889</td>\n",
       "      <td>17126</td>\n",
       "      <td>Specifier/ Influencer</td>\n",
       "      <td>Enterprise</td>\n",
       "      <td>NaN</td>\n",
       "      <td>NaN</td>\n",
       "      <td>NaN</td>\n",
       "      <td>...</td>\n",
       "      <td>LGEIL</td>\n",
       "      <td>less than 3 months</td>\n",
       "      <td>0</td>\n",
       "      <td>0</td>\n",
       "      <td>0.003079</td>\n",
       "      <td>0.026846</td>\n",
       "      <td>corporate / office</td>\n",
       "      <td>NaN</td>\n",
       "      <td>4</td>\n",
       "      <td>True</td>\n",
       "    </tr>\n",
       "  </tbody>\n",
       "</table>\n",
       "<p>5 rows × 29 columns</p>\n",
       "</div>"
      ],
      "text/plain": [
       "   bant_submit          customer_country business_unit  com_reg_ver_win_rate  \\\n",
       "0          1.0  /Quezon City/Philippines            AS              0.066667   \n",
       "1          1.0        /PH-00/Philippines            AS              0.066667   \n",
       "2          1.0           /Kolkata /India            AS              0.088889   \n",
       "3          1.0        /Bhubaneswar/India            AS              0.088889   \n",
       "4          1.0          /Hyderabad/India            AS              0.088889   \n",
       "\n",
       "   customer_idx          customer_type  enterprise  historical_existing_cnt  \\\n",
       "0         32160           End-Customer  Enterprise                      NaN   \n",
       "1         23122           End-Customer  Enterprise                     12.0   \n",
       "2          1755           End-Customer  Enterprise                    144.0   \n",
       "3          4919           End-Customer  Enterprise                      NaN   \n",
       "4         17126  Specifier/ Influencer  Enterprise                      NaN   \n",
       "\n",
       "   id_strategic_ver  it_strategic_ver  ...  response_corporate  \\\n",
       "0               NaN               NaN  ...               LGEPH   \n",
       "1               NaN               NaN  ...               LGEPH   \n",
       "2               NaN               NaN  ...               LGEIL   \n",
       "3               NaN               NaN  ...               LGEIL   \n",
       "4               NaN               NaN  ...               LGEIL   \n",
       "\n",
       "    expected_timeline  ver_cus ver_pro ver_win_rate_x ver_win_ratio_per_bu  \\\n",
       "0  less than 3 months        1       0       0.003079             0.026846   \n",
       "1  less than 3 months        1       0       0.003079             0.026846   \n",
       "2  less than 3 months        1       0       0.003079             0.026846   \n",
       "3  less than 3 months        1       0       0.003079             0.026846   \n",
       "4  less than 3 months        0       0       0.003079             0.026846   \n",
       "\n",
       "        business_area business_subarea lead_owner is_converted  \n",
       "0  corporate / office      Engineering          0         True  \n",
       "1  corporate / office      Advertising          1         True  \n",
       "2  corporate / office     Construction          2         True  \n",
       "3  corporate / office      IT/Software          3         True  \n",
       "4  corporate / office              NaN          4         True  \n",
       "\n",
       "[5 rows x 29 columns]"
      ]
     },
     "execution_count": 4,
     "metadata": {},
     "output_type": "execute_result"
    }
   ],
   "source": [
    "df_train.head() # 학습용 데이터 살펴보기"
   ]
  },
  {
   "cell_type": "markdown",
   "id": "5b29915f",
   "metadata": {
    "id": "af526c13"
   },
   "source": [
    "## 2. 데이터 전처리"
   ]
  },
  {
   "cell_type": "code",
   "execution_count": 5,
   "id": "3cc7758d",
   "metadata": {},
   "outputs": [],
   "source": [
    "# 바꿔줄 단어들을 리스트로 나열\n",
    "End = ['End-user', 'End-Customer', 'Commercial end-user']\n",
    "Specifier = ['Specifier / Influencer']\n",
    "Solution  = ['Meeting Solution', 'Software / Solution Provider', 'Software/Solution Provider']\n",
    "Service = ['Authorized Service Center', 'Authorized Service Dealer']\n",
    "Other = ['Other', 'Others', 'Etc.']"
   ]
  },
  {
   "cell_type": "code",
   "execution_count": 6,
   "id": "272fc773",
   "metadata": {},
   "outputs": [],
   "source": [
    "df_train.loc[df_train['customer_type'].isin(End), 'customer_type'] = 'End Customer'\n",
    "df_train.loc[df_train['customer_type'].isin(Specifier), 'customer_type'] = 'Specifier/ Influencer'\n",
    "df_train.loc[df_train['customer_type'].isin(Solution), 'customer_type'] = 'Solution Eco-Partner'\n",
    "df_train.loc[df_train['customer_type'].isin(Service), 'customer_type'] = 'Service Partner'\n",
    "df_train.loc[df_train['customer_type'].isin(Other), 'customer_type'] = 'Other'"
   ]
  },
  {
   "cell_type": "code",
   "execution_count": 7,
   "id": "180d1f94",
   "metadata": {},
   "outputs": [],
   "source": [
    "## df_train에 적용된 코드와 동일한 처리를 df_test에도 적용\n",
    "df_test.loc[df_test['customer_type'].isin(End), 'customer_type'] = 'End Customer'\n",
    "df_test.loc[df_test['customer_type'].isin(Specifier), 'customer_type'] = 'Specifier/ Influencer'\n",
    "df_test.loc[df_test['customer_type'].isin(Solution), 'customer_type'] = 'Solution Eco-Partner'\n",
    "df_test.loc[df_test['customer_type'].isin(Service), 'customer_type'] = 'Service Partner'\n",
    "df_test.loc[df_test['customer_type'].isin(Other), 'customer_type'] = 'Other'"
   ]
  },
  {
   "cell_type": "code",
   "execution_count": 8,
   "id": "51bb5f4f",
   "metadata": {},
   "outputs": [
    {
     "data": {
      "text/plain": [
       "customer_type\n",
       "End Customer             10652\n",
       "Specifier/ Influencer     2568\n",
       "Channel Partner           1368\n",
       "Service Partner            349\n",
       "Solution Eco-Partner       154\n",
       "Installer/Contractor        52\n",
       "Corporate                   31\n",
       "HVAC Engineer               23\n",
       "Other                       20\n",
       "Engineer                    20\n",
       "Developer                   17\n",
       "Technician                  16\n",
       "Consultant                  15\n",
       "Home Owner                  10\n",
       "Manager / Director           8\n",
       "Homeowner                    5\n",
       "Installer                    5\n",
       "Architect/Consultant         5\n",
       "Reseller                     5\n",
       "Interior Designer            5\n",
       "Distributor                  4\n",
       "System Integrator            2\n",
       "Dealer/Distributor           2\n",
       "Technical Assistant          1\n",
       "Administrator                1\n",
       "Name: count, dtype: int64"
      ]
     },
     "execution_count": 8,
     "metadata": {},
     "output_type": "execute_result"
    }
   ],
   "source": [
    "# 결과확인\n",
    "df_train['customer_type'].value_counts()"
   ]
  },
  {
   "cell_type": "code",
   "execution_count": 9,
   "id": "bd0db416",
   "metadata": {
    "execution": {
     "iopub.execute_input": "2024-02-14T17:33:59.640499Z",
     "iopub.status.busy": "2024-02-14T17:33:59.640089Z",
     "iopub.status.idle": "2024-02-14T17:34:00.508170Z",
     "shell.execute_reply": "2024-02-14T17:34:00.507274Z",
     "shell.execute_reply.started": "2024-02-14T17:33:59.640465Z"
    }
   },
   "outputs": [],
   "source": [
    "def assign_id_strategic_ver(row):\n",
    "    if row['business_unit'] == 'ID' and row['business_area'] in ['corporate / office', 'retail', 'hotel & accommodation', 'education']:\n",
    "        return 1\n",
    "    else:\n",
    "        return 0\n",
    "\n",
    "df_train['id_strategic_ver'] = df_train.apply(assign_id_strategic_ver, axis=1)\n",
    "df_test['id_strategic_ver'] = df_test.apply(assign_id_strategic_ver, axis=1)"
   ]
  },
  {
   "cell_type": "code",
   "execution_count": 10,
   "id": "7b6089d7",
   "metadata": {
    "execution": {
     "iopub.execute_input": "2024-02-14T17:34:00.509808Z",
     "iopub.status.busy": "2024-02-14T17:34:00.509552Z",
     "iopub.status.idle": "2024-02-14T17:34:01.287708Z",
     "shell.execute_reply": "2024-02-14T17:34:01.286788Z",
     "shell.execute_reply.started": "2024-02-14T17:34:00.509786Z"
    }
   },
   "outputs": [],
   "source": [
    "def assign_it_strategic_ver(row):\n",
    "    if row['business_unit'] == 'IT' and row['business_area'] in ['corporate / office', 'retail', 'hotel & accommodation', 'education']:\n",
    "        return 1\n",
    "    else:\n",
    "        return 0\n",
    "\n",
    "df_train['it_strategic_ver'] = df_train.apply(assign_it_strategic_ver, axis=1)\n",
    "df_test['it_strategic_ver'] = df_test.apply(assign_it_strategic_ver, axis=1)"
   ]
  },
  {
   "cell_type": "code",
   "execution_count": 11,
   "id": "f1d974db",
   "metadata": {
    "execution": {
     "iopub.execute_input": "2024-02-14T17:34:01.289526Z",
     "iopub.status.busy": "2024-02-14T17:34:01.289203Z",
     "iopub.status.idle": "2024-02-14T17:34:02.275590Z",
     "shell.execute_reply": "2024-02-14T17:34:02.274638Z",
     "shell.execute_reply.started": "2024-02-14T17:34:01.289499Z"
    }
   },
   "outputs": [],
   "source": [
    "# 'id_strategic_ver'나 'it_strategic_ver' 중 하나가 1인 경우에는 'idit_strategic_ver'에 1을 할당\n",
    "df_train['idit_strategic_ver'] = df_train.apply(lambda row: 1 if row['id_strategic_ver'] == 1 or row['it_strategic_ver'] == 1 else 0, axis=1)\n",
    "\n",
    "# 'id_strategic_ver'나 'it_strategic_ver' 중 하나가 1인 경우에는 'idit_strategic_ver'에 1을 할당\n",
    "df_test['idit_strategic_ver'] = df_test.apply(lambda row: 1 if row['id_strategic_ver'] == 1 or row['it_strategic_ver'] == 1 else 0, axis=1)\n"
   ]
  },
  {
   "cell_type": "code",
   "execution_count": 12,
   "id": "e598ce48",
   "metadata": {},
   "outputs": [
    {
     "name": "stdout",
     "output_type": "stream",
     "text": [
      "            customer_position       customer_job\n",
      "14048             engineering  associate/analyst\n",
      "19019                  others             others\n",
      "19021                  others             others\n",
      "19124                  others             others\n",
      "19129                  others             others\n",
      "...                       ...                ...\n",
      "58189    surgery professional            manager\n",
      "58190             pathologist            manager\n",
      "58196                research             intern\n",
      "58245  radiology professional            manager\n",
      "58532                  others             others\n",
      "\n",
      "[496 rows x 2 columns]\n",
      "     customer_position customer_job\n",
      "10              others       others\n",
      "49              others       others\n",
      "55              others       others\n",
      "63              others       others\n",
      "68              others       others\n",
      "...                ...          ...\n",
      "5131            others       others\n",
      "5209            others       others\n",
      "5238            others       others\n",
      "5242            others       others\n",
      "5259            others       others\n",
      "\n",
      "[256 rows x 2 columns]\n"
     ]
    }
   ],
   "source": [
    "### customer_job과 customer_position 의 값을 배열과 비교하여 변경하기 ###\n",
    "def search_func_pos(df):\n",
    "    # 대소문자를 구분하지 않기 위해 소문자로 변환\n",
    "    df['customer_position'] = df['customer_position'].str.lower()\n",
    "    df['customer_job'] = df['customer_job'].str.lower()\n",
    "\n",
    "    # job function과 job seniority 배열 소문자 변환하여 비교\n",
    "    job_function = [\"3d/vfx art\", \"accounting\", \"administrative\", \"arts and design\", \"business development\", \"clinical specialist\", \"community and social services\",\n",
    "                    \"consulting\", \"education\", \"engineering\", \"entrepreneurship\", \"film production\", \"finance\", \"graphic/color art\", \"healthcare services\",\n",
    "                    \"human resources\", \"information technology\", \"legal\", \"marketing\", \"media and communication\", \"medical imaging specialist\", \"medical solution\",\n",
    "                    \"military and protective services\", \"operations\", \"pathologist\", \"product management\", \"program and project management\",\n",
    "                    \"purchasing\", \"quality assurance\", \"radiology professional\", \"real estate\", \"research\", \"sales\", \"support\", \"surgery professional\", \"others\", \"other\" ]\n",
    "\n",
    "    job_seniority = [\"ceo/founder\", \"partner\", \"c-level executive\", \"vice president\", \"director\", \"manager\",\n",
    "                     \"associate/analyst\", \"entry level\", \"trainee\", \"intern\",\"others\"]\n",
    "\n",
    "    # customer_position과 customer_job을 비교하여 조건에 맞는 행을 선택합니다.\n",
    "    condition = (df['customer_position'].isin(job_function)) & (df['customer_job'].isin(job_seniority))\n",
    "    condition_T = df[condition]\n",
    "    # DataFrame으로 변환\n",
    "    condition_T = pd.DataFrame(condition_T, columns=['customer_position', 'customer_job'])\n",
    "    print(condition_T)\n",
    "\n",
    "    # 조건에 맞는 행의 customer_position과 customer_job 값을 서로 변경합니다.\n",
    "    df.loc[condition, ['customer_position', 'customer_job']] = df.loc[condition, ['customer_job', 'customer_position']].values\n",
    "\n",
    "    return df\n",
    "\n",
    "# 함수를 호출하여 데이터프레임을 변경합니다.\n",
    "df_train = search_func_pos(df_train)\n",
    "df_test = search_func_pos(df_test)"
   ]
  },
  {
   "cell_type": "code",
   "execution_count": 13,
   "id": "0b52f748",
   "metadata": {},
   "outputs": [],
   "source": [
    "### job function에 해당하지 않는 컬럼 확인 ###\n",
    "# 37개\n",
    "job_function = [\"3d/vfx art\", \"accounting\", \"administrative\", \"arts and design\", \"business development\", \"clinical specialist\", \"community and social services\",\n",
    "                \"consulting\", \"education\", \"engineering\", \"entrepreneurship\", \"film production\", \"finance\", \"graphic/color art\", \"healthcare services\",\n",
    "                \"human resources\", \"information technology\", \"legal\", \"marketing\", \"media and communication\", \"medical imaging specialist\", \"medical solution\",\n",
    "                \"military and protective services\", \"operations\", \"pathologist\", \"product management\", \"program and project management\",\n",
    "                \"purchasing\", \"quality assurance\", \"radiology professional\", \"real estate\", \"research\", \"sales\", \"support\", \"surgery professional\", \"others\", \"other\" ]\n",
    "\n",
    "# customer_job 컬럼에서 job_function에 해당하는 카테고리를 필터링\n",
    "function_job = set(job_function)\n",
    "matching_job = set(df_train['customer_job']).intersection(function_job)\n",
    "\n",
    "# job_function에 해당하지 않는 나머지 카테고리들을 출력\n",
    "other_job = set(df_train['customer_job']) - matching_job"
   ]
  },
  {
   "cell_type": "code",
   "execution_count": 14,
   "id": "d685eede",
   "metadata": {},
   "outputs": [],
   "source": [
    "# 각 카테고리에 대한 매핑 딕셔너리 생성\n",
    "three_d_vfx_art = [\"3d/vfx art\"]\n",
    "\n",
    "accounting = [\"accounting\", \"accounts payable\", \"account exec/manager\", \"account management\"]\n",
    "\n",
    "administrative = [\"administrative\", \"platform administrator\", \"imaging administrator\", \"pacs administrator\", \"systems administrator\", \"facility administrator\", \"network administrator\", \"admin\", \"admin assistant\", \"administración\", \"administration\", \"administrative assistant\", \"adminisztráció\", \"amministrativo\"]\n",
    "\n",
    "arts_and_design = [\"arts and design\", \"support/facilitator, designer\", \"design and provide equipment\", \"design/build\", \"design/decision maker\", \"design/install/training/support\", \"kreation und design\", \"kreation_und_design\", \"lead designer\", \"művészet_és_design\", \"interior designer\", \"art and design\", \"art installation\", \"arte y diseño\", \"arte_e_design\", \"artist, lead on equipment selection\", \"arts_and_design\", \"design\", \"designer\", \"designer, creative technologist\", \"designer, producer\", \"designer/installer\", \"designere / budget\", \"designers\"]\n",
    "\n",
    "business_development = [\"business development\", \"sourcing & quoting for end user\", \"distributor quotation\", \"developer/property\", \"curation\", \"quotation curator\", \"quote gathering/proposer to owner\", \"quoting project\", \"business_development\", \"development coordinator/procurement\"]\n",
    "\n",
    "clinical_specialist = [\"clinical specialist\", \"clinic\", \"mental health\"]\n",
    "\n",
    "community_and_social_services = [\"community and social services\", \"community_and_social_services\"]\n",
    "\n",
    "consulting = [\"consulting\", \"technical advisor, reseller\", \"consultent\", \"consultant\", \"consultant / purchaser\", \"consultant,cabinet fabricator\", \"strategic communications\", \"strategy & operations specialist\", \"solution advisor\", \"solutions architect\", \"technology consultant\"]\n",
    "\n",
    "education = [\"education\", \"teacher\", \"teaching\", \"educator\", \"k12 school\", \"higher education (college & university)\", \"institute & academy\", \"instructor\"]\n",
    "\n",
    "engineering = [\"engineering\", \"tech\", \"technical\", \"electrical contractor\", \"implement\", \"senior design engineer\", \"solution engineer\", \"system engineer\", \"systems engineer\", \"lead engineer\", \"electronics & telco\", \"engineer\", \"engineering & technical\", \"engineering & technical executive\", \"engineering director\", \"engineering, design, and install\", \"system designer, integrator\", \"systems design\", \"systems designer\", \"principal engineer\", \"hardware\", \"hardware design engineer\", \"hardware selection\", \"chief eng.\", \"chief engineer\", \"chief of engineering\", \"design engineer\", \"director of engineering\"]\n",
    "\n",
    "entrepreneurship = [\"business owner\", \"ceo\", \"director comercial\", \"head\", \"engagement executive\", \"execution\", \"executive\", \"owner\",\"owner representation\", \"owning company\", \"ownner-marketing director\", \"ceo/founder\", \"lead\", \"organizer\", \"leader\", \"vice president\", \"vp/gm\", \"underboss\", \"the big boss\"]\n",
    "\n",
    "film_production = [\"film production\", \"home theater\", \"community theater\"]\n",
    "\n",
    "finance = [\"finance\", \"finanzas\", \"finanzen\", \"pénzügy\", \"finance executive\"]\n",
    "\n",
    "graphic_color_art = [\"graphic/color art\", \"colorist\", \"gc\", \"graphic design\"]\n",
    "\n",
    "healthcare_services = [\"healthcare services\", \"healthcare professionals\", \"healthcare_services\", \"healthcare\"]\n",
    "\n",
    "human_resources = [\"human resources\", \"hr posting\", \"hr\", \"human_resources\"]\n",
    "\n",
    "information_technology = [\"information technology\", \"software developer\", \"emerging technology / innovation\", \"informatics, touch capability\", \"information technology\\u200b\", \"information_technology\", \"infrastructure\", \"it\", \"it - information technology\", \"it admin\", \"it administrator\", \"it dairector\", \"it department\", \"it director\", \"it hardware technician\", \"it integrator\", \"it manager\", \"it project lead\", \"it specialist\", \"it support\", \"it tech.\", \"it/software\", \"application development\", \"cloud / mobility\", \"collaboration & web apps\", \"computing & it\"],\n",
    "\n",
    "legal = [\"legal\"]\n",
    "\n",
    "marketing = [\"marketing\", \"technical marketing\", \"advertising\", \"product marketing\", \"advertising and promotions team\", \"event marketing\", \"field marketing\", \"marketing coordinator\", \"marketing executive\", \"marketing operations\"]\n",
    "\n",
    "media_and_communication = [\"media and communication\", \"broadcasting & media\", \"media and communications\", \"media_and_communication\", \"media_e_comunicazione\", \"medien_und_kommunikation\", \"medios_de_comunicación\", \"média_és_kommunikáció\"]\n",
    "\n",
    "medical_imaging_specialist = [\"medical imaging specialist\", \"medical imaging  specialist\", \"spécialiste_en_imagerie_médicale\"]\n",
    "\n",
    "medical_solution = [\"medical solution\", \"doctor\", \"tierarzt\", \"medical solution  provider\", \"medical solution provider\", \"medical solution provider\\u200b\"]\n",
    "\n",
    "military_and_protective_services = [\"military and protective services\", \"military_and_protective_services\"]\n",
    "\n",
    "operations = [\"coo\", \"director of operations\",\"regional director of operations\", \"operations executive\", \"operations manager\", \"operations\", \"facilities and operations\", \"üzemeltetés\"]\n",
    "\n",
    "pathologist = [\"pathologist\"]\n",
    "\n",
    "product_management = [\"product management\", \"product_management\"]\n",
    "\n",
    "program_and_project_management = [\"program and project management\", \"av project manager\", \"signage subcontractor p/m\", \"general manager - project manager\", \"digital project manager\", \"program directors\", \"gestión_de_proyectos\", \"program-_és_projektmenedzsment\", \"program_and_project_management\", \"program_and_project_manager\", \"programm- und projektmanagement\", \"programm-_und_projektmanagement\", \"project administrator\", \"project coordinator\", \"project director\", \"project facilitator\", \"project head\", \"project lead\", \"project manage\", \"project manager\", \"project manager / estimator\", \"project manager / principal\", \"project manager/designer\", \"project researcher\", \"project sales/manage\", \"projection manager\", \"projectr mgmt\", \"projektmenedzsment\\tprogram and project management\", \"planner\", \"planner/purchaser\", \"planning and installation\", \"pm\", \"a/v project manager\", \"project manager\", \"owner / project manager\", \"producer/project manager\"]\n",
    "\n",
    "purchasing = [\"purchasing\", \"buyer\", \"buyer, coordinating\", \"obtain quotes, process purchase\", \"requirements and buyer\", \"ordering manager\", \"requisition\", \"purchase\", \"purchase and install\", \"purchase dept\", \"purchaser\", \"purchaser, it and installer\", \"purchasers\", \"purchasing agent\", \"purchasing authority\", \"purchasing coordinator\", \"purchasing director\", \"purchasing manager\", \"purchasing supervisor\", \"purchsing\", \"director purchaser\", \"drop, purchase maxhub\", \"public bidder\", \"bidder\"]\n",
    "\n",
    "quality_assurance = [\"quality assurance\", \"quality_assurance\"]\n",
    "\n",
    "radiology_professional = [\"radiology professional\", \"profesional de radiología\", \"radiology  professional\", \"radiology_professional\"]\n",
    "\n",
    "real_estate = [\"real estate\", \"building owner\", \"property owner\"]\n",
    "\n",
    "research = [\"research\", \"associate/analyst\", \"r&d project manager\", \"research & development\", \"research and developement\", \"research products and prices\", \"research/install\", \"product research\", \"product researcher\"]\n",
    "\n",
    "sales = [\"sales\", \"asking for quote for client\", \"field / outside sales\", \"sourcing / procurement\", \"sourcing/procurement\", \"reseller/integrator\", \"procurement\", \"procurement specialist\", \"procurment\", \"revendedor\", \"car dealership\", \"vendor / reseller\", \"vendite\", \"értékesítés\", \"technical sales\", \"reseller\", \"sale\", \"sales engineering\", \"sales executive\", \"sales manager\", \"sales operations\", \"sales rep\", \"salesman\"]\n",
    "\n",
    "support = [\"support\", \"help desk / desktop services\", \"helpdesk specialist\", \"post install support and service\", \"supplier and installation\"]\n",
    "\n",
    "surgery_professional = [\"surgery professional\", \"profesional de cirugía\", \"surgery professional\\u200b\"]\n"
   ]
  },
  {
   "cell_type": "code",
   "execution_count": 15,
   "id": "9e301d94",
   "metadata": {},
   "outputs": [],
   "source": [
    "df_train.loc[df_train['customer_job'].isin(three_d_vfx_art), 'customer_job'] = 'three_d_vfx_art'\n",
    "df_train.loc[df_train['customer_job'].isin(accounting), 'customer_job'] = 'accounting'\n",
    "df_train.loc[df_train['customer_job'].isin(administrative), 'customer_job'] = 'administrative'\n",
    "df_train.loc[df_train['customer_job'].isin(arts_and_design), 'customer_job'] = 'arts_and_design'\n",
    "df_train.loc[df_train['customer_job'].isin(business_development), 'customer_job'] = 'business_development'\n",
    "df_train.loc[df_train['customer_job'].isin(clinical_specialist), 'customer_job'] = 'clinical_specialist'\n",
    "df_train.loc[df_train['customer_job'].isin(community_and_social_services), 'customer_job'] = 'community_and_social_services'\n",
    "df_train.loc[df_train['customer_job'].isin(consulting), 'customer_job'] = 'consulting'\n",
    "df_train.loc[df_train['customer_job'].isin(education), 'customer_job'] = 'education'\n",
    "df_train.loc[df_train['customer_job'].isin(engineering), 'customer_job'] = 'engineering'\n",
    "df_train.loc[df_train['customer_job'].isin(entrepreneurship), 'customer_job'] = 'entrepreneurship'\n",
    "df_train.loc[df_train['customer_job'].isin(film_production), 'customer_job'] = 'film_production'\n",
    "df_train.loc[df_train['customer_job'].isin(finance), 'customer_job'] = 'finance'\n",
    "df_train.loc[df_train['customer_job'].isin(film_production), 'customer_job'] = 'film_production'\n",
    "df_train.loc[df_train['customer_job'].isin(graphic_color_art), 'customer_job'] = 'graphic_color_art'\n",
    "df_train.loc[df_train['customer_job'].isin(healthcare_services), 'customer_job'] = 'healthcare_services'\n",
    "df_train.loc[df_train['customer_job'].isin(human_resources), 'customer_job'] = 'human_resources'\n",
    "df_train.loc[df_train['customer_job'].isin(information_technology), 'customer_job'] = 'information_technology'\n",
    "df_train.loc[df_train['customer_job'].isin(legal), 'customer_job'] = 'legal'\n",
    "df_train.loc[df_train['customer_job'].isin(marketing), 'customer_job'] = 'marketing'\n",
    "df_train.loc[df_train['customer_job'].isin(media_and_communication), 'customer_job'] = 'media_and_communication'\n",
    "df_train.loc[df_train['customer_job'].isin(medical_imaging_specialist), 'customer_job'] = 'medical_imaging_specialist'\n",
    "df_train.loc[df_train['customer_job'].isin(medical_solution), 'customer_job'] = 'medical_solution'\n",
    "df_train.loc[df_train['customer_job'].isin(military_and_protective_services), 'customer_job'] = 'military_and_protective_services'\n",
    "df_train.loc[df_train['customer_job'].isin(operations), 'customer_job'] = 'operations'\n",
    "df_train.loc[df_train['customer_job'].isin(pathologist), 'customer_job'] = 'pathologist'\n",
    "df_train.loc[df_train['customer_job'].isin(product_management), 'customer_job'] = 'product_management'\n",
    "df_train.loc[df_train['customer_job'].isin(program_and_project_management), 'customer_job'] = 'program_and_project_management'\n",
    "df_train.loc[df_train['customer_job'].isin(purchasing), 'customer_job'] = 'purchasing'\n",
    "df_train.loc[df_train['customer_job'].isin(quality_assurance), 'customer_job'] = 'quality_assurance'\n",
    "df_train.loc[df_train['customer_job'].isin(radiology_professional), 'customer_job'] = 'radiology_professional'\n",
    "df_train.loc[df_train['customer_job'].isin(real_estate), 'customer_job'] = 'real_estate'\n",
    "df_train.loc[df_train['customer_job'].isin(research), 'customer_job'] = 'research'\n",
    "df_train.loc[df_train['customer_job'].isin(sales), 'customer_job'] = 'sales'\n",
    "df_train.loc[df_train['customer_job'].isin(support), 'customer_job'] = 'support'\n",
    "df_train.loc[df_train['customer_job'].isin(surgery_professional), 'customer_job'] = 'surgery_professional'"
   ]
  },
  {
   "cell_type": "code",
   "execution_count": 16,
   "id": "1f0d9839",
   "metadata": {},
   "outputs": [],
   "source": [
    "df_test.loc[df_test['customer_job'].isin(three_d_vfx_art), 'customer_job'] = 'three_d_vfx_art'\n",
    "df_test.loc[df_test['customer_job'].isin(accounting), 'customer_job'] = 'accounting'\n",
    "df_test.loc[df_test['customer_job'].isin(administrative), 'customer_job'] = 'administrative'\n",
    "df_test.loc[df_test['customer_job'].isin(arts_and_design), 'customer_job'] = 'arts_and_design'\n",
    "df_test.loc[df_test['customer_job'].isin(business_development), 'customer_job'] = 'business_development'\n",
    "df_test.loc[df_test['customer_job'].isin(clinical_specialist), 'customer_job'] = 'clinical_specialist'\n",
    "df_test.loc[df_test['customer_job'].isin(community_and_social_services), 'customer_job'] = 'community_and_social_services'\n",
    "df_test.loc[df_test['customer_job'].isin(consulting), 'customer_job'] = 'consulting'\n",
    "df_test.loc[df_test['customer_job'].isin(education), 'customer_job'] = 'education'\n",
    "df_test.loc[df_test['customer_job'].isin(engineering), 'customer_job'] = 'engineering'\n",
    "df_test.loc[df_test['customer_job'].isin(entrepreneurship), 'customer_job'] = 'entrepreneurship'\n",
    "df_test.loc[df_test['customer_job'].isin(film_production), 'customer_job'] = 'film_production'\n",
    "df_test.loc[df_test['customer_job'].isin(finance), 'customer_job'] = 'finance'\n",
    "df_test.loc[df_test['customer_job'].isin(film_production), 'customer_job'] = 'film_production'\n",
    "df_test.loc[df_test['customer_job'].isin(graphic_color_art), 'customer_job'] = 'graphic_color_art'\n",
    "df_test.loc[df_test['customer_job'].isin(healthcare_services), 'customer_job'] = 'healthcare_services'\n",
    "df_test.loc[df_test['customer_job'].isin(human_resources), 'customer_job'] = 'human_resources'\n",
    "df_test.loc[df_test['customer_job'].isin(information_technology), 'customer_job'] = 'information_technology'\n",
    "df_test.loc[df_test['customer_job'].isin(legal), 'customer_job'] = 'legal'\n",
    "df_test.loc[df_test['customer_job'].isin(marketing), 'customer_job'] = 'marketing'\n",
    "df_test.loc[df_test['customer_job'].isin(media_and_communication), 'customer_job'] = 'media_and_communication'\n",
    "df_test.loc[df_test['customer_job'].isin(medical_imaging_specialist), 'customer_job'] = 'medical_imaging_specialist'\n",
    "df_test.loc[df_test['customer_job'].isin(medical_solution), 'customer_job'] = 'medical_solution'\n",
    "df_test.loc[df_test['customer_job'].isin(military_and_protective_services), 'customer_job'] = 'military_and_protective_services'\n",
    "df_test.loc[df_test['customer_job'].isin(operations), 'customer_job'] = 'operations'\n",
    "df_test.loc[df_test['customer_job'].isin(pathologist), 'customer_job'] = 'pathologist'\n",
    "df_test.loc[df_test['customer_job'].isin(product_management), 'customer_job'] = 'product_management'\n",
    "df_test.loc[df_test['customer_job'].isin(program_and_project_management), 'customer_job'] = 'program_and_project_management'\n",
    "df_test.loc[df_test['customer_job'].isin(purchasing), 'customer_job'] = 'purchasing'\n",
    "df_test.loc[df_test['customer_job'].isin(quality_assurance), 'customer_job'] = 'quality_assurance'\n",
    "df_test.loc[df_test['customer_job'].isin(radiology_professional), 'customer_job'] = 'radiology_professional'\n",
    "df_test.loc[df_test['customer_job'].isin(real_estate), 'customer_job'] = 'real_estate'\n",
    "df_test.loc[df_test['customer_job'].isin(research), 'customer_job'] = 'research'\n",
    "df_test.loc[df_test['customer_job'].isin(sales), 'customer_job'] = 'sales'\n",
    "df_test.loc[df_test['customer_job'].isin(support), 'customer_job'] = 'support'\n",
    "df_test.loc[df_test['customer_job'].isin(surgery_professional), 'customer_job'] = 'surgery_professional'"
   ]
  },
  {
   "cell_type": "code",
   "execution_count": 17,
   "id": "3af20a88",
   "metadata": {},
   "outputs": [],
   "source": [
    "# 제품군 간단한 전처리 하기\n",
    "\n",
    "# 각 카테고리에 대한 매핑 딕셔너리 생성\n",
    "other = [\"other\", \"others\", \"etc.\", \"khác\", \"outros\", \"lainnya\", \"אחר\", \"otros\"]\n",
    "commercial_tv = [\"commercial tv\", \"commercial tv,tv\", \"commercial tv,audio/video\", \"commercial_tv\", \"tv,commercial tv\", \"comercial tv\"]\n",
    "heating = [\"heating\", \"חימום\" ,\"حلول التدفئة\", \"isıtma\", \"ogrzewanie (pompy ciepła)\", \"calefacción\"]\n",
    "multi_split  = [\"multi-split\", \"פיצול מרובה\", \"multi split\"]\n",
    "single_split = [\"single-split\", \"split tunggal\", \"single split\"]\n",
    "chiller = [\"chiller\", \"مبرد (تشيلر)\", \"soğutucu\", \"pendingin\"]\n",
    "video_wall_signage  = [\"video wall signage\", \"videwall\", \"video wall\"]\n",
    "hotel_tv = [\"hotel tv\", \"酒店電視\"]\n",
    "hospital_tv = [\"hospital tv\", \"醫院電視\"]\n",
    "\n",
    "\n",
    "df_train.loc[df_train['product_category'].isin(other), 'product_category'] = 'other'\n",
    "df_train.loc[df_train['product_category'].isin(commercial_tv), 'product_category'] = 'commercial_tv'\n",
    "df_train.loc[df_train['product_category'].isin(heating), 'product_category'] = 'heating'\n",
    "df_train.loc[df_train['product_category'].isin(multi_split), 'product_category'] = 'multi_split'\n",
    "df_train.loc[df_train['product_category'].isin(single_split), 'product_category'] = 'single_split'\n",
    "df_train.loc[df_train['product_category'].isin(chiller), 'product_category'] = 'chiller'\n",
    "df_train.loc[df_train['product_category'].isin(video_wall_signage), 'product_category'] = 'video_wall_signage'\n",
    "df_train.loc[df_train['product_category'].isin(hotel_tv), 'product_category'] = 'hotel_tv'\n",
    "\n",
    "df_test.loc[df_test['product_category'].isin(other), 'product_category'] = 'other'\n",
    "df_test.loc[df_test['product_category'].isin(commercial_tv), 'product_category'] = 'commercial_tv'\n",
    "df_test.loc[df_test['product_category'].isin(heating), 'product_category'] = 'heating'\n",
    "df_test.loc[df_test['product_category'].isin(multi_split), 'product_category'] = 'multi-split'\n",
    "df_test.loc[df_test['product_category'].isin(single_split), 'product_category'] = 'single_split'\n",
    "df_test.loc[df_test['product_category'].isin(chiller), 'product_category'] = 'chiller'\n",
    "df_test.loc[df_test['product_category'].isin(video_wall_signage), 'product_category'] = 'video_wall_signage'\n",
    "df_test.loc[df_test['product_category'].isin(hotel_tv), 'product_category'] = 'hotel_tv'"
   ]
  },
  {
   "cell_type": "code",
   "execution_count": 18,
   "id": "65a43614",
   "metadata": {},
   "outputs": [],
   "source": [
    "# 방법2 : 전처리만 (레이블 인코딩 X) VER\n",
    "import re\n",
    "\n",
    "# \"less\"가 포함되면 \"Less than 3 months\"을 반환\n",
    "# \"3\"과 \"6\"이 모두 포함되면 \"3 Months ~ 6 Months\"을 반환\n",
    "# \"6\"과 \"9\"가 모두 포함되면 \"6 Months ~ 9 Months\"를 반환\n",
    "# \"9\"와 \"1\"이 모두 포함되면 \"9 Months ~ 1 year\"을 반환\n",
    "# \"more\"가 포함되면 \"More than a year\"를 반환\n",
    "# 그 외의 결측치에는 Not specified 을 반환하는 함수\n",
    "\n",
    "def custom_replace(value):\n",
    "    value_str = str(value)  # 정수형 데이터를 문자열로 변환\n",
    "    if \"less\" in value_str.lower():\n",
    "        return 'Less than 3 months'\n",
    "    elif \"3\" in value_str and \"6\" in value_str:\n",
    "        return '3 Months ~ 6 Months'\n",
    "    elif \"6\" in value_str and \"9\" in value_str:\n",
    "        return '6 Months ~ 9 Months'\n",
    "    elif \"9\" in value_str and \"1\" in value_str:\n",
    "        return '9 Months ~ 1 year'\n",
    "    elif \"more\" in value_str.lower():\n",
    "        return 'More than a year'\n",
    "    else: # 941개 NaN값 처리\n",
    "#         return -1 # 전부 -1\n",
    "        return 'Not specified' #전부 Not specified\n",
    "#         return value  #원래 결측치 값 -> 이후 결측치 0으로 채우기\n",
    "\n",
    "\n",
    "# df_train/df_test에 함수 적용\n",
    "df_train['expected_timeline'] = df_train['expected_timeline'].apply(custom_replace)\n",
    "df_test['expected_timeline'] = df_test['expected_timeline'].apply(custom_replace)"
   ]
  },
  {
   "cell_type": "code",
   "execution_count": 19,
   "id": "445dcf70",
   "metadata": {},
   "outputs": [],
   "source": [
    "### 결측치 처리 함수 작성 ###\n",
    "def ver_cus_0to1(df):\n",
    "  df.loc[(df['business_area'].isin(['corporate / office', 'retail', 'education', 'hotel & accommodation'])) &\n",
    "         (df['customer_type'].isin(['End-Customer', 'End Customer', 'End-user'])),\n",
    "         'ver_cus'] = 1\n",
    "  return df\n",
    "\n",
    "### df_train/df_test에 적용\n",
    "df_train = ver_cus_0to1(df_train)\n",
    "df_test = ver_cus_0to1(df_test)"
   ]
  },
  {
   "cell_type": "code",
   "execution_count": 20,
   "id": "943ceaec",
   "metadata": {},
   "outputs": [],
   "source": [
    "### 결측치 처리 함수 ###\n",
    "def ver_pro_0to1(df):\n",
    "    df.loc[(df['business_area'].isin(['corporate / office', 'retail', 'hotel & accommodation','education'])) &\n",
    "           (df['product_category'].str.contains('signage', case=False) |\n",
    "            df['product_category'].str.contains('hotel tv', case=False)),\n",
    "           'ver_pro'] = 1\n",
    "    return df\n",
    "\n",
    "### df_train/df_test에 적용\n",
    "df_train = ver_pro_0to1(df_train)\n",
    "df_test = ver_pro_0to1(df_test)"
   ]
  },
  {
   "cell_type": "code",
   "execution_count": 21,
   "id": "d2c4271b",
   "metadata": {
    "execution": {
     "iopub.execute_input": "2024-02-14T17:20:43.238091Z",
     "iopub.status.busy": "2024-02-14T17:20:43.237587Z",
     "iopub.status.idle": "2024-02-14T17:20:43.265996Z",
     "shell.execute_reply": "2024-02-14T17:20:43.265017Z",
     "shell.execute_reply.started": "2024-02-14T17:20:43.238065Z"
    }
   },
   "outputs": [
    {
     "data": {
      "text/html": [
       "<div>\n",
       "<style scoped>\n",
       "    .dataframe tbody tr th:only-of-type {\n",
       "        vertical-align: middle;\n",
       "    }\n",
       "\n",
       "    .dataframe tbody tr th {\n",
       "        vertical-align: top;\n",
       "    }\n",
       "\n",
       "    .dataframe thead th {\n",
       "        text-align: right;\n",
       "    }\n",
       "</style>\n",
       "<table border=\"1\" class=\"dataframe\">\n",
       "  <thead>\n",
       "    <tr style=\"text-align: right;\">\n",
       "      <th></th>\n",
       "      <th>bant_submit</th>\n",
       "      <th>customer_country</th>\n",
       "      <th>business_unit</th>\n",
       "      <th>com_reg_ver_win_rate</th>\n",
       "      <th>customer_idx</th>\n",
       "      <th>customer_type</th>\n",
       "      <th>enterprise</th>\n",
       "      <th>historical_existing_cnt</th>\n",
       "      <th>id_strategic_ver</th>\n",
       "      <th>it_strategic_ver</th>\n",
       "      <th>...</th>\n",
       "      <th>response_corporate</th>\n",
       "      <th>expected_timeline</th>\n",
       "      <th>ver_cus</th>\n",
       "      <th>ver_pro</th>\n",
       "      <th>ver_win_rate_x</th>\n",
       "      <th>ver_win_ratio_per_bu</th>\n",
       "      <th>business_area</th>\n",
       "      <th>business_subarea</th>\n",
       "      <th>lead_owner</th>\n",
       "      <th>is_converted</th>\n",
       "    </tr>\n",
       "  </thead>\n",
       "  <tbody>\n",
       "    <tr>\n",
       "      <th>0</th>\n",
       "      <td>1.0</td>\n",
       "      <td>/Quezon City/Philippines</td>\n",
       "      <td>AS</td>\n",
       "      <td>0.066667</td>\n",
       "      <td>32160</td>\n",
       "      <td>End Customer</td>\n",
       "      <td>Enterprise</td>\n",
       "      <td>NaN</td>\n",
       "      <td>0</td>\n",
       "      <td>0</td>\n",
       "      <td>...</td>\n",
       "      <td>LGEPH</td>\n",
       "      <td>Less than 3 months</td>\n",
       "      <td>1</td>\n",
       "      <td>0</td>\n",
       "      <td>0.003079</td>\n",
       "      <td>0.026846</td>\n",
       "      <td>corporate / office</td>\n",
       "      <td>Engineering</td>\n",
       "      <td>0</td>\n",
       "      <td>True</td>\n",
       "    </tr>\n",
       "    <tr>\n",
       "      <th>1</th>\n",
       "      <td>1.0</td>\n",
       "      <td>/PH-00/Philippines</td>\n",
       "      <td>AS</td>\n",
       "      <td>0.066667</td>\n",
       "      <td>23122</td>\n",
       "      <td>End Customer</td>\n",
       "      <td>Enterprise</td>\n",
       "      <td>12.0</td>\n",
       "      <td>0</td>\n",
       "      <td>0</td>\n",
       "      <td>...</td>\n",
       "      <td>LGEPH</td>\n",
       "      <td>Less than 3 months</td>\n",
       "      <td>1</td>\n",
       "      <td>0</td>\n",
       "      <td>0.003079</td>\n",
       "      <td>0.026846</td>\n",
       "      <td>corporate / office</td>\n",
       "      <td>Advertising</td>\n",
       "      <td>1</td>\n",
       "      <td>True</td>\n",
       "    </tr>\n",
       "    <tr>\n",
       "      <th>2</th>\n",
       "      <td>1.0</td>\n",
       "      <td>/Kolkata /India</td>\n",
       "      <td>AS</td>\n",
       "      <td>0.088889</td>\n",
       "      <td>1755</td>\n",
       "      <td>End Customer</td>\n",
       "      <td>Enterprise</td>\n",
       "      <td>144.0</td>\n",
       "      <td>0</td>\n",
       "      <td>0</td>\n",
       "      <td>...</td>\n",
       "      <td>LGEIL</td>\n",
       "      <td>Less than 3 months</td>\n",
       "      <td>1</td>\n",
       "      <td>0</td>\n",
       "      <td>0.003079</td>\n",
       "      <td>0.026846</td>\n",
       "      <td>corporate / office</td>\n",
       "      <td>Construction</td>\n",
       "      <td>2</td>\n",
       "      <td>True</td>\n",
       "    </tr>\n",
       "    <tr>\n",
       "      <th>3</th>\n",
       "      <td>1.0</td>\n",
       "      <td>/Bhubaneswar/India</td>\n",
       "      <td>AS</td>\n",
       "      <td>0.088889</td>\n",
       "      <td>4919</td>\n",
       "      <td>End Customer</td>\n",
       "      <td>Enterprise</td>\n",
       "      <td>NaN</td>\n",
       "      <td>0</td>\n",
       "      <td>0</td>\n",
       "      <td>...</td>\n",
       "      <td>LGEIL</td>\n",
       "      <td>Less than 3 months</td>\n",
       "      <td>1</td>\n",
       "      <td>0</td>\n",
       "      <td>0.003079</td>\n",
       "      <td>0.026846</td>\n",
       "      <td>corporate / office</td>\n",
       "      <td>IT/Software</td>\n",
       "      <td>3</td>\n",
       "      <td>True</td>\n",
       "    </tr>\n",
       "    <tr>\n",
       "      <th>4</th>\n",
       "      <td>1.0</td>\n",
       "      <td>/Hyderabad/India</td>\n",
       "      <td>AS</td>\n",
       "      <td>0.088889</td>\n",
       "      <td>17126</td>\n",
       "      <td>Specifier/ Influencer</td>\n",
       "      <td>Enterprise</td>\n",
       "      <td>NaN</td>\n",
       "      <td>0</td>\n",
       "      <td>0</td>\n",
       "      <td>...</td>\n",
       "      <td>LGEIL</td>\n",
       "      <td>Less than 3 months</td>\n",
       "      <td>0</td>\n",
       "      <td>0</td>\n",
       "      <td>0.003079</td>\n",
       "      <td>0.026846</td>\n",
       "      <td>corporate / office</td>\n",
       "      <td>NaN</td>\n",
       "      <td>4</td>\n",
       "      <td>True</td>\n",
       "    </tr>\n",
       "  </tbody>\n",
       "</table>\n",
       "<p>5 rows × 29 columns</p>\n",
       "</div>"
      ],
      "text/plain": [
       "   bant_submit          customer_country business_unit  com_reg_ver_win_rate  \\\n",
       "0          1.0  /Quezon City/Philippines            AS              0.066667   \n",
       "1          1.0        /PH-00/Philippines            AS              0.066667   \n",
       "2          1.0           /Kolkata /India            AS              0.088889   \n",
       "3          1.0        /Bhubaneswar/India            AS              0.088889   \n",
       "4          1.0          /Hyderabad/India            AS              0.088889   \n",
       "\n",
       "   customer_idx          customer_type  enterprise  historical_existing_cnt  \\\n",
       "0         32160           End Customer  Enterprise                      NaN   \n",
       "1         23122           End Customer  Enterprise                     12.0   \n",
       "2          1755           End Customer  Enterprise                    144.0   \n",
       "3          4919           End Customer  Enterprise                      NaN   \n",
       "4         17126  Specifier/ Influencer  Enterprise                      NaN   \n",
       "\n",
       "   id_strategic_ver  it_strategic_ver  ...  response_corporate  \\\n",
       "0                 0                 0  ...               LGEPH   \n",
       "1                 0                 0  ...               LGEPH   \n",
       "2                 0                 0  ...               LGEIL   \n",
       "3                 0                 0  ...               LGEIL   \n",
       "4                 0                 0  ...               LGEIL   \n",
       "\n",
       "    expected_timeline  ver_cus ver_pro ver_win_rate_x ver_win_ratio_per_bu  \\\n",
       "0  Less than 3 months        1       0       0.003079             0.026846   \n",
       "1  Less than 3 months        1       0       0.003079             0.026846   \n",
       "2  Less than 3 months        1       0       0.003079             0.026846   \n",
       "3  Less than 3 months        1       0       0.003079             0.026846   \n",
       "4  Less than 3 months        0       0       0.003079             0.026846   \n",
       "\n",
       "        business_area business_subarea lead_owner is_converted  \n",
       "0  corporate / office      Engineering          0         True  \n",
       "1  corporate / office      Advertising          1         True  \n",
       "2  corporate / office     Construction          2         True  \n",
       "3  corporate / office      IT/Software          3         True  \n",
       "4  corporate / office              NaN          4         True  \n",
       "\n",
       "[5 rows x 29 columns]"
      ]
     },
     "execution_count": 21,
     "metadata": {},
     "output_type": "execute_result"
    }
   ],
   "source": [
    "df_train.head() # 전처리된 학습용 데이터 살펴보기"
   ]
  },
  {
   "cell_type": "code",
   "execution_count": 22,
   "id": "554e0537",
   "metadata": {
    "execution": {
     "iopub.execute_input": "2024-02-14T17:20:44.660959Z",
     "iopub.status.busy": "2024-02-14T17:20:44.660043Z",
     "iopub.status.idle": "2024-02-14T17:20:44.684579Z",
     "shell.execute_reply": "2024-02-14T17:20:44.683637Z",
     "shell.execute_reply.started": "2024-02-14T17:20:44.660925Z"
    }
   },
   "outputs": [
    {
     "data": {
      "text/html": [
       "<div>\n",
       "<style scoped>\n",
       "    .dataframe tbody tr th:only-of-type {\n",
       "        vertical-align: middle;\n",
       "    }\n",
       "\n",
       "    .dataframe tbody tr th {\n",
       "        vertical-align: top;\n",
       "    }\n",
       "\n",
       "    .dataframe thead th {\n",
       "        text-align: right;\n",
       "    }\n",
       "</style>\n",
       "<table border=\"1\" class=\"dataframe\">\n",
       "  <thead>\n",
       "    <tr style=\"text-align: right;\">\n",
       "      <th></th>\n",
       "      <th>id</th>\n",
       "      <th>bant_submit</th>\n",
       "      <th>customer_country</th>\n",
       "      <th>business_unit</th>\n",
       "      <th>com_reg_ver_win_rate</th>\n",
       "      <th>customer_idx</th>\n",
       "      <th>customer_type</th>\n",
       "      <th>enterprise</th>\n",
       "      <th>historical_existing_cnt</th>\n",
       "      <th>id_strategic_ver</th>\n",
       "      <th>...</th>\n",
       "      <th>response_corporate</th>\n",
       "      <th>expected_timeline</th>\n",
       "      <th>ver_cus</th>\n",
       "      <th>ver_pro</th>\n",
       "      <th>ver_win_rate_x</th>\n",
       "      <th>ver_win_ratio_per_bu</th>\n",
       "      <th>business_area</th>\n",
       "      <th>business_subarea</th>\n",
       "      <th>lead_owner</th>\n",
       "      <th>is_converted</th>\n",
       "    </tr>\n",
       "  </thead>\n",
       "  <tbody>\n",
       "    <tr>\n",
       "      <th>0</th>\n",
       "      <td>19844</td>\n",
       "      <td>0.00</td>\n",
       "      <td>/  / Brazil</td>\n",
       "      <td>ID</td>\n",
       "      <td>0.073248</td>\n",
       "      <td>47466</td>\n",
       "      <td>End Customer</td>\n",
       "      <td>Enterprise</td>\n",
       "      <td>53.0</td>\n",
       "      <td>1</td>\n",
       "      <td>...</td>\n",
       "      <td>LGESP</td>\n",
       "      <td>Not specified</td>\n",
       "      <td>1</td>\n",
       "      <td>0</td>\n",
       "      <td>0.001183</td>\n",
       "      <td>0.049840</td>\n",
       "      <td>retail</td>\n",
       "      <td>Electronics &amp; Telco</td>\n",
       "      <td>278</td>\n",
       "      <td>True</td>\n",
       "    </tr>\n",
       "    <tr>\n",
       "      <th>1</th>\n",
       "      <td>9738</td>\n",
       "      <td>0.25</td>\n",
       "      <td>400 N State Of Franklin Rd  Cloud IT / Johnson...</td>\n",
       "      <td>IT</td>\n",
       "      <td>NaN</td>\n",
       "      <td>5405</td>\n",
       "      <td>End Customer</td>\n",
       "      <td>SMB</td>\n",
       "      <td>NaN</td>\n",
       "      <td>0</td>\n",
       "      <td>...</td>\n",
       "      <td>LGEUS</td>\n",
       "      <td>Not specified</td>\n",
       "      <td>0</td>\n",
       "      <td>0</td>\n",
       "      <td>0.000013</td>\n",
       "      <td>NaN</td>\n",
       "      <td>transportation</td>\n",
       "      <td>Others</td>\n",
       "      <td>437</td>\n",
       "      <td>True</td>\n",
       "    </tr>\n",
       "    <tr>\n",
       "      <th>2</th>\n",
       "      <td>8491</td>\n",
       "      <td>1.00</td>\n",
       "      <td>/  / U.A.E</td>\n",
       "      <td>ID</td>\n",
       "      <td>NaN</td>\n",
       "      <td>13597</td>\n",
       "      <td>Specifier/ Influencer</td>\n",
       "      <td>SMB</td>\n",
       "      <td>NaN</td>\n",
       "      <td>0</td>\n",
       "      <td>...</td>\n",
       "      <td>LGEGF</td>\n",
       "      <td>Less than 3 months</td>\n",
       "      <td>0</td>\n",
       "      <td>0</td>\n",
       "      <td>0.000060</td>\n",
       "      <td>0.131148</td>\n",
       "      <td>hospital &amp; health care</td>\n",
       "      <td>General Hospital</td>\n",
       "      <td>874</td>\n",
       "      <td>True</td>\n",
       "    </tr>\n",
       "    <tr>\n",
       "      <th>3</th>\n",
       "      <td>19895</td>\n",
       "      <td>0.50</td>\n",
       "      <td>/ Madison  / United States</td>\n",
       "      <td>ID</td>\n",
       "      <td>0.118644</td>\n",
       "      <td>17204</td>\n",
       "      <td>NaN</td>\n",
       "      <td>Enterprise</td>\n",
       "      <td>NaN</td>\n",
       "      <td>1</td>\n",
       "      <td>...</td>\n",
       "      <td>LGEUS</td>\n",
       "      <td>More than a year</td>\n",
       "      <td>0</td>\n",
       "      <td>0</td>\n",
       "      <td>0.001183</td>\n",
       "      <td>0.049840</td>\n",
       "      <td>retail</td>\n",
       "      <td>NaN</td>\n",
       "      <td>194</td>\n",
       "      <td>False</td>\n",
       "    </tr>\n",
       "    <tr>\n",
       "      <th>4</th>\n",
       "      <td>10465</td>\n",
       "      <td>1.00</td>\n",
       "      <td>/ Sao Paulo / Brazil</td>\n",
       "      <td>ID</td>\n",
       "      <td>0.074949</td>\n",
       "      <td>2329</td>\n",
       "      <td>End Customer</td>\n",
       "      <td>Enterprise</td>\n",
       "      <td>2.0</td>\n",
       "      <td>1</td>\n",
       "      <td>...</td>\n",
       "      <td>LGESP</td>\n",
       "      <td>Less than 3 months</td>\n",
       "      <td>1</td>\n",
       "      <td>1</td>\n",
       "      <td>0.003079</td>\n",
       "      <td>0.064566</td>\n",
       "      <td>corporate / office</td>\n",
       "      <td>Engineering</td>\n",
       "      <td>167</td>\n",
       "      <td>True</td>\n",
       "    </tr>\n",
       "  </tbody>\n",
       "</table>\n",
       "<p>5 rows × 30 columns</p>\n",
       "</div>"
      ],
      "text/plain": [
       "      id  bant_submit                                   customer_country  \\\n",
       "0  19844         0.00                                        /  / Brazil   \n",
       "1   9738         0.25  400 N State Of Franklin Rd  Cloud IT / Johnson...   \n",
       "2   8491         1.00                                         /  / U.A.E   \n",
       "3  19895         0.50                         / Madison  / United States   \n",
       "4  10465         1.00                               / Sao Paulo / Brazil   \n",
       "\n",
       "  business_unit  com_reg_ver_win_rate  customer_idx          customer_type  \\\n",
       "0            ID              0.073248         47466           End Customer   \n",
       "1            IT                   NaN          5405           End Customer   \n",
       "2            ID                   NaN         13597  Specifier/ Influencer   \n",
       "3            ID              0.118644         17204                    NaN   \n",
       "4            ID              0.074949          2329           End Customer   \n",
       "\n",
       "   enterprise  historical_existing_cnt  id_strategic_ver  ...  \\\n",
       "0  Enterprise                     53.0                 1  ...   \n",
       "1         SMB                      NaN                 0  ...   \n",
       "2         SMB                      NaN                 0  ...   \n",
       "3  Enterprise                      NaN                 1  ...   \n",
       "4  Enterprise                      2.0                 1  ...   \n",
       "\n",
       "   response_corporate   expected_timeline ver_cus  ver_pro ver_win_rate_x  \\\n",
       "0               LGESP       Not specified       1        0       0.001183   \n",
       "1               LGEUS       Not specified       0        0       0.000013   \n",
       "2               LGEGF  Less than 3 months       0        0       0.000060   \n",
       "3               LGEUS    More than a year       0        0       0.001183   \n",
       "4               LGESP  Less than 3 months       1        1       0.003079   \n",
       "\n",
       "  ver_win_ratio_per_bu           business_area     business_subarea  \\\n",
       "0             0.049840                  retail  Electronics & Telco   \n",
       "1                  NaN          transportation               Others   \n",
       "2             0.131148  hospital & health care     General Hospital   \n",
       "3             0.049840                  retail                  NaN   \n",
       "4             0.064566      corporate / office          Engineering   \n",
       "\n",
       "  lead_owner is_converted  \n",
       "0        278         True  \n",
       "1        437         True  \n",
       "2        874         True  \n",
       "3        194        False  \n",
       "4        167         True  \n",
       "\n",
       "[5 rows x 30 columns]"
      ]
     },
     "execution_count": 22,
     "metadata": {},
     "output_type": "execute_result"
    }
   ],
   "source": [
    "df_test.head() # 전처리된 학습용 데이터 살펴보기"
   ]
  },
  {
   "cell_type": "code",
   "execution_count": 23,
   "id": "6e390b39",
   "metadata": {
    "execution": {
     "iopub.execute_input": "2024-02-14T17:34:05.352056Z",
     "iopub.status.busy": "2024-02-14T17:34:05.351767Z",
     "iopub.status.idle": "2024-02-14T17:34:05.368309Z",
     "shell.execute_reply": "2024-02-14T17:34:05.367408Z",
     "shell.execute_reply.started": "2024-02-14T17:34:05.352033Z"
    }
   },
   "outputs": [
    {
     "data": {
      "text/html": [
       "<div>\n",
       "<style scoped>\n",
       "    .dataframe tbody tr th:only-of-type {\n",
       "        vertical-align: middle;\n",
       "    }\n",
       "\n",
       "    .dataframe tbody tr th {\n",
       "        vertical-align: top;\n",
       "    }\n",
       "\n",
       "    .dataframe thead th {\n",
       "        text-align: right;\n",
       "    }\n",
       "</style>\n",
       "<table border=\"1\" class=\"dataframe\">\n",
       "  <thead>\n",
       "    <tr style=\"text-align: right;\">\n",
       "      <th></th>\n",
       "      <th>business_unit</th>\n",
       "      <th>customer_type</th>\n",
       "      <th>product_category</th>\n",
       "      <th>ver_cus</th>\n",
       "      <th>ver_pro</th>\n",
       "      <th>business_area</th>\n",
       "    </tr>\n",
       "  </thead>\n",
       "  <tbody>\n",
       "    <tr>\n",
       "      <th>1</th>\n",
       "      <td>AS</td>\n",
       "      <td>End Customer</td>\n",
       "      <td>multi_split</td>\n",
       "      <td>1</td>\n",
       "      <td>0</td>\n",
       "      <td>corporate / office</td>\n",
       "    </tr>\n",
       "    <tr>\n",
       "      <th>2</th>\n",
       "      <td>AS</td>\n",
       "      <td>End Customer</td>\n",
       "      <td>single_split</td>\n",
       "      <td>1</td>\n",
       "      <td>0</td>\n",
       "      <td>corporate / office</td>\n",
       "    </tr>\n",
       "    <tr>\n",
       "      <th>3</th>\n",
       "      <td>AS</td>\n",
       "      <td>End Customer</td>\n",
       "      <td>vrf</td>\n",
       "      <td>1</td>\n",
       "      <td>0</td>\n",
       "      <td>corporate / office</td>\n",
       "    </tr>\n",
       "    <tr>\n",
       "      <th>4</th>\n",
       "      <td>AS</td>\n",
       "      <td>Specifier/ Influencer</td>\n",
       "      <td>multi_split</td>\n",
       "      <td>0</td>\n",
       "      <td>0</td>\n",
       "      <td>corporate / office</td>\n",
       "    </tr>\n",
       "    <tr>\n",
       "      <th>5</th>\n",
       "      <td>AS</td>\n",
       "      <td>End Customer</td>\n",
       "      <td>chiller</td>\n",
       "      <td>1</td>\n",
       "      <td>0</td>\n",
       "      <td>corporate / office</td>\n",
       "    </tr>\n",
       "  </tbody>\n",
       "</table>\n",
       "</div>"
      ],
      "text/plain": [
       "  business_unit          customer_type product_category  ver_cus  ver_pro  \\\n",
       "1            AS           End Customer      multi_split        1        0   \n",
       "2            AS           End Customer     single_split        1        0   \n",
       "3            AS           End Customer              vrf        1        0   \n",
       "4            AS  Specifier/ Influencer      multi_split        0        0   \n",
       "5            AS           End Customer          chiller        1        0   \n",
       "\n",
       "        business_area  \n",
       "1  corporate / office  \n",
       "2  corporate / office  \n",
       "3  corporate / office  \n",
       "4  corporate / office  \n",
       "5  corporate / office  "
      ]
     },
     "execution_count": 23,
     "metadata": {},
     "output_type": "execute_result"
    }
   ],
   "source": [
    "df_train.iloc[1:6, df_train.columns.isin(['business_unit', 'business_area', 'product_category', 'customer_type', 'ver_pro', 'ver_cus'])]"
   ]
  },
  {
   "cell_type": "markdown",
   "id": "ba6037ce",
   "metadata": {
    "id": "4bd47e00"
   },
   "source": [
    "### 레이블 인코딩"
   ]
  },
  {
   "cell_type": "code",
   "execution_count": 24,
   "id": "9f8ca360",
   "metadata": {
    "execution": {
     "iopub.execute_input": "2024-02-12T12:22:34.147832Z",
     "iopub.status.busy": "2024-02-12T12:22:34.147451Z",
     "iopub.status.idle": "2024-02-12T12:22:34.154294Z",
     "shell.execute_reply": "2024-02-12T12:22:34.152994Z",
     "shell.execute_reply.started": "2024-02-12T12:22:34.147800Z"
    },
    "id": "0b42b1a1"
   },
   "outputs": [],
   "source": [
    "# def label_encoding(series: pd.Series) -> pd.Series:\n",
    "#     \"\"\"범주형 데이터를 시리즈 형태로 받아 숫자형 데이터로 변환합니다.\"\"\"\n",
    "\n",
    "#     my_dict = {}\n",
    "\n",
    "#     # 모든 요소를 문자열로 변환\n",
    "#     series = series.astype(str)\n",
    "\n",
    "#     for idx, value in enumerate(sorted(series.unique())):\n",
    "#         my_dict[value] = idx\n",
    "#     series = series.map(my_dict)\n",
    "\n",
    "#     return series"
   ]
  },
  {
   "cell_type": "code",
   "execution_count": 25,
   "id": "a1ac0ed4",
   "metadata": {
    "execution": {
     "iopub.execute_input": "2024-02-12T12:23:01.942217Z",
     "iopub.status.busy": "2024-02-12T12:23:01.941389Z",
     "iopub.status.idle": "2024-02-12T12:23:02.300666Z",
     "shell.execute_reply": "2024-02-12T12:23:02.299827Z",
     "shell.execute_reply.started": "2024-02-12T12:23:01.942184Z"
    },
    "id": "881a4612"
   },
   "outputs": [],
   "source": [
    "# # 레이블 인코딩할 칼럼들\n",
    "# label_columns = [\n",
    "#     \"customer_country\",\n",
    "#     \"business_subarea\",\n",
    "#     \"business_area\",\n",
    "#     \"business_unit\",\n",
    "#     \"customer_type\",\n",
    "#     \"enterprise\",\n",
    "#     \"customer_job\",\n",
    "#     \"inquiry_type\",\n",
    "#     \"product_category\",\n",
    "#     \"product_subcategory\",\n",
    "#     \"product_modelname\",\n",
    "#     \"customer_country.1\",\n",
    "#     \"customer_position\",\n",
    "#     \"response_corporate\",\n",
    "#     # \"expected_timeline\",\n",
    "# ]\n",
    "\n",
    "# df_all = pd.concat([df_train[label_columns], df_test[label_columns]])\n",
    "\n",
    "# for col in label_columns:\n",
    "#     df_all[col] = label_encoding(df_all[col])"
   ]
  },
  {
   "cell_type": "markdown",
   "id": "84912a33",
   "metadata": {
    "id": "3a477f93"
   },
   "source": [
    "다시 학습 데이터와 제출 데이터를 분리합니다."
   ]
  },
  {
   "cell_type": "code",
   "execution_count": 26,
   "id": "cc109bb7",
   "metadata": {
    "execution": {
     "iopub.execute_input": "2024-02-12T12:23:08.355482Z",
     "iopub.status.busy": "2024-02-12T12:23:08.355082Z",
     "iopub.status.idle": "2024-02-12T12:23:08.373482Z",
     "shell.execute_reply": "2024-02-12T12:23:08.372558Z",
     "shell.execute_reply.started": "2024-02-12T12:23:08.355452Z"
    },
    "id": "ff10c5fb"
   },
   "outputs": [],
   "source": [
    "# for col in label_columns:\n",
    "#     df_train[col] = df_all.iloc[: len(df_train)][col]\n",
    "#     df_test[col] = df_all.iloc[len(df_train) :][col]"
   ]
  },
  {
   "cell_type": "code",
   "execution_count": 27,
   "id": "81b08b24",
   "metadata": {
    "execution": {
     "iopub.execute_input": "2024-02-14T17:34:41.157067Z",
     "iopub.status.busy": "2024-02-14T17:34:41.156432Z",
     "iopub.status.idle": "2024-02-14T17:34:41.173275Z",
     "shell.execute_reply": "2024-02-14T17:34:41.172384Z",
     "shell.execute_reply.started": "2024-02-14T17:34:41.157036Z"
    },
    "id": "0a1b8bbb"
   },
   "outputs": [],
   "source": [
    "# 불필요해 보이는 열 제거\n",
    "columns_to_drop = [\"customer_country\", \"customer_country.1\", \"response_corporate\",\"product_subcategory\", \"product_modelname\", \"business_subarea\"]\n",
    "\n",
    "df_train = df_train.drop(columns=columns_to_drop)\n",
    "df_test = df_test.drop(columns=columns_to_drop)"
   ]
  },
  {
   "cell_type": "code",
   "execution_count": 28,
   "id": "b18160b5",
   "metadata": {
    "colab": {
     "base_uri": "https://localhost:8080/",
     "height": 255
    },
    "execution": {
     "iopub.execute_input": "2024-02-14T17:34:42.442044Z",
     "iopub.status.busy": "2024-02-14T17:34:42.441214Z",
     "iopub.status.idle": "2024-02-14T17:34:42.467549Z",
     "shell.execute_reply": "2024-02-14T17:34:42.466587Z",
     "shell.execute_reply.started": "2024-02-14T17:34:42.442013Z"
    },
    "id": "4df15031",
    "outputId": "1a30a985-bf08-412e-b73c-d6d6532b6eb7"
   },
   "outputs": [
    {
     "data": {
      "text/html": [
       "<div>\n",
       "<style scoped>\n",
       "    .dataframe tbody tr th:only-of-type {\n",
       "        vertical-align: middle;\n",
       "    }\n",
       "\n",
       "    .dataframe tbody tr th {\n",
       "        vertical-align: top;\n",
       "    }\n",
       "\n",
       "    .dataframe thead th {\n",
       "        text-align: right;\n",
       "    }\n",
       "</style>\n",
       "<table border=\"1\" class=\"dataframe\">\n",
       "  <thead>\n",
       "    <tr style=\"text-align: right;\">\n",
       "      <th></th>\n",
       "      <th>bant_submit</th>\n",
       "      <th>business_unit</th>\n",
       "      <th>com_reg_ver_win_rate</th>\n",
       "      <th>customer_idx</th>\n",
       "      <th>customer_type</th>\n",
       "      <th>enterprise</th>\n",
       "      <th>historical_existing_cnt</th>\n",
       "      <th>id_strategic_ver</th>\n",
       "      <th>it_strategic_ver</th>\n",
       "      <th>idit_strategic_ver</th>\n",
       "      <th>...</th>\n",
       "      <th>product_category</th>\n",
       "      <th>customer_position</th>\n",
       "      <th>expected_timeline</th>\n",
       "      <th>ver_cus</th>\n",
       "      <th>ver_pro</th>\n",
       "      <th>ver_win_rate_x</th>\n",
       "      <th>ver_win_ratio_per_bu</th>\n",
       "      <th>business_area</th>\n",
       "      <th>lead_owner</th>\n",
       "      <th>is_converted</th>\n",
       "    </tr>\n",
       "  </thead>\n",
       "  <tbody>\n",
       "    <tr>\n",
       "      <th>0</th>\n",
       "      <td>1.0</td>\n",
       "      <td>AS</td>\n",
       "      <td>0.066667</td>\n",
       "      <td>32160</td>\n",
       "      <td>End Customer</td>\n",
       "      <td>Enterprise</td>\n",
       "      <td>NaN</td>\n",
       "      <td>0</td>\n",
       "      <td>0</td>\n",
       "      <td>0</td>\n",
       "      <td>...</td>\n",
       "      <td>multi_split</td>\n",
       "      <td>entry level</td>\n",
       "      <td>Less than 3 months</td>\n",
       "      <td>1</td>\n",
       "      <td>0</td>\n",
       "      <td>0.003079</td>\n",
       "      <td>0.026846</td>\n",
       "      <td>corporate / office</td>\n",
       "      <td>0</td>\n",
       "      <td>True</td>\n",
       "    </tr>\n",
       "    <tr>\n",
       "      <th>1</th>\n",
       "      <td>1.0</td>\n",
       "      <td>AS</td>\n",
       "      <td>0.066667</td>\n",
       "      <td>23122</td>\n",
       "      <td>End Customer</td>\n",
       "      <td>Enterprise</td>\n",
       "      <td>12.0</td>\n",
       "      <td>0</td>\n",
       "      <td>0</td>\n",
       "      <td>0</td>\n",
       "      <td>...</td>\n",
       "      <td>multi_split</td>\n",
       "      <td>ceo/founder</td>\n",
       "      <td>Less than 3 months</td>\n",
       "      <td>1</td>\n",
       "      <td>0</td>\n",
       "      <td>0.003079</td>\n",
       "      <td>0.026846</td>\n",
       "      <td>corporate / office</td>\n",
       "      <td>1</td>\n",
       "      <td>True</td>\n",
       "    </tr>\n",
       "    <tr>\n",
       "      <th>2</th>\n",
       "      <td>1.0</td>\n",
       "      <td>AS</td>\n",
       "      <td>0.088889</td>\n",
       "      <td>1755</td>\n",
       "      <td>End Customer</td>\n",
       "      <td>Enterprise</td>\n",
       "      <td>144.0</td>\n",
       "      <td>0</td>\n",
       "      <td>0</td>\n",
       "      <td>0</td>\n",
       "      <td>...</td>\n",
       "      <td>single_split</td>\n",
       "      <td>partner</td>\n",
       "      <td>Less than 3 months</td>\n",
       "      <td>1</td>\n",
       "      <td>0</td>\n",
       "      <td>0.003079</td>\n",
       "      <td>0.026846</td>\n",
       "      <td>corporate / office</td>\n",
       "      <td>2</td>\n",
       "      <td>True</td>\n",
       "    </tr>\n",
       "    <tr>\n",
       "      <th>3</th>\n",
       "      <td>1.0</td>\n",
       "      <td>AS</td>\n",
       "      <td>0.088889</td>\n",
       "      <td>4919</td>\n",
       "      <td>End Customer</td>\n",
       "      <td>Enterprise</td>\n",
       "      <td>NaN</td>\n",
       "      <td>0</td>\n",
       "      <td>0</td>\n",
       "      <td>0</td>\n",
       "      <td>...</td>\n",
       "      <td>vrf</td>\n",
       "      <td>ceo/founder</td>\n",
       "      <td>Less than 3 months</td>\n",
       "      <td>1</td>\n",
       "      <td>0</td>\n",
       "      <td>0.003079</td>\n",
       "      <td>0.026846</td>\n",
       "      <td>corporate / office</td>\n",
       "      <td>3</td>\n",
       "      <td>True</td>\n",
       "    </tr>\n",
       "    <tr>\n",
       "      <th>4</th>\n",
       "      <td>1.0</td>\n",
       "      <td>AS</td>\n",
       "      <td>0.088889</td>\n",
       "      <td>17126</td>\n",
       "      <td>Specifier/ Influencer</td>\n",
       "      <td>Enterprise</td>\n",
       "      <td>NaN</td>\n",
       "      <td>0</td>\n",
       "      <td>0</td>\n",
       "      <td>0</td>\n",
       "      <td>...</td>\n",
       "      <td>multi_split</td>\n",
       "      <td>partner</td>\n",
       "      <td>Less than 3 months</td>\n",
       "      <td>0</td>\n",
       "      <td>0</td>\n",
       "      <td>0.003079</td>\n",
       "      <td>0.026846</td>\n",
       "      <td>corporate / office</td>\n",
       "      <td>4</td>\n",
       "      <td>True</td>\n",
       "    </tr>\n",
       "  </tbody>\n",
       "</table>\n",
       "<p>5 rows × 23 columns</p>\n",
       "</div>"
      ],
      "text/plain": [
       "   bant_submit business_unit  com_reg_ver_win_rate  customer_idx  \\\n",
       "0          1.0            AS              0.066667         32160   \n",
       "1          1.0            AS              0.066667         23122   \n",
       "2          1.0            AS              0.088889          1755   \n",
       "3          1.0            AS              0.088889          4919   \n",
       "4          1.0            AS              0.088889         17126   \n",
       "\n",
       "           customer_type  enterprise  historical_existing_cnt  \\\n",
       "0           End Customer  Enterprise                      NaN   \n",
       "1           End Customer  Enterprise                     12.0   \n",
       "2           End Customer  Enterprise                    144.0   \n",
       "3           End Customer  Enterprise                      NaN   \n",
       "4  Specifier/ Influencer  Enterprise                      NaN   \n",
       "\n",
       "   id_strategic_ver  it_strategic_ver  idit_strategic_ver  ...  \\\n",
       "0                 0                 0                   0  ...   \n",
       "1                 0                 0                   0  ...   \n",
       "2                 0                 0                   0  ...   \n",
       "3                 0                 0                   0  ...   \n",
       "4                 0                 0                   0  ...   \n",
       "\n",
       "  product_category  customer_position   expected_timeline ver_cus ver_pro  \\\n",
       "0      multi_split        entry level  Less than 3 months       1       0   \n",
       "1      multi_split        ceo/founder  Less than 3 months       1       0   \n",
       "2     single_split            partner  Less than 3 months       1       0   \n",
       "3              vrf        ceo/founder  Less than 3 months       1       0   \n",
       "4      multi_split            partner  Less than 3 months       0       0   \n",
       "\n",
       "  ver_win_rate_x  ver_win_ratio_per_bu       business_area  lead_owner  \\\n",
       "0       0.003079              0.026846  corporate / office           0   \n",
       "1       0.003079              0.026846  corporate / office           1   \n",
       "2       0.003079              0.026846  corporate / office           2   \n",
       "3       0.003079              0.026846  corporate / office           3   \n",
       "4       0.003079              0.026846  corporate / office           4   \n",
       "\n",
       "   is_converted  \n",
       "0          True  \n",
       "1          True  \n",
       "2          True  \n",
       "3          True  \n",
       "4          True  \n",
       "\n",
       "[5 rows x 23 columns]"
      ]
     },
     "execution_count": 28,
     "metadata": {},
     "output_type": "execute_result"
    }
   ],
   "source": [
    "df_train.head() # 전처리된 학습용 데이터 살펴보기"
   ]
  },
  {
   "cell_type": "markdown",
   "id": "4d3fb488",
   "metadata": {
    "id": "d332358a"
   },
   "source": [
    "### 2-2. 학습, 검증 데이터 분리"
   ]
  },
  {
   "cell_type": "code",
   "execution_count": 29,
   "id": "9b758d82",
   "metadata": {
    "execution": {
     "iopub.execute_input": "2024-02-14T17:27:03.225057Z",
     "iopub.status.busy": "2024-02-14T17:27:03.224669Z",
     "iopub.status.idle": "2024-02-14T17:27:03.263150Z",
     "shell.execute_reply": "2024-02-14T17:27:03.262395Z",
     "shell.execute_reply.started": "2024-02-14T17:27:03.225028Z"
    },
    "id": "27c9e205"
   },
   "outputs": [],
   "source": [
    "# x_train, x_val, y_train, y_val = train_test_split(\n",
    "#     df_train.drop(\"is_converted\", axis=1),\n",
    "#     df_train[\"is_converted\"],\n",
    "#     test_size=0.2,\n",
    "#     shuffle=True,\n",
    "#     random_state=400,\n",
    "# )"
   ]
  },
  {
   "cell_type": "code",
   "execution_count": 30,
   "id": "0ec4873e",
   "metadata": {
    "execution": {
     "iopub.execute_input": "2024-02-14T17:35:03.535038Z",
     "iopub.status.busy": "2024-02-14T17:35:03.534673Z",
     "iopub.status.idle": "2024-02-14T17:35:03.540116Z",
     "shell.execute_reply": "2024-02-14T17:35:03.539228Z",
     "shell.execute_reply.started": "2024-02-14T17:35:03.535012Z"
    },
    "id": "8r_qLq5LFzR-"
   },
   "outputs": [],
   "source": [
    "is_holdout = False\n",
    "iterations = 3000\n",
    "patience = 100\n",
    "\n",
    "# Train/Val 데이터를 5-fold로 나누기\n",
    "kf = KFold(n_splits=5, shuffle=True, random_state=42)\n",
    "\n",
    "# 각 fold에 대한 예측값을 저장할 리스트\n",
    "ensemble_preds = []"
   ]
  },
  {
   "cell_type": "markdown",
   "id": "640a320e",
   "metadata": {
    "id": "79ecfa9b"
   },
   "source": [
    "## 3. 모델 학습"
   ]
  },
  {
   "cell_type": "markdown",
   "id": "24f88e0a",
   "metadata": {
    "id": "cacd5ed8"
   },
   "source": [
    "### 모델 학습"
   ]
  },
  {
   "cell_type": "code",
   "execution_count": 31,
   "id": "7d8bd00d",
   "metadata": {
    "execution": {
     "iopub.execute_input": "2024-02-12T12:24:57.358450Z",
     "iopub.status.busy": "2024-02-12T12:24:57.357573Z",
     "iopub.status.idle": "2024-02-12T12:24:57.367872Z",
     "shell.execute_reply": "2024-02-12T12:24:57.366859Z",
     "shell.execute_reply.started": "2024-02-12T12:24:57.358414Z"
    },
    "id": "1oE9-0ZqTt73"
   },
   "outputs": [],
   "source": [
    "# # 랜덤 서치\n",
    "# XGB = XGBClassifier(random_state=42, tree_method='hist', device='cuda')\n",
    "\n",
    "# param_dist = {\n",
    "#     'n_estimators': randint(50, 1001),\n",
    "#     'max_depth': randint(3, 10),\n",
    "#     'min_child_weight': randint(1, 5),\n",
    "#     'learning_rate': (0.01, 0.2),\n",
    "#     'subsample': (0.6, 1.0),\n",
    "#     'colsample_bytree': (0.6,1.0),\n",
    "#     'gamma': (0, 3),\n",
    "#     'reg_alpha':[1e-5, 1e-2, 0.1, 1, 100]\n",
    "# }\n",
    "\n",
    "# scoring = make_scorer(f1_score)\n",
    "# random_search = RandomizedSearchCV(XGB, param_distributions=param_dist, n_iter=150, cv=5, scoring=scoring, random_state=42)"
   ]
  },
  {
   "cell_type": "code",
   "execution_count": 32,
   "id": "b179bb17",
   "metadata": {
    "execution": {
     "iopub.execute_input": "2024-02-12T12:25:31.452868Z",
     "iopub.status.busy": "2024-02-12T12:25:31.452519Z",
     "iopub.status.idle": "2024-02-12T13:19:00.074292Z",
     "shell.execute_reply": "2024-02-12T13:19:00.073330Z",
     "shell.execute_reply.started": "2024-02-12T12:25:31.452840Z"
    },
    "id": "PJ8uG6OlF3gs",
    "outputId": "9ab1f517-24ae-4d06-976b-8431a7d57797"
   },
   "outputs": [],
   "source": [
    "# # ramdom search로 파라미터 찾기\n",
    "# best_models = []\n",
    "\n",
    "# for train_index, val_index in kf.split(df_train):\n",
    "#     # Train/Val 데이터 분할\n",
    "#     x_train_fold, x_val_fold = df_train.drop(\"is_converted\", axis=1).iloc[train_index], df_train.drop(\"is_converted\", axis=1).iloc[val_index]\n",
    "#     y_train_fold, y_val_fold = df_train[\"is_converted\"].iloc[train_index], df_train[\"is_converted\"].iloc[val_index]\n",
    "\n",
    "#     # Train 데이터 imputation\n",
    "#     imputer = SimpleImputer(strategy='most_frequent')\n",
    "#     x_train_fold_imputed = imputer.fit_transform(x_train_fold)\n",
    "\n",
    "#     # 모델 훈련\n",
    "#     random_search.fit(x_train_fold_imputed, y_train_fold)\n",
    "#     print(random_search.best_score_)\n",
    "#     print(random_search.best_params_)\n",
    "#     best_params_xgb = random_search.best_params_\n",
    "#     best_model_xgb = XGBClassifier(**best_params_xgb, random_state=42)\n",
    "#     # best_model_xgb = XGBClassifier(random_state=42, colsample_bytree=1.0, gamma=0, learning_rate=0.2, max_depth=6, min_child_weight=2, n_estimators=926, subsample=1.0)\n",
    "#     # best_model_lgb = lgb.LGBMClassifier(random_state=42, colsample_bytree=0.8, learning_rate=0.2, max_depth=4, min_child_samples=16, n_estimators=871, subsample=0.9)\n",
    "#     best_model_xgb.fit(x_train_fold_imputed, y_train_fold)\n",
    "\n",
    "#     # Validation 데이터 imputation 및 예측\n",
    "#     x_val_fold_imputed = imputer.transform(x_val_fold)\n",
    "#     fold_pred = best_model_xgb.predict(x_val_fold_imputed)\n",
    "\n",
    "\n",
    "#     # fold별 예측값 저장\n",
    "#     ensemble_preds.append(fold_pred)\n",
    "\n",
    "#     # 훈련된 모델 저장\n",
    "#     best_models.append(best_model_xgb)"
   ]
  },
  {
   "cell_type": "code",
   "execution_count": 33,
   "id": "044afce9",
   "metadata": {
    "execution": {
     "iopub.execute_input": "2024-02-12T13:20:48.893772Z",
     "iopub.status.busy": "2024-02-12T13:20:48.893061Z",
     "iopub.status.idle": "2024-02-12T13:20:59.270424Z",
     "shell.execute_reply": "2024-02-12T13:20:59.269530Z",
     "shell.execute_reply.started": "2024-02-12T13:20:48.893730Z"
    },
    "id": "B2ISwDlXIMSg"
   },
   "outputs": [],
   "source": [
    "# # 이미 찾은 파라미터로 학습만 하기\n",
    "# best_models = []\n",
    "\n",
    "# # 파라미터 설정\n",
    "# params_list = [\n",
    "#     {'colsample_bytree': 1.0, 'gamma': 3, 'learning_rate': 0.2, 'max_depth': 3, 'min_child_weight': 4, 'n_estimators': 677, 'reg_alpha': 0.1, 'subsample': 0.6},\n",
    "#     {'colsample_bytree': 0.6, 'gamma': 0, 'learning_rate': 0.2, 'max_depth': 3, 'min_child_weight': 1, 'n_estimators': 995, 'reg_alpha': 0.01, 'subsample': 0.6},\n",
    "#     {'colsample_bytree': 1.0, 'gamma': 0, 'learning_rate': 0.2, 'max_depth': 3, 'min_child_weight': 1, 'n_estimators': 695, 'reg_alpha': 1, 'subsample': 1.0},\n",
    "#     {'colsample_bytree': 1.0, 'gamma': 0, 'learning_rate': 0.2, 'max_depth': 5, 'min_child_weight': 3, 'n_estimators': 581, 'reg_alpha': 1e-05, 'subsample': 1.0},\n",
    "#     {'colsample_bytree': 0.6, 'gamma': 0, 'learning_rate': 0.2, 'max_depth': 5, 'min_child_weight': 1, 'n_estimators': 702, 'reg_alpha': 0.01, 'subsample': 1.0}\n",
    "# ]\n",
    "\n",
    "\n",
    "# for i, (train_index, val_index) in enumerate(kf.split(df_train)):\n",
    "#     # Train/Val 데이터 분할\n",
    "#     x_train_fold, x_val_fold = df_train.drop(\"is_converted\", axis=1).iloc[train_index], df_train.drop(\"is_converted\", axis=1).iloc[val_index]\n",
    "#     y_train_fold, y_val_fold = df_train[\"is_converted\"].iloc[train_index], df_train[\"is_converted\"].iloc[val_index]\n",
    "\n",
    "#     # Train 데이터 imputation\n",
    "#     imputer = SimpleImputer(strategy='most_frequent')\n",
    "#     x_train_fold_imputed = imputer.fit_transform(x_train_fold)\n",
    "\n",
    "#     # 각 fold에 대해 해당하는 파라미터 딕셔너리 선택\n",
    "#     params = params_list[i % len(params_list)]\n",
    "\n",
    "#     # 모델 훈련\n",
    "#     best_model_xgb = XGBClassifier(**params, random_state=42)\n",
    "#     # best_model_xgb = XGBClassifier(random_state=42, colsample_bytree=1.0, gamma=0, learning_rate=0.2, max_depth=6, min_child_weight=2, n_estimators=926, subsample=1.0)\n",
    "#     best_model_xgb.fit(x_train_fold_imputed, y_train_fold)\n",
    "\n",
    "#     # Validation 데이터 imputation 및 예측\n",
    "#     x_val_fold_imputed = imputer.transform(x_val_fold)\n",
    "#     fold_pred = best_model_xgb.predict(x_val_fold_imputed)\n",
    "\n",
    "#     # fold별 예측값 저장\n",
    "#     ensemble_preds.append(fold_pred)\n",
    "\n",
    "\n",
    "#     # 훈련된 모델 저장\n",
    "#     best_models.append(best_model_xgb)"
   ]
  },
  {
   "cell_type": "code",
   "execution_count": 34,
   "id": "558115f9",
   "metadata": {},
   "outputs": [
    {
     "data": {
      "text/plain": [
       "11.22659793814433"
      ]
     },
     "execution_count": 34,
     "metadata": {},
     "output_type": "execute_result"
    }
   ],
   "source": [
    "# 클래스 0과 클래스 1의 비율에 따라 scale_pos_weight 설정\n",
    "df_train['is_converted'].value_counts()\n",
    "\n",
    "scale_pos_weight = 54449/4850\n",
    "scale_pos_weight\n",
    "# 11.22\n"
   ]
  },
  {
   "cell_type": "code",
   "execution_count": 35,
   "id": "2a6b9168",
   "metadata": {
    "execution": {
     "iopub.execute_input": "2024-02-14T17:35:11.643965Z",
     "iopub.status.busy": "2024-02-14T17:35:11.643603Z",
     "iopub.status.idle": "2024-02-14T17:35:11.649083Z",
     "shell.execute_reply": "2024-02-14T17:35:11.648028Z",
     "shell.execute_reply.started": "2024-02-14T17:35:11.643939Z"
    }
   },
   "outputs": [],
   "source": [
    "cat_features = ['business_unit', 'customer_idx', 'customer_type', 'enterprise', 'customer_job', 'inquiry_type', 'product_category', 'customer_position', 'business_area', 'lead_owner', 'expected_timeline']  # 실제 범주형 특성 이름으로 변경"
   ]
  },
  {
   "cell_type": "code",
   "execution_count": 36,
   "id": "18cdae82",
   "metadata": {
    "execution": {
     "iopub.execute_input": "2024-02-14T17:36:02.313581Z",
     "iopub.status.busy": "2024-02-14T17:36:02.313072Z",
     "iopub.status.idle": "2024-02-14T17:39:04.628851Z",
     "shell.execute_reply": "2024-02-14T17:39:04.627905Z",
     "shell.execute_reply.started": "2024-02-14T17:36:02.313548Z"
    }
   },
   "outputs": [
    {
     "name": "stdout",
     "output_type": "stream",
     "text": [
      "==================================================\n",
      "Learning rate set to 0.050976\n",
      "0:\tlearn: 0.8389758\ttest: 0.8529728\tbest: 0.8529728 (0)\ttotal: 149ms\tremaining: 7m 27s\n",
      "100:\tlearn: 0.9406396\ttest: 0.9448980\tbest: 0.9448980 (100)\ttotal: 5.44s\tremaining: 2m 36s\n",
      "200:\tlearn: 0.9479151\ttest: 0.9459949\tbest: 0.9469929 (125)\ttotal: 10.4s\tremaining: 2m 24s\n",
      "300:\tlearn: 0.9549505\ttest: 0.9475790\tbest: 0.9476860 (231)\ttotal: 15.5s\tremaining: 2m 18s\n",
      "400:\tlearn: 0.9593172\ttest: 0.9484969\tbest: 0.9489995 (339)\ttotal: 20.6s\tremaining: 2m 13s\n",
      "Stopped by overfitting detector  (100 iterations wait)\n",
      "\n",
      "bestTest = 0.9489995347\n",
      "bestIteration = 339\n",
      "\n",
      "Shrink model to first 340 iterations.\n",
      "==================================================\n",
      "Learning rate set to 0.050976\n",
      "0:\tlearn: 0.8391963\ttest: 0.8541770\tbest: 0.8541770 (0)\ttotal: 88.9ms\tremaining: 4m 26s\n",
      "100:\tlearn: 0.9403311\ttest: 0.9453684\tbest: 0.9454562 (85)\ttotal: 4.64s\tremaining: 2m 13s\n",
      "200:\tlearn: 0.9460518\ttest: 0.9478435\tbest: 0.9492282 (169)\ttotal: 9.43s\tremaining: 2m 11s\n",
      "300:\tlearn: 0.9521016\ttest: 0.9488147\tbest: 0.9502578 (225)\ttotal: 14.6s\tremaining: 2m 10s\n",
      "Stopped by overfitting detector  (100 iterations wait)\n",
      "\n",
      "bestTest = 0.9502577679\n",
      "bestIteration = 225\n",
      "\n",
      "Shrink model to first 226 iterations.\n",
      "==================================================\n",
      "Learning rate set to 0.050976\n",
      "0:\tlearn: 0.8386993\ttest: 0.8596821\tbest: 0.8596821 (0)\ttotal: 82.5ms\tremaining: 4m 7s\n",
      "100:\tlearn: 0.9385266\ttest: 0.9560389\tbest: 0.9560828 (99)\ttotal: 4.73s\tremaining: 2m 15s\n",
      "200:\tlearn: 0.9458026\ttest: 0.9584118\tbest: 0.9584999 (196)\ttotal: 9.51s\tremaining: 2m 12s\n",
      "300:\tlearn: 0.9529649\ttest: 0.9585924\tbest: 0.9595110 (234)\ttotal: 14.6s\tremaining: 2m 11s\n",
      "Stopped by overfitting detector  (100 iterations wait)\n",
      "\n",
      "bestTest = 0.9595110069\n",
      "bestIteration = 234\n",
      "\n",
      "Shrink model to first 235 iterations.\n",
      "==================================================\n",
      "Learning rate set to 0.050976\n",
      "0:\tlearn: 0.8381834\ttest: 0.8491265\tbest: 0.8491265 (0)\ttotal: 80.1ms\tremaining: 4m\n",
      "100:\tlearn: 0.9425394\ttest: 0.9407860\tbest: 0.9409645 (97)\ttotal: 4.64s\tremaining: 2m 13s\n",
      "200:\tlearn: 0.9490086\ttest: 0.9441701\tbest: 0.9447212 (190)\ttotal: 9.52s\tremaining: 2m 12s\n",
      "300:\tlearn: 0.9543263\ttest: 0.9451573\tbest: 0.9468989 (282)\ttotal: 14.7s\tremaining: 2m 11s\n",
      "400:\tlearn: 0.9595888\ttest: 0.9466977\tbest: 0.9469783 (364)\ttotal: 19.8s\tremaining: 2m 8s\n",
      "500:\tlearn: 0.9630298\ttest: 0.9473284\tbest: 0.9485731 (440)\ttotal: 24.9s\tremaining: 2m 4s\n",
      "600:\tlearn: 0.9661440\ttest: 0.9491881\tbest: 0.9497005 (530)\ttotal: 30s\tremaining: 1m 59s\n",
      "Stopped by overfitting detector  (100 iterations wait)\n",
      "\n",
      "bestTest = 0.9497004849\n",
      "bestIteration = 530\n",
      "\n",
      "Shrink model to first 531 iterations.\n",
      "==================================================\n",
      "Learning rate set to 0.050976\n",
      "0:\tlearn: 0.8390234\ttest: 0.8478562\tbest: 0.8478562 (0)\ttotal: 69.5ms\tremaining: 3m 28s\n",
      "100:\tlearn: 0.9406272\ttest: 0.9431929\tbest: 0.9432387 (99)\ttotal: 4.6s\tremaining: 2m 12s\n",
      "200:\tlearn: 0.9476767\ttest: 0.9446013\tbest: 0.9450742 (198)\ttotal: 9.33s\tremaining: 2m 9s\n",
      "300:\tlearn: 0.9547820\ttest: 0.9466862\tbest: 0.9469276 (273)\ttotal: 14.4s\tremaining: 2m 9s\n",
      "400:\tlearn: 0.9586134\ttest: 0.9473325\tbest: 0.9477583 (375)\ttotal: 19.5s\tremaining: 2m 6s\n",
      "Stopped by overfitting detector  (100 iterations wait)\n",
      "\n",
      "bestTest = 0.9477582846\n",
      "bestIteration = 375\n",
      "\n",
      "Shrink model to first 376 iterations.\n"
     ]
    }
   ],
   "source": [
    "# CatBoost 학습\n",
    "best_models = []\n",
    "\n",
    "models = []\n",
    "for train_index, val_index in kf.split(df_train):\n",
    "    print(\"=\"*50)\n",
    "    \n",
    "    # Train/Val 데이터 분할\n",
    "    x_train_fold, x_val_fold = df_train.drop(\"is_converted\", axis=1).iloc[train_index], df_train.drop(\"is_converted\", axis=1).iloc[val_index]\n",
    "    y_train_fold, y_val_fold = df_train[\"is_converted\"].iloc[train_index], df_train[\"is_converted\"].iloc[val_index]\n",
    "\n",
    "    # cat_features = x_train_fold.columns[x_train_fold.nunique() > 2].tolist()\n",
    "    # cat_feature_indices = [x_train_fold.columns.get_loc(feature) for feature in cat_features]\n",
    "    # cat_feature_indices = [str(int(idx)) for idx in cat_feature_indices]\n",
    "\n",
    "    x_train_fold[cat_features] = x_train_fold[cat_features].astype('str')\n",
    "    x_val_fold[cat_features] = x_val_fold[cat_features].astype('str')\n",
    "\n",
    "    \n",
    "    # Train 데이터 imputation\n",
    "    imputer = SimpleImputer(strategy='most_frequent')\n",
    "    x_train_fold_imputed = pd.DataFrame(imputer.fit_transform(x_train_fold), columns=x_train_fold.columns)\n",
    "\n",
    "    # Validation 데이터 imputation 및 예측\n",
    "    x_val_fold_imputed = pd.DataFrame(imputer.transform(x_val_fold), columns=x_val_fold.columns)\n",
    "    \n",
    "    x_train_fold_imputed[cat_features] = x_train_fold_imputed[cat_features].astype('str')\n",
    "    x_val_fold_imputed[cat_features] = x_val_fold_imputed[cat_features].astype('str')\n",
    "    \n",
    "    \n",
    "    model = CatBoostClassifier(iterations=iterations,random_state=42,scale_pos_weight = 11, eval_metric=\"F1\",cat_features=cat_features,one_hot_max_size=4)\n",
    "    model.fit(x_train_fold_imputed, y_train_fold, \n",
    "            eval_set=[(x_val_fold_imputed, y_val_fold)], \n",
    "            early_stopping_rounds=patience ,\n",
    "            verbose = 100\n",
    "        )\n",
    "     \n",
    "    fold_pred = model.predict(x_val_fold_imputed)\n",
    "    \n",
    "    # fold별 예측값 저장\n",
    "    ensemble_preds.append(fold_pred)\n",
    "    \n",
    "    best_models.append(model)\n",
    "    \n",
    "    if is_holdout:\n",
    "        break    "
   ]
  },
  {
   "cell_type": "code",
   "execution_count": 37,
   "id": "f3391aaf",
   "metadata": {},
   "outputs": [],
   "source": [
    "# iterations = 2500\n",
    "\n",
    "# # Train 데이터 imputation\n",
    "# imputer = SimpleImputer(strategy='most_frequent')\n",
    "# x_train_imputed = pd.DataFrame(imputer.fit_transform(x_train), columns=x_train.columns)\n",
    "# x_train_imputed[cat_features] = x_train_imputed[cat_features].astype('str')\n",
    "\n",
    "# # Train 데이터의 타깃 변수\n",
    "# # y_train = df_train[\"is_converted\"]\n",
    "\n",
    "# model = CatBoostClassifier(iterations=iterations, random_state=42, task_type=\"GPU\", eval_metric=\"F1\", cat_features=cat_features, one_hot_max_size=4)\n",
    "# model.fit(x_train_imputed, y_train, verbose=100)\n",
    "\n",
    "# best_model = model"
   ]
  },
  {
   "cell_type": "code",
   "execution_count": 38,
   "id": "b1749049",
   "metadata": {
    "colab": {
     "base_uri": "https://localhost:8080/"
    },
    "execution": {
     "iopub.execute_input": "2024-02-14T17:40:46.233578Z",
     "iopub.status.busy": "2024-02-14T17:40:46.232619Z",
     "iopub.status.idle": "2024-02-14T17:40:46.238864Z",
     "shell.execute_reply": "2024-02-14T17:40:46.237903Z",
     "shell.execute_reply.started": "2024-02-14T17:40:46.233543Z"
    },
    "id": "AKxYSVo9La8c",
    "outputId": "b5fd9f68-b5ae-4069-8ce4-ff9784c2368f"
   },
   "outputs": [
    {
     "name": "stdout",
     "output_type": "stream",
     "text": [
      "Fold 1 예측값 개수: 11860\n",
      "Fold 2 예측값 개수: 11860\n",
      "Fold 3 예측값 개수: 11860\n",
      "Fold 4 예측값 개수: 11860\n",
      "Fold 5 예측값 개수: 11859\n"
     ]
    }
   ],
   "source": [
    "for idx, preds in enumerate(ensemble_preds):\n",
    "    print(f\"Fold {idx+1} 예측값 개수:\", len(preds))"
   ]
  },
  {
   "cell_type": "code",
   "execution_count": 39,
   "id": "b428dcc0",
   "metadata": {
    "execution": {
     "iopub.execute_input": "2024-02-14T17:16:33.703639Z",
     "iopub.status.busy": "2024-02-14T17:16:33.702615Z",
     "iopub.status.idle": "2024-02-14T17:16:33.816763Z",
     "shell.execute_reply": "2024-02-14T17:16:33.815918Z",
     "shell.execute_reply.started": "2024-02-14T17:16:33.703594Z"
    },
    "id": "Id17WoWaF6bf"
   },
   "outputs": [],
   "source": [
    "# # 앙상블을 통한 최종 예측/다수결 적용\n",
    "# final_preds = []\n",
    "\n",
    "# for i in range(min(map(len, ensemble_preds))):\n",
    "#     # 각 fold별 예측값 조합\n",
    "#     combined_preds = [ensemble_preds[j][i] for j in range(len(ensemble_preds)) if len(ensemble_preds[j]) > i]\n",
    "\n",
    "#     # 모든 fold에서 예측값이 있는 경우에만 다수결 적용\n",
    "#     if combined_preds:\n",
    "#         # 다수결을 통한 최종 예측\n",
    "#         majority_vote = Counter(combined_preds).most_common(1)[0][0] == 'True'\n",
    "#         final_preds.append(majority_vote)\n"
   ]
  },
  {
   "cell_type": "code",
   "execution_count": 40,
   "id": "fd55332c",
   "metadata": {
    "execution": {
     "iopub.execute_input": "2024-02-14T17:40:48.851037Z",
     "iopub.status.busy": "2024-02-14T17:40:48.850663Z",
     "iopub.status.idle": "2024-02-14T17:40:48.900193Z",
     "shell.execute_reply": "2024-02-14T17:40:48.899401Z",
     "shell.execute_reply.started": "2024-02-14T17:40:48.851009Z"
    },
    "id": "-EkuB5YKyYxj"
   },
   "outputs": [],
   "source": [
    "# 앙상블을 통한 최종 예측/5개 모델 중 2개 이상 모델이 1로 예측할 경우\n",
    "final_preds = []\n",
    "\n",
    "for i in range(min(map(len, ensemble_preds))):\n",
    "    # 각 fold별 예측값 조합\n",
    "    combined_preds = [ensemble_preds[j][i] == 'True' for j in range(len(ensemble_preds)) if len(ensemble_preds[j]) > i]\n",
    "\n",
    "    # 모든 fold에서 예측값이 있는 경우에만 다수결 적용\n",
    "    if combined_preds:\n",
    "        num_ones = sum(combined_preds)  # 1로 분류된 모델의 개수를 세기 위해 1의 개수를 계산\n",
    "        if num_ones >= 2:  # 2개 이상의 모델이 1로 분류했을 때\n",
    "          final_preds.append(True)\n",
    "        else:\n",
    "          final_preds.append(False)  # 그 외의 경우에는 0으로 예측"
   ]
  },
  {
   "cell_type": "code",
   "execution_count": 41,
   "id": "1f2200ff",
   "metadata": {
    "id": "5c720bb2"
   },
   "outputs": [],
   "source": [
    "# # 그리드 서치\n",
    "# XGB = XGBClassifier(random_state=42)\n",
    "\n",
    "# param_grid = {\n",
    "#     'n_estimators': [50, 100, 300, 1000],\n",
    "#     'max_depth': [3, 5, 7, 9],\n",
    "#     'min_child_weight':[1,3],\n",
    "#     'learning_rate': [0.01, 0.1, 0.2],\n",
    "#     'subsample': [0.7, 0.8, 0.9, 1.0],\n",
    "#     'colsample_bytree': [0.7, 0.8, 0.9, 1.0],\n",
    "#     'gamma' : [0, 0.5, 1]\n",
    "# }\n",
    "\n",
    "# scoring = make_scorer(f1_score)\n",
    "# grid_search = GridSearchCV(XGB, param_grid, cv=5, scoring=scoring)\n",
    "# grid_search.fit(x_train_imputed, y_train)\n",
    "\n",
    "# print(grid_search.best_score_)\n",
    "# print(grid_search.best_params_)"
   ]
  },
  {
   "cell_type": "code",
   "execution_count": 42,
   "id": "0f16be71",
   "metadata": {
    "id": "SMH7XYihwYav"
   },
   "outputs": [],
   "source": [
    "# # LightGBM 랜덤 서치\n",
    "# LGBM = lgb.LGBMClassifier(random_state=42)\n",
    "\n",
    "# # 탐색할 하이퍼파라미터 범위 지정\n",
    "# param_dist = {\n",
    "#     'n_estimators': randint(50, 1001),\n",
    "#     'max_depth': randint(3, 15),\n",
    "#     'min_child_samples': randint(15, 25),\n",
    "#     'learning_rate': (0.01, 0.2),\n",
    "#     'subsample': [0.7, 0.8, 0.9, 1.0],\n",
    "#     'colsample_bytree': [0.7, 0.8, 0.9, 1.0],\n",
    "# }\n",
    "\n",
    "# # 평가 지표 및 랜덤 서치 객체 생성\n",
    "# scoring = make_scorer(f1_score)\n",
    "# random_search = RandomizedSearchCV(LGBM, param_distributions=param_dist, n_iter=150, cv=5, scoring=scoring, random_state=42)\n",
    "\n",
    "\n",
    "# # early stopping을 위한 검증 세트 설정\n",
    "# # eval_set = [(x_val_imputed, y_val)]\n",
    "\n",
    "# # 랜덤 서치 수행\n",
    "# random_search.fit(x_train_imputed, y_train)\n",
    "# # random_search.fit(x_train_imputed, y_train, eval_set=eval_set, eval_metric='f1', early_stopping_rounds=50, verbose=False)\n",
    "\n",
    "\n",
    "# # 최적의 결과 출력\n",
    "# print(random_search.best_score_)\n",
    "# print(random_search.best_params_)"
   ]
  },
  {
   "cell_type": "code",
   "execution_count": 43,
   "id": "744511e4",
   "metadata": {
    "id": "898a3b88"
   },
   "outputs": [],
   "source": [
    "# # 그리드 서치로 찾은 최적의 파라미터\n",
    "# # best_params_xgb = grid_search.best_params_\n",
    "\n",
    "# # 랜덤 서치로 찾은 최적의 파라미터\n",
    "# best_params_lgb = random_search.best_params_\n",
    "\n",
    "# # 최적의 파라미터로 XGBoost 모델 생성\n",
    "# best_model_lgb = lgb.LGBMClassifier(**best_params_lgb, random_state=42)\n",
    "# best_model_lgb.fit(x_train_imputed, y_train)"
   ]
  },
  {
   "cell_type": "markdown",
   "id": "5a66e965",
   "metadata": {
    "id": "6bf2de5f"
   },
   "source": [
    "### 모델 성능 보기"
   ]
  },
  {
   "cell_type": "code",
   "execution_count": 44,
   "id": "c2c4a6fa",
   "metadata": {
    "execution": {
     "iopub.execute_input": "2024-02-14T17:40:55.896428Z",
     "iopub.status.busy": "2024-02-14T17:40:55.895684Z",
     "iopub.status.idle": "2024-02-14T17:40:55.903420Z",
     "shell.execute_reply": "2024-02-14T17:40:55.902252Z",
     "shell.execute_reply.started": "2024-02-14T17:40:55.896391Z"
    },
    "id": "c8871444"
   },
   "outputs": [],
   "source": [
    "def get_clf_eval(y_test, y_pred=None):\n",
    "    confusion = confusion_matrix(y_test, y_pred, labels=[True, False])\n",
    "    accuracy = accuracy_score(y_test, y_pred)\n",
    "    precision = precision_score(y_test, y_pred, labels=[True, False])\n",
    "    recall = recall_score(y_test, y_pred)\n",
    "    F1 = f1_score(y_test, y_pred, labels=[True, False])\n",
    "\n",
    "    print(\"오차행렬:\\n\", confusion)\n",
    "    print(\"\\n정확도: {:.4f}\".format(accuracy))\n",
    "    print(\"정밀도: {:.4f}\".format(precision))\n",
    "    print(\"재현율: {:.4f}\".format(recall))\n",
    "    print(\"F1: {:.4f}\".format(F1))"
   ]
  },
  {
   "cell_type": "code",
   "execution_count": 45,
   "id": "2e015030",
   "metadata": {
    "colab": {
     "base_uri": "https://localhost:8080/"
    },
    "execution": {
     "iopub.execute_input": "2024-02-14T17:40:56.272463Z",
     "iopub.status.busy": "2024-02-14T17:40:56.272092Z",
     "iopub.status.idle": "2024-02-14T17:40:56.338434Z",
     "shell.execute_reply": "2024-02-14T17:40:56.337612Z",
     "shell.execute_reply.started": "2024-02-14T17:40:56.272434Z"
    },
    "id": "zpToKa_uKpri",
    "outputId": "a04f63a0-c919-486c-88a4-fd7c74ad78d4"
   },
   "outputs": [
    {
     "name": "stdout",
     "output_type": "stream",
     "text": [
      "오차행렬:\n",
      " [[ 755  183]\n",
      " [ 943 9978]]\n",
      "\n",
      "정확도: 0.9051\n",
      "정밀도: 0.4446\n",
      "재현율: 0.8049\n",
      "F1: 0.5728\n"
     ]
    }
   ],
   "source": [
    "# Validation 데이터에 대한 평가\n",
    "get_clf_eval(y_val_fold, final_preds)"
   ]
  },
  {
   "cell_type": "code",
   "execution_count": 46,
   "id": "b5f8f420",
   "metadata": {
    "colab": {
     "base_uri": "https://localhost:8080/"
    },
    "id": "56a86373",
    "outputId": "d2cdd0e7-d08e-4361-d05d-a103f1902c96"
   },
   "outputs": [],
   "source": [
    "# # 결측치를 최빈값으로 대체\n",
    "# imputer = SimpleImputer(strategy='most_frequent')\n",
    "# x_val_imputed = pd.DataFrame(imputer.fit_transform(x_val), columns=x_val.columns)\n",
    "# x_val_imputed[cat_features] = x_val_imputed[cat_features].astype('str')\n",
    "\n",
    "\n",
    "# # 예측 및 평가\n",
    "# pred = best_model.predict(x_val_imputed)\n",
    "# pred = pred.astype(bool)  # 예측값의 데이터 타입을 boolean으로 변환\n",
    "# get_clf_eval(y_val, pred)"
   ]
  },
  {
   "cell_type": "markdown",
   "id": "7946df3c",
   "metadata": {
    "id": "7adf8300"
   },
   "source": [
    "## 4. 제출하기"
   ]
  },
  {
   "cell_type": "markdown",
   "id": "a0b381b8",
   "metadata": {
    "id": "9d0b6e17"
   },
   "source": [
    "### 테스트 데이터 예측"
   ]
  },
  {
   "cell_type": "code",
   "execution_count": 47,
   "id": "efe90857",
   "metadata": {
    "execution": {
     "iopub.execute_input": "2024-02-14T17:41:35.213121Z",
     "iopub.status.busy": "2024-02-14T17:41:35.212723Z",
     "iopub.status.idle": "2024-02-14T17:41:35.289100Z",
     "shell.execute_reply": "2024-02-14T17:41:35.288292Z",
     "shell.execute_reply.started": "2024-02-14T17:41:35.213092Z"
    },
    "id": "43daa73c"
   },
   "outputs": [],
   "source": [
    "# 예측에 필요한 데이터 분리\n",
    "x_test = df_test.drop([\"is_converted\", \"id\"], axis=1)\n",
    "\n",
    "x_test[cat_features] = x_test[cat_features].astype('str')\n",
    "\n",
    "\n",
    "# 결측치를 최빈값으로 대체\n",
    "imputer = SimpleImputer(strategy='most_frequent')\n",
    "x_test_imputed = pd.DataFrame(imputer.fit_transform(x_test), columns=x_test.columns)\n",
    "\n",
    "x_test_imputed[cat_features] = x_test_imputed[cat_features].astype('str')"
   ]
  },
  {
   "cell_type": "code",
   "execution_count": 48,
   "id": "292b0aae",
   "metadata": {
    "execution": {
     "iopub.execute_input": "2024-02-14T17:41:41.783199Z",
     "iopub.status.busy": "2024-02-14T17:41:41.782801Z",
     "iopub.status.idle": "2024-02-14T17:41:42.050223Z",
     "shell.execute_reply": "2024-02-14T17:41:42.049228Z",
     "shell.execute_reply.started": "2024-02-14T17:41:41.783172Z"
    },
    "id": "9C9mPATHM8rX"
   },
   "outputs": [],
   "source": [
    "# Test 데이터 예측\n",
    "test_preds = []\n",
    "for model in best_models:\n",
    "    test_pred = model.predict(x_test_imputed)\n",
    "    test_preds.append(test_pred)"
   ]
  },
  {
   "cell_type": "code",
   "execution_count": 49,
   "id": "3b2fe89d",
   "metadata": {
    "execution": {
     "iopub.execute_input": "2024-02-14T17:14:02.198353Z",
     "iopub.status.busy": "2024-02-14T17:14:02.197440Z",
     "iopub.status.idle": "2024-02-14T17:14:02.247840Z",
     "shell.execute_reply": "2024-02-14T17:14:02.246919Z",
     "shell.execute_reply.started": "2024-02-14T17:14:02.198311Z"
    },
    "id": "Lvb4EyhgNgYd"
   },
   "outputs": [],
   "source": [
    "# # 앙상블을 통한 최종 예측/다수결 적용\n",
    "# final_test_preds = []\n",
    "\n",
    "# for i in range(len(test_preds[0])):\n",
    "#     combined_test_preds = [test_preds[j][i] for j in range(len(test_preds))]\n",
    "#     # majority_vote_test = Counter(combined_test_preds).most_common(1)[0][0]\n",
    "#     majority_vote_test = Counter(combined_test_preds).most_common(1)[0][0] == 'True'\n",
    "#     final_test_preds.append(majority_vote_test)"
   ]
  },
  {
   "cell_type": "code",
   "execution_count": 50,
   "id": "0469bf8a",
   "metadata": {
    "execution": {
     "iopub.execute_input": "2024-02-14T17:41:43.553636Z",
     "iopub.status.busy": "2024-02-14T17:41:43.552893Z",
     "iopub.status.idle": "2024-02-14T17:41:43.574080Z",
     "shell.execute_reply": "2024-02-14T17:41:43.573084Z",
     "shell.execute_reply.started": "2024-02-14T17:41:43.553606Z"
    },
    "id": "Kf31I96YyKj4"
   },
   "outputs": [],
   "source": [
    "# 앙상블을 통한 최종 예측/5개 모델 중 2개 이상 모델이 1로 예측할 경우        \n",
    "final_test_preds = []\n",
    "\n",
    "for i in range(len(test_preds[0])):\n",
    "    # combined_test_preds = [test_preds[j][i] for j in range(len(test_preds))]\n",
    "    combined_test_preds = [test_preds[j][i] == 'True' for j in range(len(test_preds))]\n",
    "    num_ones = sum(combined_test_preds)  # 1로 분류된 모델의 개수를 세기 위해 True의 개수를 계산\n",
    "    if num_ones >= 2:  # 2개 이상의 모델이 True로 분류했을 때\n",
    "        final_test_preds.append(True)\n",
    "    else:\n",
    "        final_test_preds.append(False)  # 그 외의 경우에는 False로 예측\n"
   ]
  },
  {
   "cell_type": "code",
   "execution_count": 51,
   "id": "b59594cd",
   "metadata": {
    "colab": {
     "base_uri": "https://localhost:8080/"
    },
    "execution": {
     "iopub.execute_input": "2024-02-14T17:41:44.599742Z",
     "iopub.status.busy": "2024-02-14T17:41:44.599322Z",
     "iopub.status.idle": "2024-02-14T17:41:44.606836Z",
     "shell.execute_reply": "2024-02-14T17:41:44.605608Z",
     "shell.execute_reply.started": "2024-02-14T17:41:44.599711Z"
    },
    "id": "d13f7a6e",
    "outputId": "53943b2e-cd6b-40c1-f418-b7aed573cfa8"
   },
   "outputs": [
    {
     "data": {
      "text/plain": [
       "2228"
      ]
     },
     "execution_count": 51,
     "metadata": {},
     "output_type": "execute_result"
    }
   ],
   "source": [
    "# test_pred = model.predict(x_test.fillna(0))\n",
    "# test_pred = best_model_xgb.predict(x_test_imputed)\n",
    "# sum(test_pred) # True로 예측된 개수\n",
    "sum(final_test_preds) # True로 예측된 개수"
   ]
  },
  {
   "cell_type": "markdown",
   "id": "e863b6ca",
   "metadata": {
    "id": "47f18e6a"
   },
   "source": [
    "### 제출 파일 작성"
   ]
  },
  {
   "cell_type": "code",
   "execution_count": 52,
   "id": "ee938703",
   "metadata": {
    "id": "3128a458"
   },
   "outputs": [],
   "source": [
    "# # 제출 데이터 읽어오기 (df_test는 전처리된 데이터가 저장됨)\n",
    "# df_sub = pd.read_csv(\"submission.csv\")\n",
    "# df_sub[\"is_converted\"] = test_pred\n",
    "\n",
    "# # 제출 파일 저장\n",
    "# df_sub.to_csv(\"submission.csv\", index=False)"
   ]
  },
  {
   "cell_type": "code",
   "execution_count": 53,
   "id": "553e25c5",
   "metadata": {
    "execution": {
     "iopub.execute_input": "2024-02-14T16:58:24.385876Z",
     "iopub.status.busy": "2024-02-14T16:58:24.385171Z",
     "iopub.status.idle": "2024-02-14T16:58:24.538928Z",
     "shell.execute_reply": "2024-02-14T16:58:24.538163Z",
     "shell.execute_reply.started": "2024-02-14T16:58:24.385843Z"
    },
    "id": "j4ax7lNvNgao"
   },
   "outputs": [],
   "source": [
    "# Submission 파일에 예측값 추가\n",
    "df_sub = pd.read_csv(\"submission.csv\")\n",
    "df_sub[\"is_converted\"] = final_test_preds\n",
    "df_sub.to_csv(\"submission.csv\", index=False)"
   ]
  },
  {
   "cell_type": "markdown",
   "id": "cd1992d5",
   "metadata": {
    "id": "ec7867ce"
   },
   "source": [
    "**우측 상단의 제출 버튼을 클릭해 결과를 확인하세요**"
   ]
  },
  {
   "cell_type": "code",
   "execution_count": null,
   "id": "a1c70e31",
   "metadata": {},
   "outputs": [],
   "source": []
  }
 ],
 "metadata": {
  "colab": {
   "provenance": []
  },
  "kaggle": {
   "accelerator": "nvidiaTeslaT4",
   "dataSources": [
    {
     "datasetId": 4417848,
     "sourceId": 7589661,
     "sourceType": "datasetVersion"
    },
    {
     "datasetId": 4427290,
     "sourceId": 7604656,
     "sourceType": "datasetVersion"
    }
   ],
   "dockerImageVersionId": 30648,
   "isGpuEnabled": true,
   "isInternetEnabled": true,
   "language": "python",
   "sourceType": "notebook"
  },
  "kernelspec": {
   "display_name": "Python 3 (ipykernel)",
   "language": "python",
   "name": "python3"
  },
  "language_info": {
   "codemirror_mode": {
    "name": "ipython",
    "version": 3
   },
   "file_extension": ".py",
   "mimetype": "text/x-python",
   "name": "python",
   "nbconvert_exporter": "python",
   "pygments_lexer": "ipython3",
   "version": "3.10.13"
  }
 },
 "nbformat": 4,
 "nbformat_minor": 5
}
