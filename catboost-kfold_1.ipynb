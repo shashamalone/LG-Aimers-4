{
 "cells": [
  {
   "cell_type": "markdown",
   "id": "8f509e82",
   "metadata": {
    "id": "017e9265"
   },
   "source": [
    "# 영업 성공 여부 분류 경진대회"
   ]
  },
  {
   "cell_type": "code",
   "execution_count": 4,
   "id": "649ad65c",
   "metadata": {
    "execution": {
     "iopub.execute_input": "2024-02-14T15:18:00.622973Z",
     "iopub.status.busy": "2024-02-14T15:18:00.622678Z",
     "iopub.status.idle": "2024-02-14T15:18:05.703335Z",
     "shell.execute_reply": "2024-02-14T15:18:05.702382Z",
     "shell.execute_reply.started": "2024-02-14T15:18:00.622947Z"
    },
    "id": "a315cc58"
   },
   "outputs": [],
   "source": [
    "import pandas as pd\n",
    "import numpy as np\n",
    "from sklearn.metrics import (\n",
    "    accuracy_score,\n",
    "    confusion_matrix,\n",
    "    f1_score,\n",
    "    precision_score,\n",
    "    recall_score,\n",
    "    make_scorer,\n",
    ")\n",
    "from sklearn.model_selection import train_test_split\n",
    "from sklearn.impute import SimpleImputer\n",
    "from sklearn.model_selection import RandomizedSearchCV\n",
    "from scipy.stats import randint\n",
    "from sklearn.model_selection import KFold\n",
    "from collections import Counter\n",
    "from catboost import Pool,CatBoostClassifier"
   ]
  },
  {
   "cell_type": "markdown",
   "id": "47e47429",
   "metadata": {
    "id": "412f98cc"
   },
   "source": [
    "## 1. Data Load"
   ]
  },
  {
   "cell_type": "code",
   "execution_count": 5,
   "id": "29060655",
   "metadata": {
    "execution": {
     "iopub.execute_input": "2024-02-14T17:33:57.490533Z",
     "iopub.status.busy": "2024-02-14T17:33:57.490147Z",
     "iopub.status.idle": "2024-02-14T17:33:57.802448Z",
     "shell.execute_reply": "2024-02-14T17:33:57.801599Z",
     "shell.execute_reply.started": "2024-02-14T17:33:57.490505Z"
    },
    "id": "7ada941e"
   },
   "outputs": [],
   "source": [
    "df_train = pd.read_csv(\"/Users/juhyeon/python-workspace/LG-Aimers-4/train.csv\")\n",
    "df_test = pd.read_csv(\"//Users/juhyeon/python-workspace/LG-Aimers-4/submission.csv\")"
   ]
  },
  {
   "cell_type": "code",
   "execution_count": 6,
   "id": "95b84e8a",
   "metadata": {
    "colab": {
     "base_uri": "https://localhost:8080/",
     "height": 342
    },
    "execution": {
     "iopub.execute_input": "2024-02-14T17:33:57.804230Z",
     "iopub.status.busy": "2024-02-14T17:33:57.803875Z",
     "iopub.status.idle": "2024-02-14T17:33:57.826639Z",
     "shell.execute_reply": "2024-02-14T17:33:57.825677Z",
     "shell.execute_reply.started": "2024-02-14T17:33:57.804202Z"
    },
    "id": "be9af12a",
    "outputId": "37a90111-c282-4fdd-90c7-84ab944c074b"
   },
   "outputs": [
    {
     "data": {
      "text/html": [
       "<div>\n",
       "<style scoped>\n",
       "    .dataframe tbody tr th:only-of-type {\n",
       "        vertical-align: middle;\n",
       "    }\n",
       "\n",
       "    .dataframe tbody tr th {\n",
       "        vertical-align: top;\n",
       "    }\n",
       "\n",
       "    .dataframe thead th {\n",
       "        text-align: right;\n",
       "    }\n",
       "</style>\n",
       "<table border=\"1\" class=\"dataframe\">\n",
       "  <thead>\n",
       "    <tr style=\"text-align: right;\">\n",
       "      <th></th>\n",
       "      <th>bant_submit</th>\n",
       "      <th>customer_country</th>\n",
       "      <th>business_unit</th>\n",
       "      <th>com_reg_ver_win_rate</th>\n",
       "      <th>customer_idx</th>\n",
       "      <th>customer_type</th>\n",
       "      <th>enterprise</th>\n",
       "      <th>historical_existing_cnt</th>\n",
       "      <th>id_strategic_ver</th>\n",
       "      <th>it_strategic_ver</th>\n",
       "      <th>...</th>\n",
       "      <th>response_corporate</th>\n",
       "      <th>expected_timeline</th>\n",
       "      <th>ver_cus</th>\n",
       "      <th>ver_pro</th>\n",
       "      <th>ver_win_rate_x</th>\n",
       "      <th>ver_win_ratio_per_bu</th>\n",
       "      <th>business_area</th>\n",
       "      <th>business_subarea</th>\n",
       "      <th>lead_owner</th>\n",
       "      <th>is_converted</th>\n",
       "    </tr>\n",
       "  </thead>\n",
       "  <tbody>\n",
       "    <tr>\n",
       "      <th>0</th>\n",
       "      <td>1.0</td>\n",
       "      <td>/Quezon City/Philippines</td>\n",
       "      <td>AS</td>\n",
       "      <td>0.066667</td>\n",
       "      <td>32160</td>\n",
       "      <td>End-Customer</td>\n",
       "      <td>Enterprise</td>\n",
       "      <td>NaN</td>\n",
       "      <td>NaN</td>\n",
       "      <td>NaN</td>\n",
       "      <td>...</td>\n",
       "      <td>LGEPH</td>\n",
       "      <td>less than 3 months</td>\n",
       "      <td>1</td>\n",
       "      <td>0</td>\n",
       "      <td>0.003079</td>\n",
       "      <td>0.026846</td>\n",
       "      <td>corporate / office</td>\n",
       "      <td>Engineering</td>\n",
       "      <td>0</td>\n",
       "      <td>True</td>\n",
       "    </tr>\n",
       "    <tr>\n",
       "      <th>1</th>\n",
       "      <td>1.0</td>\n",
       "      <td>/PH-00/Philippines</td>\n",
       "      <td>AS</td>\n",
       "      <td>0.066667</td>\n",
       "      <td>23122</td>\n",
       "      <td>End-Customer</td>\n",
       "      <td>Enterprise</td>\n",
       "      <td>12.0</td>\n",
       "      <td>NaN</td>\n",
       "      <td>NaN</td>\n",
       "      <td>...</td>\n",
       "      <td>LGEPH</td>\n",
       "      <td>less than 3 months</td>\n",
       "      <td>1</td>\n",
       "      <td>0</td>\n",
       "      <td>0.003079</td>\n",
       "      <td>0.026846</td>\n",
       "      <td>corporate / office</td>\n",
       "      <td>Advertising</td>\n",
       "      <td>1</td>\n",
       "      <td>True</td>\n",
       "    </tr>\n",
       "    <tr>\n",
       "      <th>2</th>\n",
       "      <td>1.0</td>\n",
       "      <td>/Kolkata /India</td>\n",
       "      <td>AS</td>\n",
       "      <td>0.088889</td>\n",
       "      <td>1755</td>\n",
       "      <td>End-Customer</td>\n",
       "      <td>Enterprise</td>\n",
       "      <td>144.0</td>\n",
       "      <td>NaN</td>\n",
       "      <td>NaN</td>\n",
       "      <td>...</td>\n",
       "      <td>LGEIL</td>\n",
       "      <td>less than 3 months</td>\n",
       "      <td>1</td>\n",
       "      <td>0</td>\n",
       "      <td>0.003079</td>\n",
       "      <td>0.026846</td>\n",
       "      <td>corporate / office</td>\n",
       "      <td>Construction</td>\n",
       "      <td>2</td>\n",
       "      <td>True</td>\n",
       "    </tr>\n",
       "    <tr>\n",
       "      <th>3</th>\n",
       "      <td>1.0</td>\n",
       "      <td>/Bhubaneswar/India</td>\n",
       "      <td>AS</td>\n",
       "      <td>0.088889</td>\n",
       "      <td>4919</td>\n",
       "      <td>End-Customer</td>\n",
       "      <td>Enterprise</td>\n",
       "      <td>NaN</td>\n",
       "      <td>NaN</td>\n",
       "      <td>NaN</td>\n",
       "      <td>...</td>\n",
       "      <td>LGEIL</td>\n",
       "      <td>less than 3 months</td>\n",
       "      <td>1</td>\n",
       "      <td>0</td>\n",
       "      <td>0.003079</td>\n",
       "      <td>0.026846</td>\n",
       "      <td>corporate / office</td>\n",
       "      <td>IT/Software</td>\n",
       "      <td>3</td>\n",
       "      <td>True</td>\n",
       "    </tr>\n",
       "    <tr>\n",
       "      <th>4</th>\n",
       "      <td>1.0</td>\n",
       "      <td>/Hyderabad/India</td>\n",
       "      <td>AS</td>\n",
       "      <td>0.088889</td>\n",
       "      <td>17126</td>\n",
       "      <td>Specifier/ Influencer</td>\n",
       "      <td>Enterprise</td>\n",
       "      <td>NaN</td>\n",
       "      <td>NaN</td>\n",
       "      <td>NaN</td>\n",
       "      <td>...</td>\n",
       "      <td>LGEIL</td>\n",
       "      <td>less than 3 months</td>\n",
       "      <td>0</td>\n",
       "      <td>0</td>\n",
       "      <td>0.003079</td>\n",
       "      <td>0.026846</td>\n",
       "      <td>corporate / office</td>\n",
       "      <td>NaN</td>\n",
       "      <td>4</td>\n",
       "      <td>True</td>\n",
       "    </tr>\n",
       "  </tbody>\n",
       "</table>\n",
       "<p>5 rows × 29 columns</p>\n",
       "</div>"
      ],
      "text/plain": [
       "   bant_submit          customer_country business_unit  com_reg_ver_win_rate  \\\n",
       "0          1.0  /Quezon City/Philippines            AS              0.066667   \n",
       "1          1.0        /PH-00/Philippines            AS              0.066667   \n",
       "2          1.0           /Kolkata /India            AS              0.088889   \n",
       "3          1.0        /Bhubaneswar/India            AS              0.088889   \n",
       "4          1.0          /Hyderabad/India            AS              0.088889   \n",
       "\n",
       "   customer_idx          customer_type  enterprise  historical_existing_cnt  \\\n",
       "0         32160           End-Customer  Enterprise                      NaN   \n",
       "1         23122           End-Customer  Enterprise                     12.0   \n",
       "2          1755           End-Customer  Enterprise                    144.0   \n",
       "3          4919           End-Customer  Enterprise                      NaN   \n",
       "4         17126  Specifier/ Influencer  Enterprise                      NaN   \n",
       "\n",
       "   id_strategic_ver  it_strategic_ver  ...  response_corporate  \\\n",
       "0               NaN               NaN  ...               LGEPH   \n",
       "1               NaN               NaN  ...               LGEPH   \n",
       "2               NaN               NaN  ...               LGEIL   \n",
       "3               NaN               NaN  ...               LGEIL   \n",
       "4               NaN               NaN  ...               LGEIL   \n",
       "\n",
       "    expected_timeline  ver_cus ver_pro ver_win_rate_x ver_win_ratio_per_bu  \\\n",
       "0  less than 3 months        1       0       0.003079             0.026846   \n",
       "1  less than 3 months        1       0       0.003079             0.026846   \n",
       "2  less than 3 months        1       0       0.003079             0.026846   \n",
       "3  less than 3 months        1       0       0.003079             0.026846   \n",
       "4  less than 3 months        0       0       0.003079             0.026846   \n",
       "\n",
       "        business_area business_subarea lead_owner is_converted  \n",
       "0  corporate / office      Engineering          0         True  \n",
       "1  corporate / office      Advertising          1         True  \n",
       "2  corporate / office     Construction          2         True  \n",
       "3  corporate / office      IT/Software          3         True  \n",
       "4  corporate / office              NaN          4         True  \n",
       "\n",
       "[5 rows x 29 columns]"
      ]
     },
     "execution_count": 6,
     "metadata": {},
     "output_type": "execute_result"
    }
   ],
   "source": [
    "df_train.head() # 학습용 데이터 살펴보기"
   ]
  },
  {
   "cell_type": "code",
   "execution_count": 7,
   "id": "e502ad71",
   "metadata": {},
   "outputs": [
    {
     "name": "stdout",
     "output_type": "stream",
     "text": [
      "<class 'pandas.core.frame.DataFrame'>\n",
      "RangeIndex: 59299 entries, 0 to 59298\n",
      "Data columns (total 29 columns):\n",
      " #   Column                   Non-Null Count  Dtype  \n",
      "---  ------                   --------------  -----  \n",
      " 0   bant_submit              59299 non-null  float64\n",
      " 1   customer_country         58317 non-null  object \n",
      " 2   business_unit            59299 non-null  object \n",
      " 3   com_reg_ver_win_rate     14568 non-null  float64\n",
      " 4   customer_idx             59299 non-null  int64  \n",
      " 5   customer_type            15338 non-null  object \n",
      " 6   enterprise               59299 non-null  object \n",
      " 7   historical_existing_cnt  13756 non-null  float64\n",
      " 8   id_strategic_ver         3444 non-null   float64\n",
      " 9   it_strategic_ver         1121 non-null   float64\n",
      " 10  idit_strategic_ver       4565 non-null   float64\n",
      " 11  customer_job             40566 non-null  object \n",
      " 12  lead_desc_length         59299 non-null  int64  \n",
      " 13  inquiry_type             58358 non-null  object \n",
      " 14  product_category         39925 non-null  object \n",
      " 15  product_subcategory      9235 non-null   object \n",
      " 16  product_modelname        9229 non-null   object \n",
      " 17  customer_country.1       58317 non-null  object \n",
      " 18  customer_position        59299 non-null  object \n",
      " 19  response_corporate       59299 non-null  object \n",
      " 20  expected_timeline        28436 non-null  object \n",
      " 21  ver_cus                  59299 non-null  int64  \n",
      " 22  ver_pro                  59299 non-null  int64  \n",
      " 23  ver_win_rate_x           18417 non-null  float64\n",
      " 24  ver_win_ratio_per_bu     15304 non-null  float64\n",
      " 25  business_area            18417 non-null  object \n",
      " 26  business_subarea         5526 non-null   object \n",
      " 27  lead_owner               59299 non-null  int64  \n",
      " 28  is_converted             59299 non-null  bool   \n",
      "dtypes: bool(1), float64(8), int64(5), object(15)\n",
      "memory usage: 12.7+ MB\n"
     ]
    }
   ],
   "source": [
    "df_train.info()"
   ]
  },
  {
   "cell_type": "code",
   "execution_count": 8,
   "id": "b8bc7b88",
   "metadata": {},
   "outputs": [],
   "source": [
    "Asia = [\"Australia\", \"Bangladesh\", \"Brunei\", \"Cambodia\", \"China\", \"Fiji\", \"Hong Kong\", \"India\", \"Indonesia\", \"Japan\", \"Laos\",\n",
    "        \"Malaysia\", \"Maldives\", \"Mongolia\", \"Myanmar\", \"Nepal\", \"New Zealand\", \"Papua New Guinea\", \"Philippines\", \"Singapore\",\n",
    "        \"South Korea\", \"Sri Lanka\", \"Taiwan\", \"Thailand\", \"Vietnam\"]\n",
    "\n",
    "CIS = ['Belarus', 'Kazakhstan', 'Russia', 'Turkmenistan', 'Ukraine', 'Uzbekistan']\n",
    "\n",
    "Europe = [\"Albania\", \"Austria\", \"Belgium\", \"Bosnia and Herzegovina\", 'Bosnia And Herzegovina', \"Bulgaria\", \"Croatia\", \"Cyprus\", \"Czech Republic\", \"Denmark\",\n",
    "          \"Estonia\", \"Finland\", \"France\", \"Germany\", \"Greece\", \"Hungary\", \"Iceland\", \"Ireland\", \"Isle of Man\", \"Italy\", \"Kosovo\",\n",
    "          \"Latvia\", \"Lithuania\", \"Luxembourg\", \"Macedonia\", \"Malta\", \"Montenegro\", \"Netherlands\", \"Norway\", \"Poland\", \"Portugal\",\n",
    "          \"Romania\", \"Serbia\", \"Slovakia\", \"Slovenia\", \"Spain\", \"Sweden\", \"Switzerland\", \"United Kingdom\"]\n",
    "\n",
    "Latin = [\"Anguilla\", \"Antigua\", \"Antigua and Barbuda\", \"Argentina\", \"Aruba\", \"Bahamas\", \"Barbados\", \"Belize\", \"British Virgin Islands\",\n",
    "         \"Cayman Islands\", \"Chile\", \"Colombia\", \"Costa Rica\", \"Cuba\", \"Curacao\", \"Dominican Republic\", \"Ecuador\", \"El Salvador\", \"Grenada\",\n",
    "         \"Guatemala\", \"Guyana\", \"Haiti\", \"Honduras\", \"Jamaica\", \"Mexico\", \"Netherlands Antilles\", \"Nicaragua\", \"Panama\", \"Paraguay\", \"Peru\",\n",
    "         \"Puerto Rico\", \"Saint Kitts and Nevis\", \"Saint Lucia\", \"St Kitts\", \"St Maarten\", \"St Vincent\", \"Suriname\", \"Trinidad and Tobago\",\n",
    "         \"Turks and Caicos Islands\", \"Uruguay\", \"US Virgin Islands\", \"Venezuela\", 'Brazil', 'Bolivia']\n",
    "\n",
    "Middle = [\"Afghanistan\", \"Algeria\", \"Angola\", \"Armenia\", \"Azerbaijan\", \"Bahrain\", \"Benin\", \"Botswana\", \"Burkina Faso\", \"Cameroon\",\n",
    "          \"Central African Republic\", \"Congo\", \"Cote d’lvoire\", \"Democratic Republic of the Congo\", \"Djibouti\", \"Egypt\", \"Equatorial Guinea\",\n",
    "          \"Eritrea\", \"Ethiopia\", \"Gabon\", \"Gambia\", \"Georgia\", \"Ghana\", \"Guinea\", \"Iran\", \"Iraq\", \"Israel\", \"Ivory Coast\", \"Jordan\", \"Kenya\",\n",
    "          \"Kuwait\", \"Lebanon\", \"Liberia\", \"Libya\", \"Malawi\", \"Mali\", \"Mauritania\", \"Mauritius\", \"Morocco\", \"Mozambique\", \"Namibia\", \"Nigeria\",\n",
    "          \"Oman\", \"Pakistan\", \"Palestine\", \"Qatar\", \"Rwanda\", \"Sao Tome and Principe\", \"Saudi Arabia\", \"Senegal\", \"Seychelles\", \"Sierra Leone\",\n",
    "          \"Somalia\", \"South Africa\", \"Sudan\", \"Swaziland\", \"Syria\", \"Togo\", \"Tunisia\", \"Türkiye\", 'Turkey', \"U.A.E\", \"Uganda\", \"United Republic of Tanzania\",\n",
    "          \"Yemen\", \"Zambia\", \"Zimbabwe\"]\n",
    "\n",
    "North = [\"Canada\", \"United States\"]"
   ]
  },
  {
   "cell_type": "code",
   "execution_count": 9,
   "id": "49ef7166",
   "metadata": {},
   "outputs": [],
   "source": [
    "# customer_country 컬럼만 빼내서 처리하고 다시 붙이는 방식!\n",
    "train_customer_country = df_train['customer_country'].str.rsplit('/', expand=True)\n",
    "test_customer_country = df_test['customer_country'].str.rsplit('/', expand=True)\n",
    "\n",
    "# 소문자 & 대문자 & 약어 수정해주기\n",
    "def check_country_name(s):\n",
    "    \"\"\"\n",
    "    문장의 맨앞은 대문자로, 나머지는 소문자로 변경\n",
    "    단, and 이나 of 의 경우는 변경하지 않는다.\n",
    "    \"\"\"\n",
    "    if isinstance(s, str):\n",
    "        words = s.split()\n",
    "        updated_words = []\n",
    "        for word in words:\n",
    "          if word.upper() == 'U.A.E':    # 예외) U.A.E 경우는 그냥 내버려둠\n",
    "            updated_words.append(word)\n",
    "          else:\n",
    "            updated_words.append(word.capitalize() if word.lower() not in ['and', 'of'] else word.lower())\n",
    "        return ' '.join(updated_words)\n",
    "    else:\n",
    "        return s"
   ]
  },
  {
   "cell_type": "code",
   "execution_count": 10,
   "id": "eefb10ee",
   "metadata": {},
   "outputs": [],
   "source": [
    "# train_data\n",
    "### 국가만 남기기!!\n",
    "col_train = len(train_customer_country.columns)    # train_customer_country의 컬럼개수\n",
    "\n",
    "for i in range(col_train):\n",
    "  train_customer_country[i] = train_customer_country[i].apply(check_country_name)\n",
    "  train_customer_country[i] = train_customer_country[i].apply(lambda x: x if x in Asia + CIS + Europe + Latin + Middle + North else None)\n",
    "  \n",
    "  # new_customer_country[0]의 값이 NaN이 아닌 경우에는 기존 값을 유지\n",
    "  train_customer_country[0] = train_customer_country[0].combine_first(train_customer_country[i])\n",
    "\n",
    "# original data 에 적용!\n",
    "df_train['customer_country'] = train_customer_country[0]"
   ]
  },
  {
   "cell_type": "code",
   "execution_count": 11,
   "id": "9d45e2ac",
   "metadata": {},
   "outputs": [],
   "source": [
    "# test_data\n",
    "### 국가만 남기기!!\n",
    "col_test = len(test_customer_country.columns)    # test_customer_country의 컬럼개수\n",
    "\n",
    "for i in range(col_test):\n",
    "  test_customer_country[i] = test_customer_country[i].apply(check_country_name)\n",
    "  test_customer_country[i] = test_customer_country[i].apply(lambda x: x if x in Asia + CIS + Europe + Latin + Middle + North else None)\n",
    "  # new_customer_country[0]의 값이 NaN이 아닌 경우에는 기존 값을 유지\n",
    "  test_customer_country[0] = test_customer_country[0].combine_first(test_customer_country[i])\n",
    "\n",
    "# original data 에 적용!\n",
    "df_test['customer_country'] = test_customer_country[0]"
   ]
  },
  {
   "cell_type": "code",
   "execution_count": 12,
   "id": "7d42cff1",
   "metadata": {},
   "outputs": [
    {
     "name": "stdout",
     "output_type": "stream",
     "text": [
      "<class 'pandas.core.series.Series'>\n",
      "RangeIndex: 59299 entries, 0 to 59298\n",
      "Series name: customer_country\n",
      "Non-Null Count  Dtype \n",
      "--------------  ----- \n",
      "55817 non-null  object\n",
      "dtypes: object(1)\n",
      "memory usage: 463.4+ KB\n"
     ]
    }
   ],
   "source": [
    "# null 값 존재함!!\n",
    "df_train['customer_country'].info()"
   ]
  },
  {
   "cell_type": "markdown",
   "id": "5b29915f",
   "metadata": {
    "id": "af526c13"
   },
   "source": [
    "## 2. 데이터 전처리"
   ]
  },
  {
   "cell_type": "code",
   "execution_count": 13,
   "id": "3cc7758d",
   "metadata": {},
   "outputs": [],
   "source": [
    "# 바꿔줄 단어들을 리스트로 나열\n",
    "End = ['End-user', 'End-Customer', 'Commercial end-user']\n",
    "Specifier = ['Specifier / Influencer']\n",
    "Solution  = ['Meeting Solution', 'Software / Solution Provider', 'Software/Solution Provider']\n",
    "Service = ['Authorized Service Center', 'Authorized Service Dealer']\n",
    "Other = ['Other', 'Others', 'Etc.']"
   ]
  },
  {
   "cell_type": "code",
   "execution_count": 14,
   "id": "272fc773",
   "metadata": {},
   "outputs": [],
   "source": [
    "# df_test\n",
    "df_train.loc[df_train['customer_type'].isin(End), 'customer_type'] = 'End Customer'\n",
    "df_train.loc[df_train['customer_type'].isin(Specifier), 'customer_type'] = 'Specifier/ Influencer'\n",
    "df_train.loc[df_train['customer_type'].isin(Solution), 'customer_type'] = 'Solution Eco-Partner'\n",
    "df_train.loc[df_train['customer_type'].isin(Service), 'customer_type'] = 'Service Partner'\n",
    "df_train.loc[df_train['customer_type'].isin(Other), 'customer_type'] = 'Other'\n",
    "\n",
    "# df_test\n",
    "df_test.loc[df_test['customer_type'].isin(End), 'customer_type'] = 'End Customer'\n",
    "df_test.loc[df_test['customer_type'].isin(Specifier), 'customer_type'] = 'Specifier/ Influencer'\n",
    "df_test.loc[df_test['customer_type'].isin(Solution), 'customer_type'] = 'Solution Eco-Partner'\n",
    "df_test.loc[df_test['customer_type'].isin(Service), 'customer_type'] = 'Service Partner'\n",
    "df_test.loc[df_test['customer_type'].isin(Other), 'customer_type'] = 'Other'"
   ]
  },
  {
   "cell_type": "code",
   "execution_count": 15,
   "id": "bd0db416",
   "metadata": {
    "execution": {
     "iopub.execute_input": "2024-02-14T17:33:59.640499Z",
     "iopub.status.busy": "2024-02-14T17:33:59.640089Z",
     "iopub.status.idle": "2024-02-14T17:34:00.508170Z",
     "shell.execute_reply": "2024-02-14T17:34:00.507274Z",
     "shell.execute_reply.started": "2024-02-14T17:33:59.640465Z"
    }
   },
   "outputs": [],
   "source": [
    "def assign_id_strategic_ver(row):\n",
    "    if row['business_unit'] == 'ID' and row['business_area'] in ['corporate / office', 'retail', 'hotel & accommodation', 'education']:\n",
    "        return 1\n",
    "    else:\n",
    "        return 0\n",
    "\n",
    "df_train['id_strategic_ver'] = df_train.apply(assign_id_strategic_ver, axis=1)\n",
    "df_test['id_strategic_ver'] = df_test.apply(assign_id_strategic_ver, axis=1)"
   ]
  },
  {
   "cell_type": "code",
   "execution_count": 16,
   "id": "7b6089d7",
   "metadata": {
    "execution": {
     "iopub.execute_input": "2024-02-14T17:34:00.509808Z",
     "iopub.status.busy": "2024-02-14T17:34:00.509552Z",
     "iopub.status.idle": "2024-02-14T17:34:01.287708Z",
     "shell.execute_reply": "2024-02-14T17:34:01.286788Z",
     "shell.execute_reply.started": "2024-02-14T17:34:00.509786Z"
    }
   },
   "outputs": [],
   "source": [
    "def assign_it_strategic_ver(row):\n",
    "    if row['business_unit'] == 'IT' and row['business_area'] in ['corporate / office', 'retail', 'hotel & accommodation', 'education']:\n",
    "        return 1\n",
    "    else:\n",
    "        return 0\n",
    "\n",
    "df_train['it_strategic_ver'] = df_train.apply(assign_it_strategic_ver, axis=1)\n",
    "df_test['it_strategic_ver'] = df_test.apply(assign_it_strategic_ver, axis=1)"
   ]
  },
  {
   "cell_type": "code",
   "execution_count": 17,
   "id": "f1d974db",
   "metadata": {
    "execution": {
     "iopub.execute_input": "2024-02-14T17:34:01.289526Z",
     "iopub.status.busy": "2024-02-14T17:34:01.289203Z",
     "iopub.status.idle": "2024-02-14T17:34:02.275590Z",
     "shell.execute_reply": "2024-02-14T17:34:02.274638Z",
     "shell.execute_reply.started": "2024-02-14T17:34:01.289499Z"
    }
   },
   "outputs": [],
   "source": [
    "# 'id_strategic_ver'나 'it_strategic_ver' 중 하나가 1인 경우에는 'idit_strategic_ver'에 1을 할당\n",
    "df_train['idit_strategic_ver'] = df_train.apply(lambda row: 1 if row['id_strategic_ver'] == 1 or row['it_strategic_ver'] == 1 else 0, axis=1)\n",
    "\n",
    "# 'id_strategic_ver'나 'it_strategic_ver' 중 하나가 1인 경우에는 'idit_strategic_ver'에 1을 할당\n",
    "df_test['idit_strategic_ver'] = df_test.apply(lambda row: 1 if row['id_strategic_ver'] == 1 or row['it_strategic_ver'] == 1 else 0, axis=1)\n"
   ]
  },
  {
   "cell_type": "code",
   "execution_count": 18,
   "id": "e598ce48",
   "metadata": {},
   "outputs": [],
   "source": [
    "### customer_job과 customer_position 의 값을 배열과 비교하여 변경하기 ###\n",
    "def search_func_pos(df):\n",
    "    # 대소문자를 구분하지 않기 위해 소문자로 변환\n",
    "    df['customer_position'] = df['customer_position'].str.lower()\n",
    "    df['customer_job'] = df['customer_job'].str.lower()\n",
    "\n",
    "    # job function과 job seniority 배열 소문자 변환하여 비교\n",
    "    job_function = [\"3d/vfx art\", \"accounting\", \"administrative\", \"arts and design\", \"business development\", \"clinical specialist\", \"community and social services\",\n",
    "                    \"consulting\", \"education\", \"engineering\", \"entrepreneurship\", \"film production\", \"finance\", \"graphic/color art\", \"healthcare services\",\n",
    "                    \"human resources\", \"information technology\", \"legal\", \"marketing\", \"media and communication\", \"medical imaging specialist\", \"medical solution\",\n",
    "                    \"military and protective services\", \"operations\", \"pathologist\", \"product management\", \"program and project management\",\n",
    "                    \"purchasing\", \"quality assurance\", \"radiology professional\", \"real estate\", \"research\", \"sales\", \"support\", \"surgery professional\", \"others\", \"other\" ]\n",
    "\n",
    "    job_seniority = [\"ceo/founder\", \"partner\", \"c-level executive\", \"vice president\", \"director\", \"manager\",\n",
    "                     \"associate/analyst\", \"entry level\", \"trainee\", \"intern\",\"others\"]\n",
    "\n",
    "    # customer_position과 customer_job을 비교하여 조건에 맞는 행을 선택합니다.\n",
    "    condition = (df['customer_position'].isin(job_function)) & (df['customer_job'].isin(job_seniority))\n",
    "    condition_T = df[condition]\n",
    "    # DataFrame으로 변환\n",
    "    condition_T = pd.DataFrame(condition_T, columns=['customer_position', 'customer_job'])\n",
    "\n",
    "    # 조건에 맞는 행의 customer_position과 customer_job 값을 서로 변경합니다.\n",
    "    df.loc[condition, ['customer_position', 'customer_job']] = df.loc[condition, ['customer_job', 'customer_position']].values\n",
    "\n",
    "    return df\n",
    "\n",
    "# 함수를 호출하여 데이터프레임을 변경합니다.\n",
    "df_train = search_func_pos(df_train)\n",
    "df_test = search_func_pos(df_test)"
   ]
  },
  {
   "cell_type": "code",
   "execution_count": 19,
   "id": "0b52f748",
   "metadata": {},
   "outputs": [],
   "source": [
    "### job function에 해당하지 않는 컬럼 확인 ###\n",
    "# 37개\n",
    "job_function = [\"3d/vfx art\", \"accounting\", \"administrative\", \"arts and design\", \"business development\", \"clinical specialist\", \"community and social services\",\n",
    "                \"consulting\", \"education\", \"engineering\", \"entrepreneurship\", \"film production\", \"finance\", \"graphic/color art\", \"healthcare services\",\n",
    "                \"human resources\", \"information technology\", \"legal\", \"marketing\", \"media and communication\", \"medical imaging specialist\", \"medical solution\",\n",
    "                \"military and protective services\", \"operations\", \"pathologist\", \"product management\", \"program and project management\",\n",
    "                \"purchasing\", \"quality assurance\", \"radiology professional\", \"real estate\", \"research\", \"sales\", \"support\", \"surgery professional\", \"others\", \"other\" ]\n",
    "\n",
    "# customer_job 컬럼에서 job_function에 해당하는 카테고리를 필터링\n",
    "function_job = set(job_function)\n",
    "matching_job = set(df_train['customer_job']).intersection(function_job)\n",
    "\n",
    "# job_function에 해당하지 않는 나머지 카테고리들을 출력\n",
    "other_job = set(df_train['customer_job']) - matching_job"
   ]
  },
  {
   "cell_type": "code",
   "execution_count": 20,
   "id": "d685eede",
   "metadata": {},
   "outputs": [],
   "source": [
    "# 각 카테고리에 대한 매핑 딕셔너리 생성\n",
    "three_d_vfx_art = [\"3d/vfx art\"]\n",
    "\n",
    "accounting = [\"accounting\", \"accounts payable\", \"account exec/manager\", \"account management\"]\n",
    "\n",
    "administrative = [\"administrative\", \"platform administrator\", \"imaging administrator\", \"pacs administrator\", \"systems administrator\", \"facility administrator\", \"network administrator\", \"admin\", \"admin assistant\", \"administración\", \"administration\", \"administrative assistant\", \"adminisztráció\", \"amministrativo\"]\n",
    "\n",
    "arts_and_design = [\"arts and design\", \"support/facilitator, designer\", \"design and provide equipment\", \"design/build\", \"design/decision maker\", \"design/install/training/support\", \"kreation und design\", \"kreation_und_design\", \"lead designer\", \"művészet_és_design\", \"interior designer\", \"art and design\", \"art installation\", \"arte y diseño\", \"arte_e_design\", \"artist, lead on equipment selection\", \"arts_and_design\", \"design\", \"designer\", \"designer, creative technologist\", \"designer, producer\", \"designer/installer\", \"designere / budget\", \"designers\"]\n",
    "\n",
    "business_development = [\"business development\", \"sourcing & quoting for end user\", \"distributor quotation\", \"developer/property\", \"curation\", \"quotation curator\", \"quote gathering/proposer to owner\", \"quoting project\", \"business_development\", \"development coordinator/procurement\"]\n",
    "\n",
    "clinical_specialist = [\"clinical specialist\", \"clinic\", \"mental health\"]\n",
    "\n",
    "community_and_social_services = [\"community and social services\", \"community_and_social_services\"]\n",
    "\n",
    "consulting = [\"consulting\", \"technical advisor, reseller\", \"consultent\", \"consultant\", \"consultant / purchaser\", \"consultant,cabinet fabricator\", \"strategic communications\", \"strategy & operations specialist\", \"solution advisor\", \"solutions architect\", \"technology consultant\"]\n",
    "\n",
    "education = [\"education\", \"teacher\", \"teaching\", \"educator\", \"k12 school\", \"higher education (college & university)\", \"institute & academy\", \"instructor\"]\n",
    "\n",
    "engineering = [\"engineering\", \"tech\", \"technical\", \"electrical contractor\", \"implement\", \"senior design engineer\", \"solution engineer\", \"system engineer\", \"systems engineer\", \"lead engineer\", \"electronics & telco\", \"engineer\", \"engineering & technical\", \"engineering & technical executive\", \"engineering director\", \"engineering, design, and install\", \"system designer, integrator\", \"systems design\", \"systems designer\", \"principal engineer\", \"hardware\", \"hardware design engineer\", \"hardware selection\", \"chief eng.\", \"chief engineer\", \"chief of engineering\", \"design engineer\", \"director of engineering\"]\n",
    "\n",
    "entrepreneurship = [\"business owner\", \"ceo\", \"director comercial\", \"head\", \"engagement executive\", \"execution\", \"executive\", \"owner\",\"owner representation\", \"owning company\", \"ownner-marketing director\", \"ceo/founder\", \"lead\", \"organizer\", \"leader\", \"vice president\", \"vp/gm\", \"underboss\", \"the big boss\"]\n",
    "\n",
    "film_production = [\"film production\", \"home theater\", \"community theater\"]\n",
    "\n",
    "finance = [\"finance\", \"finanzas\", \"finanzen\", \"pénzügy\", \"finance executive\"]\n",
    "\n",
    "graphic_color_art = [\"graphic/color art\", \"colorist\", \"gc\", \"graphic design\"]\n",
    "\n",
    "healthcare_services = [\"healthcare services\", \"healthcare professionals\", \"healthcare_services\", \"healthcare\"]\n",
    "\n",
    "human_resources = [\"human resources\", \"hr posting\", \"hr\", \"human_resources\"]\n",
    "\n",
    "information_technology = [\"information technology\", \"software developer\", \"emerging technology / innovation\", \"informatics, touch capability\", \"information technology\\u200b\", \"information_technology\", \"infrastructure\", \"it\", \"it - information technology\", \"it admin\", \"it administrator\", \"it dairector\", \"it department\", \"it director\", \"it hardware technician\", \"it integrator\", \"it manager\", \"it project lead\", \"it specialist\", \"it support\", \"it tech.\", \"it/software\", \"application development\", \"cloud / mobility\", \"collaboration & web apps\", \"computing & it\"],\n",
    "\n",
    "legal = [\"legal\"]\n",
    "\n",
    "marketing = [\"marketing\", \"technical marketing\", \"advertising\", \"product marketing\", \"advertising and promotions team\", \"event marketing\", \"field marketing\", \"marketing coordinator\", \"marketing executive\", \"marketing operations\"]\n",
    "\n",
    "media_and_communication = [\"media and communication\", \"broadcasting & media\", \"media and communications\", \"media_and_communication\", \"media_e_comunicazione\", \"medien_und_kommunikation\", \"medios_de_comunicación\", \"média_és_kommunikáció\"]\n",
    "\n",
    "medical_imaging_specialist = [\"medical imaging specialist\", \"medical imaging  specialist\", \"spécialiste_en_imagerie_médicale\"]\n",
    "\n",
    "medical_solution = [\"medical solution\", \"doctor\", \"tierarzt\", \"medical solution  provider\", \"medical solution provider\", \"medical solution provider\\u200b\"]\n",
    "\n",
    "military_and_protective_services = [\"military and protective services\", \"military_and_protective_services\"]\n",
    "\n",
    "operations = [\"coo\", \"director of operations\",\"regional director of operations\", \"operations executive\", \"operations manager\", \"operations\", \"facilities and operations\", \"üzemeltetés\"]\n",
    "\n",
    "pathologist = [\"pathologist\"]\n",
    "\n",
    "product_management = [\"product management\", \"product_management\"]\n",
    "\n",
    "program_and_project_management = [\"program and project management\", \"av project manager\", \"signage subcontractor p/m\", \"general manager - project manager\", \"digital project manager\", \"program directors\", \"gestión_de_proyectos\", \"program-_és_projektmenedzsment\", \"program_and_project_management\", \"program_and_project_manager\", \"programm- und projektmanagement\", \"programm-_und_projektmanagement\", \"project administrator\", \"project coordinator\", \"project director\", \"project facilitator\", \"project head\", \"project lead\", \"project manage\", \"project manager\", \"project manager / estimator\", \"project manager / principal\", \"project manager/designer\", \"project researcher\", \"project sales/manage\", \"projection manager\", \"projectr mgmt\", \"projektmenedzsment\\tprogram and project management\", \"planner\", \"planner/purchaser\", \"planning and installation\", \"pm\", \"a/v project manager\", \"project manager\", \"owner / project manager\", \"producer/project manager\"]\n",
    "\n",
    "purchasing = [\"purchasing\", \"buyer\", \"buyer, coordinating\", \"obtain quotes, process purchase\", \"requirements and buyer\", \"ordering manager\", \"requisition\", \"purchase\", \"purchase and install\", \"purchase dept\", \"purchaser\", \"purchaser, it and installer\", \"purchasers\", \"purchasing agent\", \"purchasing authority\", \"purchasing coordinator\", \"purchasing director\", \"purchasing manager\", \"purchasing supervisor\", \"purchsing\", \"director purchaser\", \"drop, purchase maxhub\", \"public bidder\", \"bidder\"]\n",
    "\n",
    "quality_assurance = [\"quality assurance\", \"quality_assurance\"]\n",
    "\n",
    "radiology_professional = [\"radiology professional\", \"profesional de radiología\", \"radiology  professional\", \"radiology_professional\"]\n",
    "\n",
    "real_estate = [\"real estate\", \"building owner\", \"property owner\"]\n",
    "\n",
    "research = [\"research\", \"associate/analyst\", \"r&d project manager\", \"research & development\", \"research and developement\", \"research products and prices\", \"research/install\", \"product research\", \"product researcher\"]\n",
    "\n",
    "sales = [\"sales\", \"asking for quote for client\", \"field / outside sales\", \"sourcing / procurement\", \"sourcing/procurement\", \"reseller/integrator\", \"procurement\", \"procurement specialist\", \"procurment\", \"revendedor\", \"car dealership\", \"vendor / reseller\", \"vendite\", \"értékesítés\", \"technical sales\", \"reseller\", \"sale\", \"sales engineering\", \"sales executive\", \"sales manager\", \"sales operations\", \"sales rep\", \"salesman\"]\n",
    "\n",
    "support = [\"support\", \"help desk / desktop services\", \"helpdesk specialist\", \"post install support and service\", \"supplier and installation\"]\n",
    "\n",
    "surgery_professional = [\"surgery professional\", \"profesional de cirugía\", \"surgery professional\\u200b\"]\n"
   ]
  },
  {
   "cell_type": "code",
   "execution_count": 21,
   "id": "9e301d94",
   "metadata": {},
   "outputs": [],
   "source": [
    "df_train.loc[df_train['customer_job'].isin(three_d_vfx_art), 'customer_job'] = 'three_d_vfx_art'\n",
    "df_train.loc[df_train['customer_job'].isin(accounting), 'customer_job'] = 'accounting'\n",
    "df_train.loc[df_train['customer_job'].isin(administrative), 'customer_job'] = 'administrative'\n",
    "df_train.loc[df_train['customer_job'].isin(arts_and_design), 'customer_job'] = 'arts_and_design'\n",
    "df_train.loc[df_train['customer_job'].isin(business_development), 'customer_job'] = 'business_development'\n",
    "df_train.loc[df_train['customer_job'].isin(clinical_specialist), 'customer_job'] = 'clinical_specialist'\n",
    "df_train.loc[df_train['customer_job'].isin(community_and_social_services), 'customer_job'] = 'community_and_social_services'\n",
    "df_train.loc[df_train['customer_job'].isin(consulting), 'customer_job'] = 'consulting'\n",
    "df_train.loc[df_train['customer_job'].isin(education), 'customer_job'] = 'education'\n",
    "df_train.loc[df_train['customer_job'].isin(engineering), 'customer_job'] = 'engineering'\n",
    "df_train.loc[df_train['customer_job'].isin(entrepreneurship), 'customer_job'] = 'entrepreneurship'\n",
    "df_train.loc[df_train['customer_job'].isin(film_production), 'customer_job'] = 'film_production'\n",
    "df_train.loc[df_train['customer_job'].isin(finance), 'customer_job'] = 'finance'\n",
    "df_train.loc[df_train['customer_job'].isin(film_production), 'customer_job'] = 'film_production'\n",
    "df_train.loc[df_train['customer_job'].isin(graphic_color_art), 'customer_job'] = 'graphic_color_art'\n",
    "df_train.loc[df_train['customer_job'].isin(healthcare_services), 'customer_job'] = 'healthcare_services'\n",
    "df_train.loc[df_train['customer_job'].isin(human_resources), 'customer_job'] = 'human_resources'\n",
    "df_train.loc[df_train['customer_job'].isin(information_technology), 'customer_job'] = 'information_technology'\n",
    "df_train.loc[df_train['customer_job'].isin(legal), 'customer_job'] = 'legal'\n",
    "df_train.loc[df_train['customer_job'].isin(marketing), 'customer_job'] = 'marketing'\n",
    "df_train.loc[df_train['customer_job'].isin(media_and_communication), 'customer_job'] = 'media_and_communication'\n",
    "df_train.loc[df_train['customer_job'].isin(medical_imaging_specialist), 'customer_job'] = 'medical_imaging_specialist'\n",
    "df_train.loc[df_train['customer_job'].isin(medical_solution), 'customer_job'] = 'medical_solution'\n",
    "df_train.loc[df_train['customer_job'].isin(military_and_protective_services), 'customer_job'] = 'military_and_protective_services'\n",
    "df_train.loc[df_train['customer_job'].isin(operations), 'customer_job'] = 'operations'\n",
    "df_train.loc[df_train['customer_job'].isin(pathologist), 'customer_job'] = 'pathologist'\n",
    "df_train.loc[df_train['customer_job'].isin(product_management), 'customer_job'] = 'product_management'\n",
    "df_train.loc[df_train['customer_job'].isin(program_and_project_management), 'customer_job'] = 'program_and_project_management'\n",
    "df_train.loc[df_train['customer_job'].isin(purchasing), 'customer_job'] = 'purchasing'\n",
    "df_train.loc[df_train['customer_job'].isin(quality_assurance), 'customer_job'] = 'quality_assurance'\n",
    "df_train.loc[df_train['customer_job'].isin(radiology_professional), 'customer_job'] = 'radiology_professional'\n",
    "df_train.loc[df_train['customer_job'].isin(real_estate), 'customer_job'] = 'real_estate'\n",
    "df_train.loc[df_train['customer_job'].isin(research), 'customer_job'] = 'research'\n",
    "df_train.loc[df_train['customer_job'].isin(sales), 'customer_job'] = 'sales'\n",
    "df_train.loc[df_train['customer_job'].isin(support), 'customer_job'] = 'support'\n",
    "df_train.loc[df_train['customer_job'].isin(surgery_professional), 'customer_job'] = 'surgery_professional'"
   ]
  },
  {
   "cell_type": "code",
   "execution_count": 22,
   "id": "1f0d9839",
   "metadata": {},
   "outputs": [],
   "source": [
    "df_test.loc[df_test['customer_job'].isin(three_d_vfx_art), 'customer_job'] = 'three_d_vfx_art'\n",
    "df_test.loc[df_test['customer_job'].isin(accounting), 'customer_job'] = 'accounting'\n",
    "df_test.loc[df_test['customer_job'].isin(administrative), 'customer_job'] = 'administrative'\n",
    "df_test.loc[df_test['customer_job'].isin(arts_and_design), 'customer_job'] = 'arts_and_design'\n",
    "df_test.loc[df_test['customer_job'].isin(business_development), 'customer_job'] = 'business_development'\n",
    "df_test.loc[df_test['customer_job'].isin(clinical_specialist), 'customer_job'] = 'clinical_specialist'\n",
    "df_test.loc[df_test['customer_job'].isin(community_and_social_services), 'customer_job'] = 'community_and_social_services'\n",
    "df_test.loc[df_test['customer_job'].isin(consulting), 'customer_job'] = 'consulting'\n",
    "df_test.loc[df_test['customer_job'].isin(education), 'customer_job'] = 'education'\n",
    "df_test.loc[df_test['customer_job'].isin(engineering), 'customer_job'] = 'engineering'\n",
    "df_test.loc[df_test['customer_job'].isin(entrepreneurship), 'customer_job'] = 'entrepreneurship'\n",
    "df_test.loc[df_test['customer_job'].isin(film_production), 'customer_job'] = 'film_production'\n",
    "df_test.loc[df_test['customer_job'].isin(finance), 'customer_job'] = 'finance'\n",
    "df_test.loc[df_test['customer_job'].isin(film_production), 'customer_job'] = 'film_production'\n",
    "df_test.loc[df_test['customer_job'].isin(graphic_color_art), 'customer_job'] = 'graphic_color_art'\n",
    "df_test.loc[df_test['customer_job'].isin(healthcare_services), 'customer_job'] = 'healthcare_services'\n",
    "df_test.loc[df_test['customer_job'].isin(human_resources), 'customer_job'] = 'human_resources'\n",
    "df_test.loc[df_test['customer_job'].isin(information_technology), 'customer_job'] = 'information_technology'\n",
    "df_test.loc[df_test['customer_job'].isin(legal), 'customer_job'] = 'legal'\n",
    "df_test.loc[df_test['customer_job'].isin(marketing), 'customer_job'] = 'marketing'\n",
    "df_test.loc[df_test['customer_job'].isin(media_and_communication), 'customer_job'] = 'media_and_communication'\n",
    "df_test.loc[df_test['customer_job'].isin(medical_imaging_specialist), 'customer_job'] = 'medical_imaging_specialist'\n",
    "df_test.loc[df_test['customer_job'].isin(medical_solution), 'customer_job'] = 'medical_solution'\n",
    "df_test.loc[df_test['customer_job'].isin(military_and_protective_services), 'customer_job'] = 'military_and_protective_services'\n",
    "df_test.loc[df_test['customer_job'].isin(operations), 'customer_job'] = 'operations'\n",
    "df_test.loc[df_test['customer_job'].isin(pathologist), 'customer_job'] = 'pathologist'\n",
    "df_test.loc[df_test['customer_job'].isin(product_management), 'customer_job'] = 'product_management'\n",
    "df_test.loc[df_test['customer_job'].isin(program_and_project_management), 'customer_job'] = 'program_and_project_management'\n",
    "df_test.loc[df_test['customer_job'].isin(purchasing), 'customer_job'] = 'purchasing'\n",
    "df_test.loc[df_test['customer_job'].isin(quality_assurance), 'customer_job'] = 'quality_assurance'\n",
    "df_test.loc[df_test['customer_job'].isin(radiology_professional), 'customer_job'] = 'radiology_professional'\n",
    "df_test.loc[df_test['customer_job'].isin(real_estate), 'customer_job'] = 'real_estate'\n",
    "df_test.loc[df_test['customer_job'].isin(research), 'customer_job'] = 'research'\n",
    "df_test.loc[df_test['customer_job'].isin(sales), 'customer_job'] = 'sales'\n",
    "df_test.loc[df_test['customer_job'].isin(support), 'customer_job'] = 'support'\n",
    "df_test.loc[df_test['customer_job'].isin(surgery_professional), 'customer_job'] = 'surgery_professional'"
   ]
  },
  {
   "cell_type": "code",
   "execution_count": 23,
   "id": "3af20a88",
   "metadata": {},
   "outputs": [],
   "source": [
    "# 제품군 간단한 전처리 하기\n",
    "\n",
    "# 각 카테고리에 대한 매핑 딕셔너리 생성\n",
    "other = [\"other\", \"others\", \"etc.\", \"khác\", \"outros\", \"lainnya\", \"אחר\", \"otros\"]\n",
    "commercial_tv = [\"commercial tv\", \"commercial tv,tv\", \"commercial tv,audio/video\", \"commercial_tv\", \"tv,commercial tv\", \"comercial tv\"]\n",
    "heating = [\"heating\", \"חימום\" ,\"حلول التدفئة\", \"isıtma\", \"ogrzewanie (pompy ciepła)\", \"calefacción\"]\n",
    "multi_split  = [\"multi-split\", \"פיצול מרובה\", \"multi split\"]\n",
    "single_split = [\"single-split\", \"split tunggal\", \"single split\"]\n",
    "chiller = [\"chiller\", \"مبرد (تشيلر)\", \"soğutucu\", \"pendingin\"]\n",
    "video_wall_signage  = [\"video wall signage\", \"videwall\", \"video wall\"]\n",
    "hotel_tv = [\"hotel tv\", \"酒店電視\"]\n",
    "hospital_tv = [\"hospital tv\", \"醫院電視\"]\n",
    "\n",
    "\n",
    "df_train.loc[df_train['product_category'].isin(other), 'product_category'] = 'other'\n",
    "df_train.loc[df_train['product_category'].isin(commercial_tv), 'product_category'] = 'commercial_tv'\n",
    "df_train.loc[df_train['product_category'].isin(heating), 'product_category'] = 'heating'\n",
    "df_train.loc[df_train['product_category'].isin(multi_split), 'product_category'] = 'multi_split'\n",
    "df_train.loc[df_train['product_category'].isin(single_split), 'product_category'] = 'single_split'\n",
    "df_train.loc[df_train['product_category'].isin(chiller), 'product_category'] = 'chiller'\n",
    "df_train.loc[df_train['product_category'].isin(video_wall_signage), 'product_category'] = 'video_wall_signage'\n",
    "df_train.loc[df_train['product_category'].isin(hotel_tv), 'product_category'] = 'hotel_tv'\n",
    "\n",
    "df_test.loc[df_test['product_category'].isin(other), 'product_category'] = 'other'\n",
    "df_test.loc[df_test['product_category'].isin(commercial_tv), 'product_category'] = 'commercial_tv'\n",
    "df_test.loc[df_test['product_category'].isin(heating), 'product_category'] = 'heating'\n",
    "df_test.loc[df_test['product_category'].isin(multi_split), 'product_category'] = 'multi-split'\n",
    "df_test.loc[df_test['product_category'].isin(single_split), 'product_category'] = 'single_split'\n",
    "df_test.loc[df_test['product_category'].isin(chiller), 'product_category'] = 'chiller'\n",
    "df_test.loc[df_test['product_category'].isin(video_wall_signage), 'product_category'] = 'video_wall_signage'\n",
    "df_test.loc[df_test['product_category'].isin(hotel_tv), 'product_category'] = 'hotel_tv'"
   ]
  },
  {
   "cell_type": "code",
   "execution_count": 24,
   "id": "65a43614",
   "metadata": {},
   "outputs": [],
   "source": [
    "import re\n",
    "\n",
    "def custom_replace(value):\n",
    "    value_str = str(value)  # 정수형 데이터를 문자열로 변환\n",
    "    if \"less\" in value_str.lower():\n",
    "        return 'Less than 3 months'\n",
    "    elif \"3\" in value_str and \"6\" in value_str:\n",
    "        return '3 Months ~ 6 Months'\n",
    "    elif \"6\" in value_str and \"9\" in value_str:\n",
    "        return '6 Months ~ 9 Months'\n",
    "    elif \"9\" in value_str and \"1\" in value_str:\n",
    "        return '9 Months ~ 1 year'\n",
    "    elif \"more\" in value_str.lower():\n",
    "        return 'More than a year'\n",
    "    else: # 941개 NaN값 처리\n",
    "#         return -1 # 전부 -1\n",
    "        return 'Not specified' #전부 Not specified\n",
    "#         return value  #원래 결측치 값 -> 이후 결측치 0으로 채우기\n",
    "\n",
    "\n",
    "# df_train/df_test에 함수 적용\n",
    "df_train['expected_timeline'] = df_train['expected_timeline'].apply(custom_replace)\n",
    "df_test['expected_timeline'] = df_test['expected_timeline'].apply(custom_replace)"
   ]
  },
  {
   "cell_type": "code",
   "execution_count": 25,
   "id": "445dcf70",
   "metadata": {},
   "outputs": [],
   "source": [
    "### 결측치 처리 함수 작성 ###\n",
    "def ver_cus_0to1(df):\n",
    "  df.loc[(df['business_area'].isin(['corporate / office', 'retail', 'education', 'hotel & accommodation'])) &\n",
    "         (df['customer_type'].isin(['End-Customer', 'End Customer', 'End-user'])),\n",
    "         'ver_cus'] = 1\n",
    "  return df\n",
    "\n",
    "### df_train/df_test에 적용\n",
    "df_train = ver_cus_0to1(df_train)\n",
    "df_test = ver_cus_0to1(df_test)"
   ]
  },
  {
   "cell_type": "code",
   "execution_count": 26,
   "id": "943ceaec",
   "metadata": {},
   "outputs": [],
   "source": [
    "### 결측치 처리 함수 ###\n",
    "def ver_pro_0to1(df):\n",
    "    df.loc[(df['business_area'].isin(['corporate / office', 'retail', 'hotel & accommodation','education'])) &\n",
    "           (df['product_category'].str.contains('signage', case=False) |\n",
    "            df['product_category'].str.contains('hotel tv', case=False)),\n",
    "           'ver_pro'] = 1\n",
    "    return df\n",
    "\n",
    "### df_train/df_test에 적용\n",
    "df_train = ver_pro_0to1(df_train)\n",
    "df_test = ver_pro_0to1(df_test)"
   ]
  },
  {
   "cell_type": "code",
   "execution_count": 27,
   "id": "6e390b39",
   "metadata": {
    "execution": {
     "iopub.execute_input": "2024-02-14T17:34:05.352056Z",
     "iopub.status.busy": "2024-02-14T17:34:05.351767Z",
     "iopub.status.idle": "2024-02-14T17:34:05.368309Z",
     "shell.execute_reply": "2024-02-14T17:34:05.367408Z",
     "shell.execute_reply.started": "2024-02-14T17:34:05.352033Z"
    }
   },
   "outputs": [
    {
     "data": {
      "text/html": [
       "<div>\n",
       "<style scoped>\n",
       "    .dataframe tbody tr th:only-of-type {\n",
       "        vertical-align: middle;\n",
       "    }\n",
       "\n",
       "    .dataframe tbody tr th {\n",
       "        vertical-align: top;\n",
       "    }\n",
       "\n",
       "    .dataframe thead th {\n",
       "        text-align: right;\n",
       "    }\n",
       "</style>\n",
       "<table border=\"1\" class=\"dataframe\">\n",
       "  <thead>\n",
       "    <tr style=\"text-align: right;\">\n",
       "      <th></th>\n",
       "      <th>business_unit</th>\n",
       "      <th>com_reg_ver_win_rate</th>\n",
       "      <th>customer_type</th>\n",
       "      <th>product_category</th>\n",
       "      <th>ver_cus</th>\n",
       "      <th>ver_pro</th>\n",
       "      <th>business_area</th>\n",
       "    </tr>\n",
       "  </thead>\n",
       "  <tbody>\n",
       "    <tr>\n",
       "      <th>1</th>\n",
       "      <td>AS</td>\n",
       "      <td>0.066667</td>\n",
       "      <td>End Customer</td>\n",
       "      <td>multi_split</td>\n",
       "      <td>1</td>\n",
       "      <td>0</td>\n",
       "      <td>corporate / office</td>\n",
       "    </tr>\n",
       "    <tr>\n",
       "      <th>2</th>\n",
       "      <td>AS</td>\n",
       "      <td>0.088889</td>\n",
       "      <td>End Customer</td>\n",
       "      <td>single_split</td>\n",
       "      <td>1</td>\n",
       "      <td>0</td>\n",
       "      <td>corporate / office</td>\n",
       "    </tr>\n",
       "    <tr>\n",
       "      <th>3</th>\n",
       "      <td>AS</td>\n",
       "      <td>0.088889</td>\n",
       "      <td>End Customer</td>\n",
       "      <td>vrf</td>\n",
       "      <td>1</td>\n",
       "      <td>0</td>\n",
       "      <td>corporate / office</td>\n",
       "    </tr>\n",
       "    <tr>\n",
       "      <th>4</th>\n",
       "      <td>AS</td>\n",
       "      <td>0.088889</td>\n",
       "      <td>Specifier/ Influencer</td>\n",
       "      <td>multi_split</td>\n",
       "      <td>0</td>\n",
       "      <td>0</td>\n",
       "      <td>corporate / office</td>\n",
       "    </tr>\n",
       "    <tr>\n",
       "      <th>5</th>\n",
       "      <td>AS</td>\n",
       "      <td>0.040816</td>\n",
       "      <td>End Customer</td>\n",
       "      <td>chiller</td>\n",
       "      <td>1</td>\n",
       "      <td>0</td>\n",
       "      <td>corporate / office</td>\n",
       "    </tr>\n",
       "  </tbody>\n",
       "</table>\n",
       "</div>"
      ],
      "text/plain": [
       "  business_unit  com_reg_ver_win_rate          customer_type product_category  \\\n",
       "1            AS              0.066667           End Customer      multi_split   \n",
       "2            AS              0.088889           End Customer     single_split   \n",
       "3            AS              0.088889           End Customer              vrf   \n",
       "4            AS              0.088889  Specifier/ Influencer      multi_split   \n",
       "5            AS              0.040816           End Customer          chiller   \n",
       "\n",
       "   ver_cus  ver_pro       business_area  \n",
       "1        1        0  corporate / office  \n",
       "2        1        0  corporate / office  \n",
       "3        1        0  corporate / office  \n",
       "4        0        0  corporate / office  \n",
       "5        1        0  corporate / office  "
      ]
     },
     "execution_count": 27,
     "metadata": {},
     "output_type": "execute_result"
    }
   ],
   "source": [
    "# 확인해보기\n",
    "df_train.iloc[1:6, df_train.columns.isin(['business_unit', 'com_reg_ver_win_rate', 'business_area', 'product_category', 'customer_type', 'ver_pro', 'ver_cus'])]"
   ]
  },
  {
   "cell_type": "code",
   "execution_count": 28,
   "id": "81b08b24",
   "metadata": {
    "execution": {
     "iopub.execute_input": "2024-02-14T17:34:41.157067Z",
     "iopub.status.busy": "2024-02-14T17:34:41.156432Z",
     "iopub.status.idle": "2024-02-14T17:34:41.173275Z",
     "shell.execute_reply": "2024-02-14T17:34:41.172384Z",
     "shell.execute_reply.started": "2024-02-14T17:34:41.157036Z"
    },
    "id": "0a1b8bbb"
   },
   "outputs": [],
   "source": [
    "# 불필요해 보이는 열 제거\n",
    "#columns_to_drop = [\"customer_country\", \"customer_country.1\", \"response_corporate\",\"product_subcategory\", \"product_modelname\", \"business_subarea\"]\n",
    "columns_to_drop = [\"customer_country.1\", \"response_corporate\",\"product_subcategory\", \"product_modelname\", \"business_subarea\"]\n",
    "\n",
    "df_train = df_train.drop(columns=columns_to_drop)\n",
    "df_test = df_test.drop(columns=columns_to_drop)"
   ]
  },
  {
   "cell_type": "code",
   "execution_count": 29,
   "id": "0ec4873e",
   "metadata": {
    "execution": {
     "iopub.execute_input": "2024-02-14T17:35:03.535038Z",
     "iopub.status.busy": "2024-02-14T17:35:03.534673Z",
     "iopub.status.idle": "2024-02-14T17:35:03.540116Z",
     "shell.execute_reply": "2024-02-14T17:35:03.539228Z",
     "shell.execute_reply.started": "2024-02-14T17:35:03.535012Z"
    },
    "id": "8r_qLq5LFzR-"
   },
   "outputs": [],
   "source": [
    "is_holdout = False\n",
    "iterations = 3000   # 최대학습수\n",
    "patience = 100      # 100번동안 성능개선 없으면 조기종료! (숫자 낮춰볼 수도 있을듯!)\n",
    "\n",
    "# Train/Val 데이터를 5-fold로 나누기\n",
    "kf = KFold(n_splits=5, shuffle=True, random_state=1117)\n",
    "\n",
    "# 각 fold에 대한 예측값을 저장할 리스트\n",
    "ensemble_preds = []"
   ]
  },
  {
   "cell_type": "markdown",
   "id": "640a320e",
   "metadata": {
    "id": "79ecfa9b"
   },
   "source": [
    "## 3. 모델 학습"
   ]
  },
  {
   "cell_type": "code",
   "execution_count": 30,
   "id": "558115f9",
   "metadata": {},
   "outputs": [
    {
     "data": {
      "text/plain": [
       "11.22659793814433"
      ]
     },
     "execution_count": 30,
     "metadata": {},
     "output_type": "execute_result"
    }
   ],
   "source": [
    "# 클래스 0과 클래스 1의 비율에 따라 scale_pos_weight 설정\n",
    "df_train['is_converted'].value_counts()\n",
    "\n",
    "scale_pos_weight = 54449/4850\n",
    "scale_pos_weight    # 11.22"
   ]
  },
  {
   "cell_type": "code",
   "execution_count": 31,
   "id": "2a6b9168",
   "metadata": {
    "execution": {
     "iopub.execute_input": "2024-02-14T17:35:11.643965Z",
     "iopub.status.busy": "2024-02-14T17:35:11.643603Z",
     "iopub.status.idle": "2024-02-14T17:35:11.649083Z",
     "shell.execute_reply": "2024-02-14T17:35:11.648028Z",
     "shell.execute_reply.started": "2024-02-14T17:35:11.643939Z"
    }
   },
   "outputs": [],
   "source": [
    "# 범주형 데이터 정의\n",
    "# target encoding & one-hot encoding 해줌\n",
    "\n",
    "cat_features = ['bant_submit','customer_country','business_unit', 'customer_idx', 'customer_type', 'enterprise', 'customer_job', 'inquiry_type', 'product_category', 'customer_position', 'business_area', 'lead_owner', 'expected_timeline']  # 실제 범주형 특성 이름으로 변경"
   ]
  },
  {
   "cell_type": "code",
   "execution_count": 32,
   "id": "18cdae82",
   "metadata": {
    "execution": {
     "iopub.execute_input": "2024-02-14T17:36:02.313581Z",
     "iopub.status.busy": "2024-02-14T17:36:02.313072Z",
     "iopub.status.idle": "2024-02-14T17:39:04.628851Z",
     "shell.execute_reply": "2024-02-14T17:39:04.627905Z",
     "shell.execute_reply.started": "2024-02-14T17:36:02.313548Z"
    }
   },
   "outputs": [
    {
     "name": "stdout",
     "output_type": "stream",
     "text": [
      "==================================================\n",
      "Learning rate set to 0.050976\n",
      "0:\tlearn: 0.8445550\ttest: 0.8609147\tbest: 0.8609147 (0)\ttotal: 101ms\tremaining: 5m 2s\n",
      "100:\tlearn: 0.9423212\ttest: 0.9478988\tbest: 0.9487843 (77)\ttotal: 3.6s\tremaining: 1m 43s\n",
      "200:\tlearn: 0.9501661\ttest: 0.9511699\tbest: 0.9516151 (191)\ttotal: 6.95s\tremaining: 1m 36s\n",
      "300:\tlearn: 0.9560203\ttest: 0.9512466\tbest: 0.9516980 (208)\ttotal: 10.7s\tremaining: 1m 35s\n",
      "Stopped by overfitting detector  (100 iterations wait)\n",
      "\n",
      "bestTest = 0.9516979735\n",
      "bestIteration = 208\n",
      "\n",
      "Shrink model to first 209 iterations.\n",
      "Confusion Matrix:\n",
      "[[10371   505]\n",
      " [   49   935]]\n",
      "F1 Score: 0.7715\n",
      "==================================================\n",
      "Learning rate set to 0.050976\n",
      "0:\tlearn: 0.8533483\ttest: 0.8500073\tbest: 0.8500073 (0)\ttotal: 36.7ms\tremaining: 1m 49s\n",
      "100:\tlearn: 0.9431015\ttest: 0.9500166\tbest: 0.9500689 (68)\ttotal: 3.77s\tremaining: 1m 48s\n",
      "200:\tlearn: 0.9503344\ttest: 0.9533856\tbest: 0.9539805 (176)\ttotal: 7.35s\tremaining: 1m 42s\n",
      "300:\tlearn: 0.9549937\ttest: 0.9531027\tbest: 0.9542496 (237)\ttotal: 11s\tremaining: 1m 39s\n",
      "Stopped by overfitting detector  (100 iterations wait)\n",
      "\n",
      "bestTest = 0.9542496081\n",
      "bestIteration = 237\n",
      "\n",
      "Shrink model to first 238 iterations.\n",
      "Confusion Matrix:\n",
      "[[10404   501]\n",
      " [   42   913]]\n",
      "F1 Score: 0.7708\n",
      "==================================================\n",
      "Learning rate set to 0.050976\n",
      "0:\tlearn: 0.8498064\ttest: 0.8628730\tbest: 0.8628730 (0)\ttotal: 34ms\tremaining: 1m 41s\n",
      "100:\tlearn: 0.9419046\ttest: 0.9504584\tbest: 0.9505511 (98)\ttotal: 4.02s\tremaining: 1m 55s\n",
      "200:\tlearn: 0.9507281\ttest: 0.9533476\tbest: 0.9534442 (189)\ttotal: 8.35s\tremaining: 1m 56s\n",
      "300:\tlearn: 0.9560385\ttest: 0.9539994\tbest: 0.9544212 (271)\ttotal: 12.4s\tremaining: 1m 51s\n",
      "400:\tlearn: 0.9601772\ttest: 0.9557747\tbest: 0.9558680 (387)\ttotal: 16.5s\tremaining: 1m 47s\n",
      "500:\tlearn: 0.9630964\ttest: 0.9568953\tbest: 0.9569420 (489)\ttotal: 20.5s\tremaining: 1m 42s\n",
      "600:\tlearn: 0.9673433\ttest: 0.9566153\tbest: 0.9575497 (583)\ttotal: 24.5s\tremaining: 1m 37s\n",
      "Stopped by overfitting detector  (100 iterations wait)\n",
      "\n",
      "bestTest = 0.9575497045\n",
      "bestIteration = 583\n",
      "\n",
      "Shrink model to first 584 iterations.\n",
      "Confusion Matrix:\n",
      "[[10480   451]\n",
      " [   38   891]]\n",
      "F1 Score: 0.7847\n",
      "==================================================\n",
      "Learning rate set to 0.050976\n",
      "0:\tlearn: 0.8370610\ttest: 0.8551402\tbest: 0.8551402 (0)\ttotal: 32.3ms\tremaining: 1m 36s\n",
      "100:\tlearn: 0.9397153\ttest: 0.9486072\tbest: 0.9486072 (97)\ttotal: 4.39s\tremaining: 2m 5s\n",
      "200:\tlearn: 0.9473697\ttest: 0.9525126\tbest: 0.9530467 (190)\ttotal: 8.79s\tremaining: 2m 2s\n",
      "300:\tlearn: 0.9544246\ttest: 0.9574899\tbest: 0.9574899 (299)\ttotal: 13.6s\tremaining: 2m 1s\n",
      "400:\tlearn: 0.9592434\ttest: 0.9574046\tbest: 0.9584178 (383)\ttotal: 17.5s\tremaining: 1m 53s\n",
      "Stopped by overfitting detector  (100 iterations wait)\n",
      "\n",
      "bestTest = 0.9584178499\n",
      "bestIteration = 383\n",
      "\n",
      "Shrink model to first 384 iterations.\n",
      "Confusion Matrix:\n",
      "[[10443   429]\n",
      " [   43   945]]\n",
      "F1 Score: 0.8002\n",
      "==================================================\n",
      "Learning rate set to 0.050976\n",
      "0:\tlearn: 0.8307319\ttest: 0.8424654\tbest: 0.8424654 (0)\ttotal: 51.6ms\tremaining: 2m 34s\n",
      "100:\tlearn: 0.9425341\ttest: 0.9457605\tbest: 0.9459769 (97)\ttotal: 4.11s\tremaining: 1m 58s\n",
      "200:\tlearn: 0.9505888\ttest: 0.9492488\tbest: 0.9497780 (196)\ttotal: 8.74s\tremaining: 2m 1s\n",
      "300:\tlearn: 0.9569118\ttest: 0.9524858\tbest: 0.9530577 (299)\ttotal: 12.8s\tremaining: 1m 54s\n",
      "400:\tlearn: 0.9618228\ttest: 0.9537105\tbest: 0.9538885 (371)\ttotal: 16.4s\tremaining: 1m 46s\n",
      "Stopped by overfitting detector  (100 iterations wait)\n",
      "\n",
      "bestTest = 0.9538885065\n",
      "bestIteration = 371\n",
      "\n",
      "Shrink model to first 372 iterations.\n",
      "Confusion Matrix:\n",
      "[[10399   466]\n",
      " [   49   945]]\n",
      "F1 Score: 0.7859\n"
     ]
    }
   ],
   "source": [
    "# CatBoost 학습\n",
    "best_models = []\n",
    "\n",
    "models = []\n",
    "for train_index, val_index in kf.split(df_train):\n",
    "    print(\"=\"*50)\n",
    "    \n",
    "    # Train/Val 데이터 분할\n",
    "    x_train_fold, x_val_fold = df_train.drop(\"is_converted\", axis=1).iloc[train_index], df_train.drop(\"is_converted\", axis=1).iloc[val_index]\n",
    "    y_train_fold, y_val_fold = df_train[\"is_converted\"].iloc[train_index], df_train[\"is_converted\"].iloc[val_index]\n",
    "\n",
    "    x_train_fold[cat_features] = x_train_fold[cat_features].astype('str')\n",
    "    x_val_fold[cat_features] = x_val_fold[cat_features].astype('str')\n",
    "\n",
    "    \n",
    "    # Train 데이터 imputation\n",
    "    imputer = SimpleImputer(strategy='most_frequent')\n",
    "    x_train_fold_imputed = pd.DataFrame(imputer.fit_transform(x_train_fold), columns=x_train_fold.columns)\n",
    "\n",
    "    # Validation 데이터 imputation 및 예측\n",
    "    x_val_fold_imputed = pd.DataFrame(imputer.transform(x_val_fold), columns=x_val_fold.columns)\n",
    "    \n",
    "    x_train_fold_imputed[cat_features] = x_train_fold_imputed[cat_features].astype('str')\n",
    "    x_val_fold_imputed[cat_features] = x_val_fold_imputed[cat_features].astype('str')\n",
    "    \n",
    "    # 모델학습\n",
    "    model = CatBoostClassifier(iterations=iterations,\n",
    "                               random_state=1117,\n",
    "                               scale_pos_weight = 11, \n",
    "                               eval_metric=\"F1\",\n",
    "                               cat_features=cat_features, one_hot_max_size=4)\n",
    "    \n",
    "    model.fit(x_train_fold_imputed, y_train_fold, eval_set=[(x_val_fold_imputed, y_val_fold)], \n",
    "              early_stopping_rounds=patience, verbose = 100)\n",
    "     \n",
    "    fold_pred = model.predict(x_val_fold_imputed)\n",
    "    \n",
    "    # fold별 예측값 저장\n",
    "    ensemble_preds.append(fold_pred)\n",
    "    best_models.append(model)\n",
    "\n",
    "    # fold별 confusion matrix 계산\n",
    "    fold_pred_binary = (fold_pred == 'True').astype(int)    # fold_pred를 T/F 형식으로 변환\n",
    "    y_val_fold_binary = y_val_fold.astype(int)              # T/F 형식의 레이블을 0 / 1로 변환\n",
    "\n",
    "    # Confusion matrix & F1 score 계산\n",
    "    cm = confusion_matrix(y_val_fold_binary, fold_pred_binary)\n",
    "    print(\"Confusion Matrix:\")\n",
    "    print(cm)\n",
    "\n",
    "    f1 = f1_score(y_val_fold_binary, fold_pred_binary)\n",
    "    print(f\"F1 Score: {f1:.4f}\")\n",
    "\n",
    "    if is_holdout:\n",
    "        break    "
   ]
  },
  {
   "cell_type": "code",
   "execution_count": 34,
   "id": "7584b4c2",
   "metadata": {},
   "outputs": [
    {
     "data": {
      "text/plain": [
       "[array(['False', 'True', 'False', ..., 'False', 'False', 'False'],\n",
       "       dtype=object),\n",
       " array(['True', 'True', 'True', ..., 'False', 'False', 'False'],\n",
       "       dtype=object),\n",
       " array(['True', 'False', 'False', ..., 'False', 'False', 'False'],\n",
       "       dtype=object),\n",
       " array(['True', 'True', 'True', ..., 'False', 'False', 'False'],\n",
       "       dtype=object),\n",
       " array(['True', 'True', 'True', ..., 'False', 'False', 'False'],\n",
       "       dtype=object)]"
      ]
     },
     "execution_count": 34,
     "metadata": {},
     "output_type": "execute_result"
    }
   ],
   "source": [
    "# 여기에 fold별 예측값 저장되어 있음\n",
    "ensemble_preds"
   ]
  },
  {
   "cell_type": "code",
   "execution_count": 35,
   "id": "5b985734",
   "metadata": {},
   "outputs": [
    {
     "name": "stdout",
     "output_type": "stream",
     "text": [
      "Array 1:\n",
      "Number of True: 1440\n",
      "True Ratio: 12.14%\n",
      "\n",
      "Array 2:\n",
      "Number of True: 1414\n",
      "True Ratio: 11.92%\n",
      "\n",
      "Array 3:\n",
      "Number of True: 1342\n",
      "True Ratio: 11.32%\n",
      "\n",
      "Array 4:\n",
      "Number of True: 1374\n",
      "True Ratio: 11.59%\n",
      "\n",
      "Array 5:\n",
      "Number of True: 1411\n",
      "True Ratio: 11.90%\n",
      "\n"
     ]
    }
   ],
   "source": [
    "for i, preds in enumerate(ensemble_preds, 1):\n",
    "    num_true = np.sum(preds == 'True')\n",
    "    total_samples = len(preds)\n",
    "    true_ratio = num_true / total_samples\n",
    "\n",
    "    print(f\"Array {i}:\")\n",
    "    print(f\"Number of True: {num_true}\")\n",
    "    print(f\"True Ratio: {true_ratio:.2%}\\n\")\n"
   ]
  },
  {
   "cell_type": "code",
   "execution_count": 36,
   "id": "b1749049",
   "metadata": {
    "colab": {
     "base_uri": "https://localhost:8080/"
    },
    "execution": {
     "iopub.execute_input": "2024-02-14T17:40:46.233578Z",
     "iopub.status.busy": "2024-02-14T17:40:46.232619Z",
     "iopub.status.idle": "2024-02-14T17:40:46.238864Z",
     "shell.execute_reply": "2024-02-14T17:40:46.237903Z",
     "shell.execute_reply.started": "2024-02-14T17:40:46.233543Z"
    },
    "id": "AKxYSVo9La8c",
    "outputId": "b5fd9f68-b5ae-4069-8ce4-ff9784c2368f"
   },
   "outputs": [
    {
     "name": "stdout",
     "output_type": "stream",
     "text": [
      "Fold 1 예측값 개수: 11860\n",
      "Fold 2 예측값 개수: 11860\n",
      "Fold 3 예측값 개수: 11860\n",
      "Fold 4 예측값 개수: 11860\n",
      "Fold 5 예측값 개수: 11859\n"
     ]
    }
   ],
   "source": [
    "for idx, preds in enumerate(ensemble_preds):\n",
    "    print(f\"Fold {idx+1} 예측값 개수:\", len(preds))"
   ]
  },
  {
   "cell_type": "code",
   "execution_count": 37,
   "id": "fd55332c",
   "metadata": {
    "execution": {
     "iopub.execute_input": "2024-02-14T17:40:48.851037Z",
     "iopub.status.busy": "2024-02-14T17:40:48.850663Z",
     "iopub.status.idle": "2024-02-14T17:40:48.900193Z",
     "shell.execute_reply": "2024-02-14T17:40:48.899401Z",
     "shell.execute_reply.started": "2024-02-14T17:40:48.851009Z"
    },
    "id": "-EkuB5YKyYxj"
   },
   "outputs": [],
   "source": [
    "# 앙상블을 통한 최종 예측\n",
    "# 5개 모델 중 2개 이상 모델이 1로 예측할 경우\n",
    "\n",
    "final_preds = []\n",
    "\n",
    "for i in range(min(map(len, ensemble_preds))):\n",
    "    # 각 행별로, 모든 fold의 예측값을 가져와서, 해당 위치에서 1(True)로 예측한 모델의 개수를 세서 놓는 list\n",
    "    combined_preds = [ensemble_preds[j][i] == 'True' for j in range(len(ensemble_preds)) if len(ensemble_preds[j]) > i]\n",
    "\n",
    "    # 모든 fold에서 예측값이 있는 경우에만 다수결 적용\n",
    "    if combined_preds:\n",
    "        num_ones = sum(combined_preds)  # 1로 분류된 모델의 개수를 세기 위해 1의 개수를 계산\n",
    "        if num_ones >= 2:               # 2개 이상의 모델이 1로 분류했을 때\n",
    "          final_preds.append(True)\n",
    "        else:\n",
    "          final_preds.append(False)     # 그 외의 경우에는 0으로 예측"
   ]
  },
  {
   "cell_type": "code",
   "execution_count": 38,
   "id": "52a6c8f9",
   "metadata": {},
   "outputs": [
    {
     "name": "stdout",
     "output_type": "stream",
     "text": [
      "Number of True: 1549\n",
      "True Ratio: 13.06%\n"
     ]
    }
   ],
   "source": [
    "# 최종 앙상블 모델\n",
    "num_true_final = np.sum(final_preds)\n",
    "total_samples_final = len(final_preds)\n",
    "true_ratio_final = num_true_final / total_samples_final\n",
    "\n",
    "print(f\"Number of True: {num_true_final}\")\n",
    "print(f\"True Ratio: {true_ratio_final:.2%}\")\n"
   ]
  },
  {
   "cell_type": "markdown",
   "id": "5a66e965",
   "metadata": {
    "id": "6bf2de5f"
   },
   "source": [
    "### 모델 성능 보기"
   ]
  },
  {
   "cell_type": "code",
   "execution_count": 39,
   "id": "c2c4a6fa",
   "metadata": {
    "execution": {
     "iopub.execute_input": "2024-02-14T17:40:55.896428Z",
     "iopub.status.busy": "2024-02-14T17:40:55.895684Z",
     "iopub.status.idle": "2024-02-14T17:40:55.903420Z",
     "shell.execute_reply": "2024-02-14T17:40:55.902252Z",
     "shell.execute_reply.started": "2024-02-14T17:40:55.896391Z"
    },
    "id": "c8871444"
   },
   "outputs": [],
   "source": [
    "# 맞는 공식인지 모르겠음\n",
    "def get_clf_eval(y_test, y_pred=None):\n",
    "    confusion = confusion_matrix(y_test, y_pred, labels=[True, False])\n",
    "    accuracy = accuracy_score(y_test, y_pred)\n",
    "    precision = precision_score(y_test, y_pred, labels=[True, False])\n",
    "    recall = recall_score(y_test, y_pred)\n",
    "    F1 = f1_score(y_test, y_pred, labels=[True, False])\n",
    "\n",
    "    print(\"오차행렬:\\n\", confusion)\n",
    "    print(\"\\n정확도: {:.4f}\".format(accuracy))\n",
    "    print(\"정밀도: {:.4f}\".format(precision))\n",
    "    print(\"재현율: {:.4f}\".format(recall))\n",
    "    print(\"F1: {:.4f}\".format(F1))"
   ]
  },
  {
   "cell_type": "code",
   "execution_count": 40,
   "id": "2e015030",
   "metadata": {
    "colab": {
     "base_uri": "https://localhost:8080/"
    },
    "execution": {
     "iopub.execute_input": "2024-02-14T17:40:56.272463Z",
     "iopub.status.busy": "2024-02-14T17:40:56.272092Z",
     "iopub.status.idle": "2024-02-14T17:40:56.338434Z",
     "shell.execute_reply": "2024-02-14T17:40:56.337612Z",
     "shell.execute_reply.started": "2024-02-14T17:40:56.272434Z"
    },
    "id": "zpToKa_uKpri",
    "outputId": "a04f63a0-c919-486c-88a4-fd7c74ad78d4"
   },
   "outputs": [
    {
     "name": "stdout",
     "output_type": "stream",
     "text": [
      "오차행렬:\n",
      " [[  811   183]\n",
      " [  738 10127]]\n",
      "\n",
      "정확도: 0.9223\n",
      "정밀도: 0.5236\n",
      "재현율: 0.8159\n",
      "F1: 0.6378\n"
     ]
    }
   ],
   "source": [
    "# Validation 데이터에 대한 평가\n",
    "get_clf_eval(y_val_fold, final_preds)"
   ]
  },
  {
   "cell_type": "markdown",
   "id": "7946df3c",
   "metadata": {
    "id": "7adf8300"
   },
   "source": [
    "## 4. Submission Data"
   ]
  },
  {
   "cell_type": "code",
   "execution_count": 41,
   "id": "efe90857",
   "metadata": {
    "execution": {
     "iopub.execute_input": "2024-02-14T17:41:35.213121Z",
     "iopub.status.busy": "2024-02-14T17:41:35.212723Z",
     "iopub.status.idle": "2024-02-14T17:41:35.289100Z",
     "shell.execute_reply": "2024-02-14T17:41:35.288292Z",
     "shell.execute_reply.started": "2024-02-14T17:41:35.213092Z"
    },
    "id": "43daa73c"
   },
   "outputs": [],
   "source": [
    "# 예측에 필요한 데이터 분리\n",
    "x_test = df_test.drop([\"is_converted\", \"id\"], axis=1)\n",
    "x_test[cat_features] = x_test[cat_features].astype('str')\n",
    "\n",
    "\n",
    "# 결측치를 최빈값으로 대체\n",
    "imputer = SimpleImputer(strategy='most_frequent')\n",
    "x_test_imputed = pd.DataFrame(imputer.fit_transform(x_test), columns=x_test.columns)\n",
    "\n",
    "x_test_imputed[cat_features] = x_test_imputed[cat_features].astype('str')"
   ]
  },
  {
   "cell_type": "code",
   "execution_count": 42,
   "id": "292b0aae",
   "metadata": {
    "execution": {
     "iopub.execute_input": "2024-02-14T17:41:41.783199Z",
     "iopub.status.busy": "2024-02-14T17:41:41.782801Z",
     "iopub.status.idle": "2024-02-14T17:41:42.050223Z",
     "shell.execute_reply": "2024-02-14T17:41:42.049228Z",
     "shell.execute_reply.started": "2024-02-14T17:41:41.783172Z"
    },
    "id": "9C9mPATHM8rX"
   },
   "outputs": [],
   "source": [
    "# Test 데이터 예측\n",
    "test_preds = []\n",
    "for model in best_models:\n",
    "    test_pred = model.predict(x_test_imputed)\n",
    "    test_preds.append(test_pred)"
   ]
  },
  {
   "cell_type": "code",
   "execution_count": 43,
   "id": "0469bf8a",
   "metadata": {
    "execution": {
     "iopub.execute_input": "2024-02-14T17:41:43.553636Z",
     "iopub.status.busy": "2024-02-14T17:41:43.552893Z",
     "iopub.status.idle": "2024-02-14T17:41:43.574080Z",
     "shell.execute_reply": "2024-02-14T17:41:43.573084Z",
     "shell.execute_reply.started": "2024-02-14T17:41:43.553606Z"
    },
    "id": "Kf31I96YyKj4"
   },
   "outputs": [],
   "source": [
    "# 앙상블을 통한 최종 예측/5개 모델 중 2개 이상 모델이 1로 예측할 경우        \n",
    "final_test_preds = []\n",
    "\n",
    "for i in range(len(test_preds[0])):\n",
    "    # combined_test_preds = [test_preds[j][i] for j in range(len(test_preds))]\n",
    "    combined_test_preds = [test_preds[j][i] == 'True' for j in range(len(test_preds))]\n",
    "    num_ones = sum(combined_test_preds)  # 1로 분류된 모델의 개수를 세기 위해 True의 개수를 계산\n",
    "    if num_ones >= 2:  # 2개 이상의 모델이 True로 분류했을 때\n",
    "        final_test_preds.append(True)\n",
    "    else:\n",
    "        final_test_preds.append(False)  # 그 외의 경우에는 False로 예측\n"
   ]
  },
  {
   "cell_type": "code",
   "execution_count": 44,
   "id": "b59594cd",
   "metadata": {
    "colab": {
     "base_uri": "https://localhost:8080/"
    },
    "execution": {
     "iopub.execute_input": "2024-02-14T17:41:44.599742Z",
     "iopub.status.busy": "2024-02-14T17:41:44.599322Z",
     "iopub.status.idle": "2024-02-14T17:41:44.606836Z",
     "shell.execute_reply": "2024-02-14T17:41:44.605608Z",
     "shell.execute_reply.started": "2024-02-14T17:41:44.599711Z"
    },
    "id": "d13f7a6e",
    "outputId": "53943b2e-cd6b-40c1-f418-b7aed573cfa8"
   },
   "outputs": [
    {
     "data": {
      "text/plain": [
       "2302"
      ]
     },
     "execution_count": 44,
     "metadata": {},
     "output_type": "execute_result"
    }
   ],
   "source": [
    "sum(final_test_preds) # True로 예측된 개수"
   ]
  },
  {
   "cell_type": "code",
   "execution_count": 45,
   "id": "553e25c5",
   "metadata": {
    "execution": {
     "iopub.execute_input": "2024-02-14T16:58:24.385876Z",
     "iopub.status.busy": "2024-02-14T16:58:24.385171Z",
     "iopub.status.idle": "2024-02-14T16:58:24.538928Z",
     "shell.execute_reply": "2024-02-14T16:58:24.538163Z",
     "shell.execute_reply.started": "2024-02-14T16:58:24.385843Z"
    },
    "id": "j4ax7lNvNgao"
   },
   "outputs": [],
   "source": [
    "# Submission 파일에 모델 예측값 추가\n",
    "df_sub = pd.read_csv(\"submission.csv\")\n",
    "df_sub[\"is_converted\"] = final_test_preds\n",
    "df_sub.to_csv(\"submission_1.csv\", index=False)"
   ]
  }
 ],
 "metadata": {
  "colab": {
   "provenance": []
  },
  "kaggle": {
   "accelerator": "nvidiaTeslaT4",
   "dataSources": [
    {
     "datasetId": 4417848,
     "sourceId": 7589661,
     "sourceType": "datasetVersion"
    },
    {
     "datasetId": 4427290,
     "sourceId": 7604656,
     "sourceType": "datasetVersion"
    }
   ],
   "dockerImageVersionId": 30648,
   "isGpuEnabled": true,
   "isInternetEnabled": true,
   "language": "python",
   "sourceType": "notebook"
  },
  "kernelspec": {
   "display_name": "Python 3 (ipykernel)",
   "language": "python",
   "name": "python3"
  },
  "language_info": {
   "codemirror_mode": {
    "name": "ipython",
    "version": 3
   },
   "file_extension": ".py",
   "mimetype": "text/x-python",
   "name": "python",
   "nbconvert_exporter": "python",
   "pygments_lexer": "ipython3",
   "version": "3.9.6"
  }
 },
 "nbformat": 4,
 "nbformat_minor": 5
}
